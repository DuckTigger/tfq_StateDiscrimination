{
 "cells": [
  {
   "cell_type": "markdown",
   "metadata": {
    "colab_type": "text",
    "id": "xLOXFOT5Q40E"
   },
   "source": [
    "##### Copyright 2020 The TensorFlow Authors."
   ]
  },
  {
   "cell_type": "code",
   "execution_count": 1,
   "metadata": {
    "cellView": "form",
    "colab": {},
    "colab_type": "code",
    "id": "iiQkM5ZgQ8r2"
   },
   "outputs": [],
   "source": [
    "#@title Licensed under the Apache License, Version 2.0 (the \"License\");\n",
    "# you may not use this file except in compliance with the License.\n",
    "# You may obtain a copy of the License at\n",
    "#\n",
    "# https://www.apache.org/licenses/LICENSE-2.0\n",
    "#\n",
    "# Unless required by applicable law or agreed to in writing, software\n",
    "# distributed under the License is distributed on an \"AS IS\" BASIS,\n",
    "# WITHOUT WARRANTIES OR CONDITIONS OF ANY KIND, either express or implied.\n",
    "# See the License for the specific language governing permissions and\n",
    "# limitations under the License."
   ]
  },
  {
   "cell_type": "markdown",
   "metadata": {
    "colab_type": "text",
    "id": "uLeF5Nmdef0V"
   },
   "source": [
    "# Quantum Convolutional Neural Network"
   ]
  },
  {
   "cell_type": "markdown",
   "metadata": {
    "colab_type": "text",
    "id": "i9Jcnb8bQQyd"
   },
   "source": [
    "<table class=\"tfo-notebook-buttons\" align=\"left\">\n",
    "  <td>\n",
    "    <a target=\"_blank\" href=\"https://www.tensorflow.org/quantum/tutorials/qcnn\"><img src=\"https://www.tensorflow.org/images/tf_logo_32px.png\" />View on TensorFlow.org</a>\n",
    "  </td>\n",
    "  <td>\n",
    "    <a target=\"_blank\" href=\"https://colab.research.google.com/github/tensorflow/quantum/blob/master/docs/tutorials/qcnn.ipynb\"><img src=\"https://www.tensorflow.org/images/colab_logo_32px.png\" />Run in Google Colab</a>\n",
    "  </td>\n",
    "  <td>\n",
    "    <a target=\"_blank\" href=\"https://github.com/tensorflow/quantum/blob/master/docs/tutorials/qcnn.ipynb\"><img src=\"https://www.tensorflow.org/images/GitHub-Mark-32px.png\" />View source on GitHub</a>\n",
    "  </td>\n",
    "  <td>\n",
    "    <a href=\"https://storage.googleapis.com/tensorflow_docs/quantum/docs/tutorials/qcnn.ipynb\"><img src=\"https://www.tensorflow.org/images/download_logo_32px.png\" />Download notebook</a>\n",
    "  </td>\n",
    "</table>"
   ]
  },
  {
   "cell_type": "markdown",
   "metadata": {
    "colab_type": "text",
    "id": "4D3xaWBHOIVg"
   },
   "source": [
    "This tutorial implements a simplified <a href=\"https://www.nature.com/articles/s41567-019-0648-8\" class=\"external\">Quantum Convolutional Neural Network</a> (QCNN), a proposed quantum analogue to a classical convolutional neural network that is also *translationally invariant*.\n",
    "\n",
    "This example demonstrates how to detect certain properties of a quantum data source, such as a quantum sensor or a complex simulation from a device. The quantum data source being a <a href=\"https://arxiv.org/pdf/quant-ph/0504097.pdf\" class=\"external\">cluster state</a> that may or may not have an excitation—what the QCNN will learn to detect (The dataset used in the paper was SPT phase classification)."
   ]
  },
  {
   "cell_type": "markdown",
   "metadata": {
    "colab_type": "text",
    "id": "FnjolLuz8o5C"
   },
   "source": [
    "## Setup"
   ]
  },
  {
   "cell_type": "code",
   "execution_count": 1,
   "metadata": {
    "colab": {},
    "colab_type": "code",
    "id": "Aquwcz-0aHqz"
   },
   "outputs": [],
   "source": [
    "try:\n",
    "    # %tensorflow_version only works in Colab.\n",
    "    %tensorflow_version 2.x\n",
    "except Exception:\n",
    "    pass"
   ]
  },
  {
   "cell_type": "markdown",
   "metadata": {
    "colab_type": "text",
    "id": "e_ZuLN_N8yhT"
   },
   "source": [
    "Install TensorFlow Quantum:"
   ]
  },
  {
   "cell_type": "code",
   "execution_count": 2,
   "metadata": {
    "colab": {},
    "colab_type": "code",
    "id": "3Pl5PW-ACO9J"
   },
   "outputs": [],
   "source": [
    "#!pip install -q tensorflow-quantum"
   ]
  },
  {
   "cell_type": "markdown",
   "metadata": {
    "colab_type": "text",
    "id": "TL_LvHXzPNjW"
   },
   "source": [
    "Now import TensorFlow and the module dependencies:"
   ]
  },
  {
   "cell_type": "code",
   "execution_count": 3,
   "metadata": {
    "colab": {},
    "colab_type": "code",
    "id": "QytLEAtoejW5"
   },
   "outputs": [],
   "source": [
    "import tensorflow as tf\n",
    "import tensorflow_quantum as tfq\n",
    "\n",
    "import cirq\n",
    "import sympy\n",
    "import numpy as np\n",
    "\n",
    "# visualization tools\n",
    "%matplotlib inline\n",
    "import matplotlib.pyplot as plt\n",
    "from cirq.contrib.svg import SVGCircuit"
   ]
  },
  {
   "cell_type": "markdown",
   "metadata": {
    "colab_type": "text",
    "id": "j6331ZSsQGY3"
   },
   "source": [
    "## 1. Build a QCNN"
   ]
  },
  {
   "cell_type": "markdown",
   "metadata": {
    "colab_type": "text",
    "id": "Qg85u3G--CGq"
   },
   "source": [
    "### 1.1 Assemble circuits in a TensorFlow graph\n",
    "\n",
    "TensorFlow Quantum (TFQ) provides layer classes designed for in-graph circuit construction. One example is the `tfq.layers.AddCircuit` layer that inherits from `tf.keras.Layer`. This layer can either prepend or append to the input batch of circuits, as shown in the following figure.\n",
    "\n",
    "<img src=\"./images/qcnn_1.png\" width=\"700\">\n",
    "\n",
    "The following snippet uses this layer:"
   ]
  },
  {
   "cell_type": "code",
   "execution_count": 4,
   "metadata": {
    "colab": {},
    "colab_type": "code",
    "id": "FhNf0G_OPLqZ"
   },
   "outputs": [],
   "source": [
    "qubit = cirq.GridQubit(0, 0)\n",
    "\n",
    "# Define some circuits.\n",
    "circuit1 = cirq.Circuit(cirq.X(qubit))\n",
    "circuit2 = cirq.Circuit(cirq.H(qubit))\n",
    "\n",
    "# Convert to a tensor.\n",
    "input_circuit_tensor = tfq.convert_to_tensor([circuit1, circuit2])\n",
    "\n",
    "# Define a circuit that we want to append\n",
    "y_circuit = cirq.Circuit(cirq.Y(qubit))\n",
    "\n",
    "# Instantiate our layer\n",
    "y_appender = tfq.layers.AddCircuit()\n",
    "\n",
    "# Run our circuit tensor through the layer and save the output.\n",
    "output_circuit_tensor = y_appender(input_circuit_tensor, append=y_circuit)"
   ]
  },
  {
   "cell_type": "markdown",
   "metadata": {
    "colab_type": "text",
    "id": "ShZbRZCXkvk5"
   },
   "source": [
    "Examine the input tensor:"
   ]
  },
  {
   "cell_type": "code",
   "execution_count": 5,
   "metadata": {
    "colab": {},
    "colab_type": "code",
    "id": "ImRynsUN4BSG"
   },
   "outputs": [
    {
     "name": "stdout",
     "output_type": "stream",
     "text": [
      "[cirq.Circuit([\n",
      "    cirq.Moment(operations=[\n",
      "        cirq.X.on(cirq.GridQubit(0, 0)),\n",
      "    ]),\n",
      "])\n",
      " cirq.Circuit([\n",
      "    cirq.Moment(operations=[\n",
      "        cirq.H.on(cirq.GridQubit(0, 0)),\n",
      "    ]),\n",
      "])]\n"
     ]
    }
   ],
   "source": [
    "print(tfq.from_tensor(input_circuit_tensor))"
   ]
  },
  {
   "cell_type": "markdown",
   "metadata": {
    "colab_type": "text",
    "id": "xkGU4ZTUk4gf"
   },
   "source": [
    "And examine the output tensor:"
   ]
  },
  {
   "cell_type": "code",
   "execution_count": 6,
   "metadata": {
    "colab": {},
    "colab_type": "code",
    "id": "tfff6dJp39Fg"
   },
   "outputs": [
    {
     "name": "stdout",
     "output_type": "stream",
     "text": [
      "[cirq.Circuit([\n",
      "    cirq.Moment(operations=[\n",
      "        cirq.X.on(cirq.GridQubit(0, 0)),\n",
      "    ]),\n",
      "    cirq.Moment(operations=[\n",
      "        cirq.Y.on(cirq.GridQubit(0, 0)),\n",
      "    ]),\n",
      "])\n",
      " cirq.Circuit([\n",
      "    cirq.Moment(operations=[\n",
      "        cirq.H.on(cirq.GridQubit(0, 0)),\n",
      "    ]),\n",
      "    cirq.Moment(operations=[\n",
      "        cirq.Y.on(cirq.GridQubit(0, 0)),\n",
      "    ]),\n",
      "])]\n"
     ]
    }
   ],
   "source": [
    "print(tfq.from_tensor(output_circuit_tensor))"
   ]
  },
  {
   "cell_type": "markdown",
   "metadata": {
    "colab_type": "text",
    "id": "23JeZ7Ns5qy5"
   },
   "source": [
    "While it is possible to run the examples below without using `tfq.layers.AddCircuit`, it's a good opportunity to understand how complex functionality can be embedded into TensorFlow compute graphs."
   ]
  },
  {
   "cell_type": "markdown",
   "metadata": {
    "colab_type": "text",
    "id": "GcVplt9455Hi"
   },
   "source": [
    "### 1.2 Problem overview\n",
    "\n",
    "You will prepare a *cluster state* and train a quantum classifier to detect if it is \"excited\" or not. The cluster state is highly entangled but not necessarily difficult for a classical computer. For clarity, this is a simpler dataset than the one used in the paper.\n",
    "\n",
    "For this classification task you will implement a deep <a href=\"https://arxiv.org/pdf/quant-ph/0610099.pdf\" class=\"external\">MERA</a>-like QCNN architecture since:\n",
    "\n",
    "1.   Like the QCNN, the cluster state on a ring is translationally invariant.\n",
    "2.   The cluster state is highly entangled.\n",
    "\n",
    "This architecture should be effective at reducing entanglement, obtaining the classification by reading out a single qubit.\n",
    "\n",
    "<img src=\"./images/qcnn_2.png\" width=\"1000\">\n",
    "\n",
    "An \"excited\" cluster state is defined as a cluster state that had a `cirq.Rx` gate applied to any of its qubits. Qconv and QPool are discussed later in this tutorial."
   ]
  },
  {
   "cell_type": "markdown",
   "metadata": {
    "colab_type": "text",
    "id": "jpqtsGJH_I1d"
   },
   "source": [
    "### 1.3 Building blocks for TensorFlow\n",
    "\n",
    "<img src=\"./images/qcnn_3.png\" width=\"1000\">\n",
    "\n",
    "One way to solve this problem with TensorFlow Quantum is to implement the following:\n",
    "\n",
    "1. The input to the model is a circuit tensor—either an empty circuit or an X gate on a particular qubit indicating an excitation.\n",
    "2. The rest of the model's quantum components are constructed with `tfq.layers.AddCircuit` layers.\n",
    "3. For inference a `tfq.layers.PQC` layer is used. This reads $\\langle \\hat{Z} \\rangle$ and compares it to a label of 1 for an excited state, or -1 for a non-excited state."
   ]
  },
  {
   "cell_type": "markdown",
   "metadata": {
    "colab_type": "text",
    "id": "oa7Q3m_ThDgO"
   },
   "source": [
    "### 1.4 Data\n",
    "Before building your model, you can generate your data. In this case it's going to be excitations to the cluster state (The original paper uses a more complicated dataset). Excitations are represented with `cirq.Rx` gates. A large enough rotation is deemed an excitation and is labeled `1` and a rotation that isn't large enough is labeled `-1` and deemed not an excitation."
   ]
  },
  {
   "cell_type": "code",
   "execution_count": 7,
   "metadata": {
    "colab": {},
    "colab_type": "code",
    "id": "iUrvTCU1hDgP"
   },
   "outputs": [],
   "source": [
    "def generate_data(qubits):\n",
    "    \"\"\"Generate training and testing data.\"\"\"\n",
    "    n_rounds = 20  # Produces n_rounds * n_qubits datapoints.\n",
    "    excitations = []\n",
    "    labels = []\n",
    "    for n in range(n_rounds):\n",
    "        for bit in qubits:\n",
    "            rng = np.random.uniform(-np.pi, np.pi)\n",
    "            excitations.append(cirq.Circuit(cirq.Rx(rng)(bit)))\n",
    "            labels.append(1 if (-np.pi / 2) <= rng <= (np.pi / 2) else -1)\n",
    "\n",
    "    split_ind = int(len(excitations) * 0.7)\n",
    "    train_excitations = excitations[:split_ind]\n",
    "    test_excitations = excitations[split_ind:]\n",
    "\n",
    "    train_labels = labels[:split_ind]\n",
    "    test_labels = labels[split_ind:]\n",
    "\n",
    "    return tfq.convert_to_tensor(train_excitations), np.array(train_labels), \\\n",
    "        tfq.convert_to_tensor(test_excitations), np.array(test_labels)"
   ]
  },
  {
   "cell_type": "markdown",
   "metadata": {
    "colab_type": "text",
    "id": "wGsDkZnrhDgS"
   },
   "source": [
    "You can see that just like with regular machine learning you create a training and testing set to use to benchmark the model. You can quickly look at some datapoints with:"
   ]
  },
  {
   "cell_type": "code",
   "execution_count": 8,
   "metadata": {
    "colab": {},
    "colab_type": "code",
    "id": "eLJ-JHOihDgT"
   },
   "outputs": [
    {
     "name": "stdout",
     "output_type": "stream",
     "text": [
      "Input: (0, 0): ───Rx(0.936π)─── Output: -1\n",
      "Input: (0, 1): ───Rx(-0.198π)─── Output: 1\n"
     ]
    },
    {
     "name": "stderr",
     "output_type": "stream",
     "text": [
      "C:\\tools\\Anaconda3\\envs\\Quantum\\lib\\site-packages\\ipykernel_launcher.py:9: DeprecationWarning: Rx was used but is deprecated.\n",
      "It will be removed in cirq v0.8.0.\n",
      "Use cirq.rx, instead.\n",
      "\n",
      "  if __name__ == '__main__':\n"
     ]
    }
   ],
   "source": [
    "sample_points, sample_labels, _, __ = generate_data(cirq.GridQubit.rect(1, 4))\n",
    "print('Input:', tfq.from_tensor(sample_points)[0], 'Output:', sample_labels[0])\n",
    "print('Input:', tfq.from_tensor(sample_points)[1], 'Output:', sample_labels[1])"
   ]
  },
  {
   "cell_type": "markdown",
   "metadata": {
    "colab_type": "text",
    "id": "sFiRlDt_0-DL"
   },
   "source": [
    "### 1.5 Define layers\n",
    "\n",
    "Now define the layers shown in the figure above in TensorFlow."
   ]
  },
  {
   "cell_type": "markdown",
   "metadata": {
    "colab_type": "text",
    "id": "s2B9geIqLWHK"
   },
   "source": [
    "#### 1.5.1 Cluster state\n",
    "\n",
    "The first step is to define the <a href=\"https://arxiv.org/pdf/quant-ph/0504097.pdf\" class=\"external\">cluster state</a> using <a href=\"https://github.com/quantumlib/Cirq\" class=\"external\">Cirq</a>, a Google-provided framework for programming quantum circuits. Since this is a static part of the model, embed it using the `tfq.layers.AddCircuit` functionality."
   ]
  },
  {
   "cell_type": "code",
   "execution_count": 9,
   "metadata": {
    "colab": {},
    "colab_type": "code",
    "id": "qpQwVWKazU8g"
   },
   "outputs": [],
   "source": [
    "def cluster_state_circuit(bits):\n",
    "    \"\"\"Return a cluster state on the qubits in `bits`.\"\"\"\n",
    "    circuit = cirq.Circuit()\n",
    "    circuit.append(cirq.H.on_each(bits))\n",
    "    for this_bit, next_bit in zip(bits, bits[1:] + [bits[0]]):\n",
    "        circuit.append(cirq.CZ(this_bit, next_bit))\n",
    "    return circuit"
   ]
  },
  {
   "cell_type": "markdown",
   "metadata": {
    "colab_type": "text",
    "id": "e9qX1uN740vJ"
   },
   "source": [
    "Display a cluster state circuit for a rectangle of <a href=\"https://cirq.readthedocs.io/en/stable/generated/cirq.GridQubit.html\" class=\"external\"><code>cirq.GridQubit</code></a>s:"
   ]
  },
  {
   "cell_type": "code",
   "execution_count": 10,
   "metadata": {
    "colab": {},
    "colab_type": "code",
    "id": "9tZt0aAO4r4F"
   },
   "outputs": [
    {
     "data": {
      "image/svg+xml": [
       "<svg xmlns=\"http://www.w3.org/2000/svg\" width=\"404.49359375\" height=\"200.0\"><line x1=\"32.246796875\" x2=\"374.49359375\" y1=\"25.0\" y2=\"25.0\" stroke=\"#1967d2\" stroke-width=\"1\" /><line x1=\"32.246796875\" x2=\"374.49359375\" y1=\"75.0\" y2=\"75.0\" stroke=\"#1967d2\" stroke-width=\"1\" /><line x1=\"32.246796875\" x2=\"374.49359375\" y1=\"125.0\" y2=\"125.0\" stroke=\"#1967d2\" stroke-width=\"1\" /><line x1=\"32.246796875\" x2=\"374.49359375\" y1=\"175.0\" y2=\"175.0\" stroke=\"#1967d2\" stroke-width=\"1\" /><line x1=\"154.49359375\" x2=\"154.49359375\" y1=\"25.0\" y2=\"75.0\" stroke=\"black\" stroke-width=\"3\" /><line x1=\"214.49359375\" x2=\"214.49359375\" y1=\"75.0\" y2=\"125.0\" stroke=\"black\" stroke-width=\"3\" /><line x1=\"274.49359375\" x2=\"274.49359375\" y1=\"125.0\" y2=\"175.0\" stroke=\"black\" stroke-width=\"3\" /><line x1=\"334.49359375\" x2=\"334.49359375\" y1=\"25.0\" y2=\"175.0\" stroke=\"black\" stroke-width=\"3\" /><rect x=\"10.0\" y=\"5.0\" width=\"44.49359375\" height=\"40\" stroke=\"black\" fill=\"white\" stroke-width=\"0\" /><text x=\"32.246796875\" y=\"25.0\" dominant-baseline=\"middle\" text-anchor=\"middle\" font-size=\"14px\">(0, 0): </text><rect x=\"10.0\" y=\"55.0\" width=\"44.49359375\" height=\"40\" stroke=\"black\" fill=\"white\" stroke-width=\"0\" /><text x=\"32.246796875\" y=\"75.0\" dominant-baseline=\"middle\" text-anchor=\"middle\" font-size=\"14px\">(0, 1): </text><rect x=\"10.0\" y=\"105.0\" width=\"44.49359375\" height=\"40\" stroke=\"black\" fill=\"white\" stroke-width=\"0\" /><text x=\"32.246796875\" y=\"125.0\" dominant-baseline=\"middle\" text-anchor=\"middle\" font-size=\"14px\">(0, 2): </text><rect x=\"10.0\" y=\"155.0\" width=\"44.49359375\" height=\"40\" stroke=\"black\" fill=\"white\" stroke-width=\"0\" /><text x=\"32.246796875\" y=\"175.0\" dominant-baseline=\"middle\" text-anchor=\"middle\" font-size=\"14px\">(0, 3): </text><rect x=\"74.49359375\" y=\"5.0\" width=\"40\" height=\"40\" stroke=\"black\" fill=\"white\" stroke-width=\"1\" /><text x=\"94.49359375\" y=\"25.0\" dominant-baseline=\"middle\" text-anchor=\"middle\" font-size=\"18px\">H</text><rect x=\"74.49359375\" y=\"55.0\" width=\"40\" height=\"40\" stroke=\"black\" fill=\"white\" stroke-width=\"1\" /><text x=\"94.49359375\" y=\"75.0\" dominant-baseline=\"middle\" text-anchor=\"middle\" font-size=\"18px\">H</text><rect x=\"74.49359375\" y=\"105.0\" width=\"40\" height=\"40\" stroke=\"black\" fill=\"white\" stroke-width=\"1\" /><text x=\"94.49359375\" y=\"125.0\" dominant-baseline=\"middle\" text-anchor=\"middle\" font-size=\"18px\">H</text><rect x=\"74.49359375\" y=\"155.0\" width=\"40\" height=\"40\" stroke=\"black\" fill=\"white\" stroke-width=\"1\" /><text x=\"94.49359375\" y=\"175.0\" dominant-baseline=\"middle\" text-anchor=\"middle\" font-size=\"18px\">H</text><circle cx=\"154.49359375\" cy=\"25.0\" r=\"10.0\" /><circle cx=\"154.49359375\" cy=\"75.0\" r=\"10.0\" /><circle cx=\"214.49359375\" cy=\"75.0\" r=\"10.0\" /><circle cx=\"214.49359375\" cy=\"125.0\" r=\"10.0\" /><circle cx=\"274.49359375\" cy=\"125.0\" r=\"10.0\" /><circle cx=\"274.49359375\" cy=\"175.0\" r=\"10.0\" /><circle cx=\"334.49359375\" cy=\"175.0\" r=\"10.0\" /><circle cx=\"334.49359375\" cy=\"25.0\" r=\"10.0\" /></svg>"
      ],
      "text/plain": [
       "<cirq.contrib.svg.svg.SVGCircuit at 0x2d156218278>"
      ]
     },
     "execution_count": 10,
     "metadata": {},
     "output_type": "execute_result"
    }
   ],
   "source": [
    "SVGCircuit(cluster_state_circuit(cirq.GridQubit.rect(1, 4)))"
   ]
  },
  {
   "cell_type": "markdown",
   "metadata": {
    "colab_type": "text",
    "id": "4xElWnRf1ZC7"
   },
   "source": [
    "#### 1.5.2 QCNN layers\n",
    "\n",
    "Define the layers that make up the model using the <a href=\"https://arxiv.org/abs/1810.03787\" class=\"external\">Cong and Lukin QCNN paper</a>. There are a few prerequisites:\n",
    "\n",
    "* The one- and two-qubit parameterized unitary matrices from the <a href=\"https://arxiv.org/abs/quant-ph/0507171\" class=\"external\">Tucci paper</a>.\n",
    "* A general parameterized two-qubit pooling operation."
   ]
  },
  {
   "cell_type": "code",
   "execution_count": 11,
   "metadata": {
    "colab": {},
    "colab_type": "code",
    "id": "oNRGOqky2exY"
   },
   "outputs": [],
   "source": [
    "def one_qubit_unitary(bit, symbols):\n",
    "    \"\"\"Make a Cirq circuit enacting a rotation of the bloch sphere about the X,\n",
    "    Y and Z axis, that depends on the values in `symbols`.\n",
    "    \"\"\"\n",
    "    return cirq.Circuit(\n",
    "        cirq.X(bit)**symbols[0],\n",
    "        cirq.Y(bit)**symbols[1],\n",
    "        cirq.Z(bit)**symbols[2])\n",
    "\n",
    "\n",
    "def two_qubit_unitary(bits, symbols):\n",
    "    \"\"\"Make a Cirq circuit that creates an arbitrary two qubit unitary.\"\"\"\n",
    "    circuit = cirq.Circuit()\n",
    "    circuit += one_qubit_unitary(bits[0], symbols[0:3])\n",
    "    circuit += one_qubit_unitary(bits[1], symbols[3:6])\n",
    "    circuit += [cirq.ZZ(*bits)**symbols[7]]\n",
    "    circuit += [cirq.YY(*bits)**symbols[8]]\n",
    "    circuit += [cirq.XX(*bits)**symbols[9]]\n",
    "    circuit += one_qubit_unitary(bits[0], symbols[9:12])\n",
    "    circuit += one_qubit_unitary(bits[1], symbols[12:])\n",
    "    return circuit\n",
    "\n",
    "\n",
    "def two_qubit_pool(source_qubit, sink_qubit, symbols):\n",
    "    \"\"\"Make a Cirq circuit to do a parameterized 'pooling' operation, which\n",
    "    attempts to reduce entanglement down from two qubits to just one.\"\"\"\n",
    "    pool_circuit = cirq.Circuit()\n",
    "    sink_basis_selector = one_qubit_unitary(sink_qubit, symbols[0:3])\n",
    "    source_basis_selector = one_qubit_unitary(source_qubit, symbols[3:6])\n",
    "    pool_circuit.append(sink_basis_selector)\n",
    "    pool_circuit.append(source_basis_selector)\n",
    "    pool_circuit.append(cirq.CNOT(control=source_qubit, target=sink_qubit))\n",
    "    pool_circuit.append(sink_basis_selector**-1)\n",
    "    return pool_circuit"
   ]
  },
  {
   "cell_type": "markdown",
   "metadata": {
    "colab_type": "text",
    "id": "LoG0a3U_2qGA"
   },
   "source": [
    "To see what you created, print out the one-qubit unitary circuit:"
   ]
  },
  {
   "cell_type": "code",
   "execution_count": 12,
   "metadata": {
    "colab": {},
    "colab_type": "code",
    "id": "T5uhvF-g2rpZ"
   },
   "outputs": [
    {
     "data": {
      "image/svg+xml": [
       "<svg xmlns=\"http://www.w3.org/2000/svg\" width=\"284.49359375\" height=\"50.0\"><line x1=\"32.246796875\" x2=\"254.49359375\" y1=\"25.0\" y2=\"25.0\" stroke=\"#1967d2\" stroke-width=\"1\" /><rect x=\"10.0\" y=\"5.0\" width=\"44.49359375\" height=\"40\" stroke=\"black\" fill=\"white\" stroke-width=\"0\" /><text x=\"32.246796875\" y=\"25.0\" dominant-baseline=\"middle\" text-anchor=\"middle\" font-size=\"14px\">(0, 0): </text><rect x=\"74.49359375\" y=\"5.0\" width=\"40\" height=\"40\" stroke=\"black\" fill=\"white\" stroke-width=\"1\" /><text x=\"94.49359375\" y=\"25.0\" dominant-baseline=\"middle\" text-anchor=\"middle\" font-size=\"14px\">X^x0</text><rect x=\"134.49359375\" y=\"5.0\" width=\"40\" height=\"40\" stroke=\"black\" fill=\"white\" stroke-width=\"1\" /><text x=\"154.49359375\" y=\"25.0\" dominant-baseline=\"middle\" text-anchor=\"middle\" font-size=\"14px\">Y^x1</text><rect x=\"194.49359375\" y=\"5.0\" width=\"40\" height=\"40\" stroke=\"black\" fill=\"white\" stroke-width=\"1\" /><text x=\"214.49359375\" y=\"25.0\" dominant-baseline=\"middle\" text-anchor=\"middle\" font-size=\"14px\">Z^x2</text></svg>"
      ],
      "text/plain": [
       "<cirq.contrib.svg.svg.SVGCircuit at 0x2d1561f3f28>"
      ]
     },
     "execution_count": 12,
     "metadata": {},
     "output_type": "execute_result"
    }
   ],
   "source": [
    "SVGCircuit(one_qubit_unitary(cirq.GridQubit(0, 0), sympy.symbols('x0:3')))"
   ]
  },
  {
   "cell_type": "markdown",
   "metadata": {
    "colab_type": "text",
    "id": "NWuMb_Us8ar2"
   },
   "source": [
    "And the two-qubit unitary circuit:"
   ]
  },
  {
   "cell_type": "code",
   "execution_count": 13,
   "metadata": {
    "colab": {},
    "colab_type": "code",
    "id": "aJTdRrfS2uIo"
   },
   "outputs": [
    {
     "data": {
      "image/svg+xml": [
       "<svg xmlns=\"http://www.w3.org/2000/svg\" width=\"1064.5796875\" height=\"100.0\"><line x1=\"32.246796875\" x2=\"1034.5796875\" y1=\"25.0\" y2=\"25.0\" stroke=\"#1967d2\" stroke-width=\"1\" /><line x1=\"32.246796875\" x2=\"1034.5796875\" y1=\"75.0\" y2=\"75.0\" stroke=\"#1967d2\" stroke-width=\"1\" /><line x1=\"458.26548828125\" x2=\"458.26548828125\" y1=\"25.0\" y2=\"75.0\" stroke=\"black\" stroke-width=\"3\" /><line x1=\"526.72447265625\" x2=\"526.72447265625\" y1=\"25.0\" y2=\"75.0\" stroke=\"black\" stroke-width=\"3\" /><line x1=\"596.0888085937501\" x2=\"596.0888085937501\" y1=\"25.0\" y2=\"75.0\" stroke=\"black\" stroke-width=\"3\" /><rect x=\"10.0\" y=\"5.0\" width=\"44.49359375\" height=\"40\" stroke=\"black\" fill=\"white\" stroke-width=\"0\" /><text x=\"32.246796875\" y=\"25.0\" dominant-baseline=\"middle\" text-anchor=\"middle\" font-size=\"14px\">(0, 0): </text><rect x=\"10.0\" y=\"55.0\" width=\"44.49359375\" height=\"40\" stroke=\"black\" fill=\"white\" stroke-width=\"0\" /><text x=\"32.246796875\" y=\"75.0\" dominant-baseline=\"middle\" text-anchor=\"middle\" font-size=\"14px\">(0, 1): </text><rect x=\"74.49359375\" y=\"5.0\" width=\"40\" height=\"40\" stroke=\"black\" fill=\"white\" stroke-width=\"1\" /><text x=\"94.49359375\" y=\"25.0\" dominant-baseline=\"middle\" text-anchor=\"middle\" font-size=\"14px\">X^x0</text><rect x=\"134.49359375\" y=\"5.0\" width=\"40\" height=\"40\" stroke=\"black\" fill=\"white\" stroke-width=\"1\" /><text x=\"154.49359375\" y=\"25.0\" dominant-baseline=\"middle\" text-anchor=\"middle\" font-size=\"14px\">Y^x1</text><rect x=\"194.49359375\" y=\"5.0\" width=\"40\" height=\"40\" stroke=\"black\" fill=\"white\" stroke-width=\"1\" /><text x=\"214.49359375\" y=\"25.0\" dominant-baseline=\"middle\" text-anchor=\"middle\" font-size=\"14px\">Z^x2</text><rect x=\"254.49359375\" y=\"55.0\" width=\"40\" height=\"40\" stroke=\"black\" fill=\"white\" stroke-width=\"1\" /><text x=\"274.49359375\" y=\"75.0\" dominant-baseline=\"middle\" text-anchor=\"middle\" font-size=\"14px\">X^x3</text><rect x=\"314.49359375\" y=\"55.0\" width=\"40\" height=\"40\" stroke=\"black\" fill=\"white\" stroke-width=\"1\" /><text x=\"334.49359375\" y=\"75.0\" dominant-baseline=\"middle\" text-anchor=\"middle\" font-size=\"14px\">Y^x4</text><rect x=\"374.49359375\" y=\"55.0\" width=\"40\" height=\"40\" stroke=\"black\" fill=\"white\" stroke-width=\"1\" /><text x=\"394.49359375\" y=\"75.0\" dominant-baseline=\"middle\" text-anchor=\"middle\" font-size=\"14px\">Z^x5</text><rect x=\"434.49359375\" y=\"5.0\" width=\"47.5437890625\" height=\"40\" stroke=\"black\" fill=\"white\" stroke-width=\"1\" /><text x=\"458.26548828125\" y=\"25.0\" dominant-baseline=\"middle\" text-anchor=\"middle\" font-size=\"14px\">ZZ</text><rect x=\"434.49359375\" y=\"55.0\" width=\"47.5437890625\" height=\"40\" stroke=\"black\" fill=\"white\" stroke-width=\"1\" /><text x=\"458.26548828125\" y=\"75.0\" dominant-baseline=\"middle\" text-anchor=\"middle\" font-size=\"14px\">ZZ^x7</text><rect x=\"502.03738281249997\" y=\"5.0\" width=\"49.3741796875\" height=\"40\" stroke=\"black\" fill=\"white\" stroke-width=\"1\" /><text x=\"526.72447265625\" y=\"25.0\" dominant-baseline=\"middle\" text-anchor=\"middle\" font-size=\"14px\">YY</text><rect x=\"502.03738281249997\" y=\"55.0\" width=\"49.3741796875\" height=\"40\" stroke=\"black\" fill=\"white\" stroke-width=\"1\" /><text x=\"526.72447265625\" y=\"75.0\" dominant-baseline=\"middle\" text-anchor=\"middle\" font-size=\"14px\">YY^x8</text><rect x=\"571.4115625000001\" y=\"5.0\" width=\"49.3544921875\" height=\"40\" stroke=\"black\" fill=\"white\" stroke-width=\"1\" /><text x=\"596.0888085937501\" y=\"25.0\" dominant-baseline=\"middle\" text-anchor=\"middle\" font-size=\"14px\">XX</text><rect x=\"571.4115625000001\" y=\"55.0\" width=\"49.3544921875\" height=\"40\" stroke=\"black\" fill=\"white\" stroke-width=\"1\" /><text x=\"596.0888085937501\" y=\"75.0\" dominant-baseline=\"middle\" text-anchor=\"middle\" font-size=\"14px\">XX^x9</text><rect x=\"640.7660546875001\" y=\"5.0\" width=\"40.0166015625\" height=\"40\" stroke=\"black\" fill=\"white\" stroke-width=\"1\" /><text x=\"660.7743554687501\" y=\"25.0\" dominant-baseline=\"middle\" text-anchor=\"middle\" font-size=\"14px\">X^x9</text><rect x=\"700.7826562500001\" y=\"5.0\" width=\"47.767734375\" height=\"40\" stroke=\"black\" fill=\"white\" stroke-width=\"1\" /><text x=\"724.6665234375\" y=\"25.0\" dominant-baseline=\"middle\" text-anchor=\"middle\" font-size=\"14px\">Y^x10</text><rect x=\"768.5503906250001\" y=\"5.0\" width=\"43.8097265625\" height=\"40\" stroke=\"black\" fill=\"white\" stroke-width=\"1\" /><text x=\"790.45525390625\" y=\"25.0\" dominant-baseline=\"middle\" text-anchor=\"middle\" font-size=\"14px\">Z^x11</text><rect x=\"832.3601171875001\" y=\"55.0\" width=\"47.680234375\" height=\"40\" stroke=\"black\" fill=\"white\" stroke-width=\"1\" /><text x=\"856.2002343750002\" y=\"75.0\" dominant-baseline=\"middle\" text-anchor=\"middle\" font-size=\"14px\">X^x12</text><rect x=\"900.0403515625001\" y=\"55.0\" width=\"47.802734375\" height=\"40\" stroke=\"black\" fill=\"white\" stroke-width=\"1\" /><text x=\"923.9417187500001\" y=\"75.0\" dominant-baseline=\"middle\" text-anchor=\"middle\" font-size=\"14px\">Y^x13</text><rect x=\"967.8430859375001\" y=\"55.0\" width=\"46.7366015625\" height=\"40\" stroke=\"black\" fill=\"white\" stroke-width=\"1\" /><text x=\"991.2113867187501\" y=\"75.0\" dominant-baseline=\"middle\" text-anchor=\"middle\" font-size=\"14px\">Z^x14</text></svg>"
      ],
      "text/plain": [
       "<cirq.contrib.svg.svg.SVGCircuit at 0x2d1495c8630>"
      ]
     },
     "execution_count": 13,
     "metadata": {},
     "output_type": "execute_result"
    }
   ],
   "source": [
    "SVGCircuit(two_qubit_unitary(cirq.GridQubit.rect(1, 2), sympy.symbols('x0:15')))"
   ]
  },
  {
   "cell_type": "markdown",
   "metadata": {
    "colab_type": "text",
    "id": "EXQD1R_V8jyk"
   },
   "source": [
    "And the two-qubit pooling circuit:"
   ]
  },
  {
   "cell_type": "code",
   "execution_count": 14,
   "metadata": {
    "colab": {},
    "colab_type": "code",
    "id": "DOHRbkvH2xGK"
   },
   "outputs": [
    {
     "data": {
      "image/svg+xml": [
       "<svg xmlns=\"http://www.w3.org/2000/svg\" width=\"745.8461328125\" height=\"100.0\"><line x1=\"32.246796875\" x2=\"715.8461328125\" y1=\"25.0\" y2=\"25.0\" stroke=\"#1967d2\" stroke-width=\"1\" /><line x1=\"32.246796875\" x2=\"715.8461328125\" y1=\"75.0\" y2=\"75.0\" stroke=\"#1967d2\" stroke-width=\"1\" /><line x1=\"454.49359375\" x2=\"454.49359375\" y1=\"25.0\" y2=\"75.0\" stroke=\"black\" stroke-width=\"3\" /><rect x=\"10.0\" y=\"5.0\" width=\"44.49359375\" height=\"40\" stroke=\"black\" fill=\"white\" stroke-width=\"0\" /><text x=\"32.246796875\" y=\"25.0\" dominant-baseline=\"middle\" text-anchor=\"middle\" font-size=\"14px\">(0, 0): </text><rect x=\"10.0\" y=\"55.0\" width=\"44.49359375\" height=\"40\" stroke=\"black\" fill=\"white\" stroke-width=\"0\" /><text x=\"32.246796875\" y=\"75.0\" dominant-baseline=\"middle\" text-anchor=\"middle\" font-size=\"14px\">(0, 1): </text><rect x=\"74.49359375\" y=\"55.0\" width=\"40\" height=\"40\" stroke=\"black\" fill=\"white\" stroke-width=\"1\" /><text x=\"94.49359375\" y=\"75.0\" dominant-baseline=\"middle\" text-anchor=\"middle\" font-size=\"14px\">X^x0</text><rect x=\"134.49359375\" y=\"55.0\" width=\"40\" height=\"40\" stroke=\"black\" fill=\"white\" stroke-width=\"1\" /><text x=\"154.49359375\" y=\"75.0\" dominant-baseline=\"middle\" text-anchor=\"middle\" font-size=\"14px\">Y^x1</text><rect x=\"194.49359375\" y=\"55.0\" width=\"40\" height=\"40\" stroke=\"black\" fill=\"white\" stroke-width=\"1\" /><text x=\"214.49359375\" y=\"75.0\" dominant-baseline=\"middle\" text-anchor=\"middle\" font-size=\"14px\">Z^x2</text><rect x=\"254.49359375\" y=\"5.0\" width=\"40\" height=\"40\" stroke=\"black\" fill=\"white\" stroke-width=\"1\" /><text x=\"274.49359375\" y=\"25.0\" dominant-baseline=\"middle\" text-anchor=\"middle\" font-size=\"14px\">X^x3</text><rect x=\"314.49359375\" y=\"5.0\" width=\"40\" height=\"40\" stroke=\"black\" fill=\"white\" stroke-width=\"1\" /><text x=\"334.49359375\" y=\"25.0\" dominant-baseline=\"middle\" text-anchor=\"middle\" font-size=\"14px\">Y^x4</text><rect x=\"374.49359375\" y=\"5.0\" width=\"40\" height=\"40\" stroke=\"black\" fill=\"white\" stroke-width=\"1\" /><text x=\"394.49359375\" y=\"25.0\" dominant-baseline=\"middle\" text-anchor=\"middle\" font-size=\"14px\">Z^x5</text><circle cx=\"454.49359375\" cy=\"25.0\" r=\"10.0\" /><rect x=\"434.49359375\" y=\"55.0\" width=\"40\" height=\"40\" stroke=\"black\" fill=\"white\" stroke-width=\"1\" /><text x=\"454.49359375\" y=\"75.0\" dominant-baseline=\"middle\" text-anchor=\"middle\" font-size=\"18px\">X</text><rect x=\"494.49359374999995\" y=\"55.0\" width=\"53.1076953125\" height=\"40\" stroke=\"black\" fill=\"white\" stroke-width=\"1\" /><text x=\"521.04744140625\" y=\"75.0\" dominant-baseline=\"middle\" text-anchor=\"middle\" font-size=\"14px\">Z^(-x2)</text><rect x=\"567.6012890625\" y=\"55.0\" width=\"54.132265625\" height=\"40\" stroke=\"black\" fill=\"white\" stroke-width=\"1\" /><text x=\"594.667421875\" y=\"75.0\" dominant-baseline=\"middle\" text-anchor=\"middle\" font-size=\"14px\">Y^(-x1)</text><rect x=\"641.7335546874999\" y=\"55.0\" width=\"54.112578125\" height=\"40\" stroke=\"black\" fill=\"white\" stroke-width=\"1\" /><text x=\"668.7898437499999\" y=\"75.0\" dominant-baseline=\"middle\" text-anchor=\"middle\" font-size=\"14px\">X^(-x0)</text></svg>"
      ],
      "text/plain": [
       "<cirq.contrib.svg.svg.SVGCircuit at 0x2d1561e97f0>"
      ]
     },
     "execution_count": 14,
     "metadata": {},
     "output_type": "execute_result"
    }
   ],
   "source": [
    "SVGCircuit(two_qubit_pool(*cirq.GridQubit.rect(1, 2), sympy.symbols('x0:6')))"
   ]
  },
  {
   "cell_type": "markdown",
   "metadata": {
    "colab_type": "text",
    "id": "AzVauXWD3v8C"
   },
   "source": [
    "##### 1.5.2.1 Quantum convolution\n",
    "\n",
    "As in the <a href=\"https://arxiv.org/abs/1810.03787\" class=\"external\">Cong and Lukin</a> paper, define the 1D quantum convolution as the application of a two-qubit parameterized unitary to every pair of adjacent qubits with a stride of one."
   ]
  },
  {
   "cell_type": "code",
   "execution_count": 15,
   "metadata": {
    "colab": {},
    "colab_type": "code",
    "id": "1Fa19Lzb3wnR"
   },
   "outputs": [],
   "source": [
    "def quantum_conv_circuit(bits, symbols):\n",
    "    \"\"\"Quantum Convolution Layer following the above diagram.\n",
    "    Return a Cirq circuit with the cascade of `two_qubit_unitary` applied\n",
    "    to all pairs of qubits in `bits` as in the diagram above.\n",
    "    \"\"\"\n",
    "    circuit = cirq.Circuit()\n",
    "    for first, second in zip(bits[0::2], bits[1::2]):\n",
    "        circuit += two_qubit_unitary([first, second], symbols)\n",
    "    for first, second in zip(bits[1::2], bits[2::2] + [bits[0]]):\n",
    "        circuit += two_qubit_unitary([first, second], symbols)\n",
    "    return circuit"
   ]
  },
  {
   "cell_type": "markdown",
   "metadata": {
    "colab_type": "text",
    "id": "fTzOm_t394Gj"
   },
   "source": [
    "Display the (very horizontal) circuit:"
   ]
  },
  {
   "cell_type": "code",
   "execution_count": 16,
   "metadata": {
    "colab": {},
    "colab_type": "code",
    "id": "Bi6q2nmY3z_U"
   },
   "outputs": [
    {
     "data": {
      "image/svg+xml": [
       "<svg xmlns=\"http://www.w3.org/2000/svg\" width=\"3944.83796875\" height=\"200.0\"><line x1=\"32.246796875\" x2=\"3914.83796875\" y1=\"25.0\" y2=\"25.0\" stroke=\"#1967d2\" stroke-width=\"1\" /><line x1=\"32.246796875\" x2=\"3914.83796875\" y1=\"75.0\" y2=\"75.0\" stroke=\"#1967d2\" stroke-width=\"1\" /><line x1=\"32.246796875\" x2=\"3914.83796875\" y1=\"125.0\" y2=\"125.0\" stroke=\"#1967d2\" stroke-width=\"1\" /><line x1=\"32.246796875\" x2=\"3914.83796875\" y1=\"175.0\" y2=\"175.0\" stroke=\"#1967d2\" stroke-width=\"1\" /><line x1=\"458.26548828125\" x2=\"458.26548828125\" y1=\"25.0\" y2=\"75.0\" stroke=\"black\" stroke-width=\"3\" /><line x1=\"526.72447265625\" x2=\"526.72447265625\" y1=\"25.0\" y2=\"75.0\" stroke=\"black\" stroke-width=\"3\" /><line x1=\"596.0888085937501\" x2=\"596.0888085937501\" y1=\"25.0\" y2=\"75.0\" stroke=\"black\" stroke-width=\"3\" /><line x1=\"1418.35158203125\" x2=\"1418.35158203125\" y1=\"125.0\" y2=\"175.0\" stroke=\"black\" stroke-width=\"3\" /><line x1=\"1486.8105664062502\" x2=\"1486.8105664062502\" y1=\"125.0\" y2=\"175.0\" stroke=\"black\" stroke-width=\"3\" /><line x1=\"1556.17490234375\" x2=\"1556.17490234375\" y1=\"125.0\" y2=\"175.0\" stroke=\"black\" stroke-width=\"3\" /><line x1=\"2378.4376757812497\" x2=\"2378.4376757812497\" y1=\"75.0\" y2=\"125.0\" stroke=\"black\" stroke-width=\"3\" /><line x1=\"2446.8966601562497\" x2=\"2446.8966601562497\" y1=\"75.0\" y2=\"125.0\" stroke=\"black\" stroke-width=\"3\" /><line x1=\"2516.26099609375\" x2=\"2516.26099609375\" y1=\"75.0\" y2=\"125.0\" stroke=\"black\" stroke-width=\"3\" /><line x1=\"3338.52376953125\" x2=\"3338.52376953125\" y1=\"25.0\" y2=\"175.0\" stroke=\"black\" stroke-width=\"3\" /><line x1=\"3406.98275390625\" x2=\"3406.98275390625\" y1=\"25.0\" y2=\"175.0\" stroke=\"black\" stroke-width=\"3\" /><line x1=\"3476.34708984375\" x2=\"3476.34708984375\" y1=\"25.0\" y2=\"175.0\" stroke=\"black\" stroke-width=\"3\" /><rect x=\"10.0\" y=\"5.0\" width=\"44.49359375\" height=\"40\" stroke=\"black\" fill=\"white\" stroke-width=\"0\" /><text x=\"32.246796875\" y=\"25.0\" dominant-baseline=\"middle\" text-anchor=\"middle\" font-size=\"14px\">(0, 0): </text><rect x=\"10.0\" y=\"55.0\" width=\"44.49359375\" height=\"40\" stroke=\"black\" fill=\"white\" stroke-width=\"0\" /><text x=\"32.246796875\" y=\"75.0\" dominant-baseline=\"middle\" text-anchor=\"middle\" font-size=\"14px\">(0, 1): </text><rect x=\"10.0\" y=\"105.0\" width=\"44.49359375\" height=\"40\" stroke=\"black\" fill=\"white\" stroke-width=\"0\" /><text x=\"32.246796875\" y=\"125.0\" dominant-baseline=\"middle\" text-anchor=\"middle\" font-size=\"14px\">(0, 2): </text><rect x=\"10.0\" y=\"155.0\" width=\"44.49359375\" height=\"40\" stroke=\"black\" fill=\"white\" stroke-width=\"0\" /><text x=\"32.246796875\" y=\"175.0\" dominant-baseline=\"middle\" text-anchor=\"middle\" font-size=\"14px\">(0, 3): </text><rect x=\"74.49359375\" y=\"5.0\" width=\"40\" height=\"40\" stroke=\"black\" fill=\"white\" stroke-width=\"1\" /><text x=\"94.49359375\" y=\"25.0\" dominant-baseline=\"middle\" text-anchor=\"middle\" font-size=\"14px\">X^x0</text><rect x=\"134.49359375\" y=\"5.0\" width=\"40\" height=\"40\" stroke=\"black\" fill=\"white\" stroke-width=\"1\" /><text x=\"154.49359375\" y=\"25.0\" dominant-baseline=\"middle\" text-anchor=\"middle\" font-size=\"14px\">Y^x1</text><rect x=\"194.49359375\" y=\"5.0\" width=\"40\" height=\"40\" stroke=\"black\" fill=\"white\" stroke-width=\"1\" /><text x=\"214.49359375\" y=\"25.0\" dominant-baseline=\"middle\" text-anchor=\"middle\" font-size=\"14px\">Z^x2</text><rect x=\"254.49359375\" y=\"55.0\" width=\"40\" height=\"40\" stroke=\"black\" fill=\"white\" stroke-width=\"1\" /><text x=\"274.49359375\" y=\"75.0\" dominant-baseline=\"middle\" text-anchor=\"middle\" font-size=\"14px\">X^x3</text><rect x=\"314.49359375\" y=\"55.0\" width=\"40\" height=\"40\" stroke=\"black\" fill=\"white\" stroke-width=\"1\" /><text x=\"334.49359375\" y=\"75.0\" dominant-baseline=\"middle\" text-anchor=\"middle\" font-size=\"14px\">Y^x4</text><rect x=\"374.49359375\" y=\"55.0\" width=\"40\" height=\"40\" stroke=\"black\" fill=\"white\" stroke-width=\"1\" /><text x=\"394.49359375\" y=\"75.0\" dominant-baseline=\"middle\" text-anchor=\"middle\" font-size=\"14px\">Z^x5</text><rect x=\"434.49359375\" y=\"5.0\" width=\"47.5437890625\" height=\"40\" stroke=\"black\" fill=\"white\" stroke-width=\"1\" /><text x=\"458.26548828125\" y=\"25.0\" dominant-baseline=\"middle\" text-anchor=\"middle\" font-size=\"14px\">ZZ</text><rect x=\"434.49359375\" y=\"55.0\" width=\"47.5437890625\" height=\"40\" stroke=\"black\" fill=\"white\" stroke-width=\"1\" /><text x=\"458.26548828125\" y=\"75.0\" dominant-baseline=\"middle\" text-anchor=\"middle\" font-size=\"14px\">ZZ^x7</text><rect x=\"502.03738281249997\" y=\"5.0\" width=\"49.3741796875\" height=\"40\" stroke=\"black\" fill=\"white\" stroke-width=\"1\" /><text x=\"526.72447265625\" y=\"25.0\" dominant-baseline=\"middle\" text-anchor=\"middle\" font-size=\"14px\">YY</text><rect x=\"502.03738281249997\" y=\"55.0\" width=\"49.3741796875\" height=\"40\" stroke=\"black\" fill=\"white\" stroke-width=\"1\" /><text x=\"526.72447265625\" y=\"75.0\" dominant-baseline=\"middle\" text-anchor=\"middle\" font-size=\"14px\">YY^x8</text><rect x=\"571.4115625000001\" y=\"5.0\" width=\"49.3544921875\" height=\"40\" stroke=\"black\" fill=\"white\" stroke-width=\"1\" /><text x=\"596.0888085937501\" y=\"25.0\" dominant-baseline=\"middle\" text-anchor=\"middle\" font-size=\"14px\">XX</text><rect x=\"571.4115625000001\" y=\"55.0\" width=\"49.3544921875\" height=\"40\" stroke=\"black\" fill=\"white\" stroke-width=\"1\" /><text x=\"596.0888085937501\" y=\"75.0\" dominant-baseline=\"middle\" text-anchor=\"middle\" font-size=\"14px\">XX^x9</text><rect x=\"640.7660546875001\" y=\"5.0\" width=\"40.0166015625\" height=\"40\" stroke=\"black\" fill=\"white\" stroke-width=\"1\" /><text x=\"660.7743554687501\" y=\"25.0\" dominant-baseline=\"middle\" text-anchor=\"middle\" font-size=\"14px\">X^x9</text><rect x=\"700.7826562500001\" y=\"5.0\" width=\"47.767734375\" height=\"40\" stroke=\"black\" fill=\"white\" stroke-width=\"1\" /><text x=\"724.6665234375\" y=\"25.0\" dominant-baseline=\"middle\" text-anchor=\"middle\" font-size=\"14px\">Y^x10</text><rect x=\"768.5503906250001\" y=\"5.0\" width=\"43.8097265625\" height=\"40\" stroke=\"black\" fill=\"white\" stroke-width=\"1\" /><text x=\"790.45525390625\" y=\"25.0\" dominant-baseline=\"middle\" text-anchor=\"middle\" font-size=\"14px\">Z^x11</text><rect x=\"832.3601171875001\" y=\"55.0\" width=\"47.680234375\" height=\"40\" stroke=\"black\" fill=\"white\" stroke-width=\"1\" /><text x=\"856.2002343750002\" y=\"75.0\" dominant-baseline=\"middle\" text-anchor=\"middle\" font-size=\"14px\">X^x12</text><rect x=\"900.0403515625001\" y=\"55.0\" width=\"47.802734375\" height=\"40\" stroke=\"black\" fill=\"white\" stroke-width=\"1\" /><text x=\"923.9417187500001\" y=\"75.0\" dominant-baseline=\"middle\" text-anchor=\"middle\" font-size=\"14px\">Y^x13</text><rect x=\"967.8430859375001\" y=\"55.0\" width=\"46.7366015625\" height=\"40\" stroke=\"black\" fill=\"white\" stroke-width=\"1\" /><text x=\"991.2113867187501\" y=\"75.0\" dominant-baseline=\"middle\" text-anchor=\"middle\" font-size=\"14px\">Z^x14</text><rect x=\"1034.5796875\" y=\"105.0\" width=\"40\" height=\"40\" stroke=\"black\" fill=\"white\" stroke-width=\"1\" /><text x=\"1054.5796875\" y=\"125.0\" dominant-baseline=\"middle\" text-anchor=\"middle\" font-size=\"14px\">X^x0</text><rect x=\"1094.5796875\" y=\"105.0\" width=\"40\" height=\"40\" stroke=\"black\" fill=\"white\" stroke-width=\"1\" /><text x=\"1114.5796875\" y=\"125.0\" dominant-baseline=\"middle\" text-anchor=\"middle\" font-size=\"14px\">Y^x1</text><rect x=\"1154.5796875\" y=\"105.0\" width=\"40\" height=\"40\" stroke=\"black\" fill=\"white\" stroke-width=\"1\" /><text x=\"1174.5796875\" y=\"125.0\" dominant-baseline=\"middle\" text-anchor=\"middle\" font-size=\"14px\">Z^x2</text><rect x=\"1214.5796875\" y=\"155.0\" width=\"40\" height=\"40\" stroke=\"black\" fill=\"white\" stroke-width=\"1\" /><text x=\"1234.5796875\" y=\"175.0\" dominant-baseline=\"middle\" text-anchor=\"middle\" font-size=\"14px\">X^x3</text><rect x=\"1274.5796875\" y=\"155.0\" width=\"40\" height=\"40\" stroke=\"black\" fill=\"white\" stroke-width=\"1\" /><text x=\"1294.5796875\" y=\"175.0\" dominant-baseline=\"middle\" text-anchor=\"middle\" font-size=\"14px\">Y^x4</text><rect x=\"1334.5796875\" y=\"155.0\" width=\"40\" height=\"40\" stroke=\"black\" fill=\"white\" stroke-width=\"1\" /><text x=\"1354.5796875\" y=\"175.0\" dominant-baseline=\"middle\" text-anchor=\"middle\" font-size=\"14px\">Z^x5</text><rect x=\"1394.5796875\" y=\"105.0\" width=\"47.5437890625\" height=\"40\" stroke=\"black\" fill=\"white\" stroke-width=\"1\" /><text x=\"1418.35158203125\" y=\"125.0\" dominant-baseline=\"middle\" text-anchor=\"middle\" font-size=\"14px\">ZZ</text><rect x=\"1394.5796875\" y=\"155.0\" width=\"47.5437890625\" height=\"40\" stroke=\"black\" fill=\"white\" stroke-width=\"1\" /><text x=\"1418.35158203125\" y=\"175.0\" dominant-baseline=\"middle\" text-anchor=\"middle\" font-size=\"14px\">ZZ^x7</text><rect x=\"1462.1234765625002\" y=\"105.0\" width=\"49.3741796875\" height=\"40\" stroke=\"black\" fill=\"white\" stroke-width=\"1\" /><text x=\"1486.8105664062502\" y=\"125.0\" dominant-baseline=\"middle\" text-anchor=\"middle\" font-size=\"14px\">YY</text><rect x=\"1462.1234765625002\" y=\"155.0\" width=\"49.3741796875\" height=\"40\" stroke=\"black\" fill=\"white\" stroke-width=\"1\" /><text x=\"1486.8105664062502\" y=\"175.0\" dominant-baseline=\"middle\" text-anchor=\"middle\" font-size=\"14px\">YY^x8</text><rect x=\"1531.49765625\" y=\"105.0\" width=\"49.3544921875\" height=\"40\" stroke=\"black\" fill=\"white\" stroke-width=\"1\" /><text x=\"1556.17490234375\" y=\"125.0\" dominant-baseline=\"middle\" text-anchor=\"middle\" font-size=\"14px\">XX</text><rect x=\"1531.49765625\" y=\"155.0\" width=\"49.3544921875\" height=\"40\" stroke=\"black\" fill=\"white\" stroke-width=\"1\" /><text x=\"1556.17490234375\" y=\"175.0\" dominant-baseline=\"middle\" text-anchor=\"middle\" font-size=\"14px\">XX^x9</text><rect x=\"1600.8521484375\" y=\"105.0\" width=\"40.0166015625\" height=\"40\" stroke=\"black\" fill=\"white\" stroke-width=\"1\" /><text x=\"1620.86044921875\" y=\"125.0\" dominant-baseline=\"middle\" text-anchor=\"middle\" font-size=\"14px\">X^x9</text><rect x=\"1660.86875\" y=\"105.0\" width=\"47.767734375\" height=\"40\" stroke=\"black\" fill=\"white\" stroke-width=\"1\" /><text x=\"1684.7526171875002\" y=\"125.0\" dominant-baseline=\"middle\" text-anchor=\"middle\" font-size=\"14px\">Y^x10</text><rect x=\"1728.636484375\" y=\"105.0\" width=\"43.8097265625\" height=\"40\" stroke=\"black\" fill=\"white\" stroke-width=\"1\" /><text x=\"1750.54134765625\" y=\"125.0\" dominant-baseline=\"middle\" text-anchor=\"middle\" font-size=\"14px\">Z^x11</text><rect x=\"1792.4462109375\" y=\"155.0\" width=\"47.680234375\" height=\"40\" stroke=\"black\" fill=\"white\" stroke-width=\"1\" /><text x=\"1816.286328125\" y=\"175.0\" dominant-baseline=\"middle\" text-anchor=\"middle\" font-size=\"14px\">X^x12</text><rect x=\"1860.1264453125\" y=\"155.0\" width=\"47.802734375\" height=\"40\" stroke=\"black\" fill=\"white\" stroke-width=\"1\" /><text x=\"1884.0278125\" y=\"175.0\" dominant-baseline=\"middle\" text-anchor=\"middle\" font-size=\"14px\">Y^x13</text><rect x=\"1927.9291796875\" y=\"155.0\" width=\"46.7366015625\" height=\"40\" stroke=\"black\" fill=\"white\" stroke-width=\"1\" /><text x=\"1951.2974804687499\" y=\"175.0\" dominant-baseline=\"middle\" text-anchor=\"middle\" font-size=\"14px\">Z^x14</text><rect x=\"1994.66578125\" y=\"55.0\" width=\"40\" height=\"40\" stroke=\"black\" fill=\"white\" stroke-width=\"1\" /><text x=\"2014.66578125\" y=\"75.0\" dominant-baseline=\"middle\" text-anchor=\"middle\" font-size=\"14px\">X^x0</text><rect x=\"2054.66578125\" y=\"55.0\" width=\"40\" height=\"40\" stroke=\"black\" fill=\"white\" stroke-width=\"1\" /><text x=\"2074.66578125\" y=\"75.0\" dominant-baseline=\"middle\" text-anchor=\"middle\" font-size=\"14px\">Y^x1</text><rect x=\"2114.66578125\" y=\"55.0\" width=\"40\" height=\"40\" stroke=\"black\" fill=\"white\" stroke-width=\"1\" /><text x=\"2134.66578125\" y=\"75.0\" dominant-baseline=\"middle\" text-anchor=\"middle\" font-size=\"14px\">Z^x2</text><rect x=\"2174.66578125\" y=\"105.0\" width=\"40\" height=\"40\" stroke=\"black\" fill=\"white\" stroke-width=\"1\" /><text x=\"2194.66578125\" y=\"125.0\" dominant-baseline=\"middle\" text-anchor=\"middle\" font-size=\"14px\">X^x3</text><rect x=\"2234.66578125\" y=\"105.0\" width=\"40\" height=\"40\" stroke=\"black\" fill=\"white\" stroke-width=\"1\" /><text x=\"2254.66578125\" y=\"125.0\" dominant-baseline=\"middle\" text-anchor=\"middle\" font-size=\"14px\">Y^x4</text><rect x=\"2294.66578125\" y=\"105.0\" width=\"40\" height=\"40\" stroke=\"black\" fill=\"white\" stroke-width=\"1\" /><text x=\"2314.66578125\" y=\"125.0\" dominant-baseline=\"middle\" text-anchor=\"middle\" font-size=\"14px\">Z^x5</text><rect x=\"2354.66578125\" y=\"55.0\" width=\"47.5437890625\" height=\"40\" stroke=\"black\" fill=\"white\" stroke-width=\"1\" /><text x=\"2378.4376757812497\" y=\"75.0\" dominant-baseline=\"middle\" text-anchor=\"middle\" font-size=\"14px\">ZZ</text><rect x=\"2354.66578125\" y=\"105.0\" width=\"47.5437890625\" height=\"40\" stroke=\"black\" fill=\"white\" stroke-width=\"1\" /><text x=\"2378.4376757812497\" y=\"125.0\" dominant-baseline=\"middle\" text-anchor=\"middle\" font-size=\"14px\">ZZ^x7</text><rect x=\"2422.2095703124996\" y=\"55.0\" width=\"49.3741796875\" height=\"40\" stroke=\"black\" fill=\"white\" stroke-width=\"1\" /><text x=\"2446.8966601562497\" y=\"75.0\" dominant-baseline=\"middle\" text-anchor=\"middle\" font-size=\"14px\">YY</text><rect x=\"2422.2095703124996\" y=\"105.0\" width=\"49.3741796875\" height=\"40\" stroke=\"black\" fill=\"white\" stroke-width=\"1\" /><text x=\"2446.8966601562497\" y=\"125.0\" dominant-baseline=\"middle\" text-anchor=\"middle\" font-size=\"14px\">YY^x8</text><rect x=\"2491.58375\" y=\"55.0\" width=\"49.3544921875\" height=\"40\" stroke=\"black\" fill=\"white\" stroke-width=\"1\" /><text x=\"2516.26099609375\" y=\"75.0\" dominant-baseline=\"middle\" text-anchor=\"middle\" font-size=\"14px\">XX</text><rect x=\"2491.58375\" y=\"105.0\" width=\"49.3544921875\" height=\"40\" stroke=\"black\" fill=\"white\" stroke-width=\"1\" /><text x=\"2516.26099609375\" y=\"125.0\" dominant-baseline=\"middle\" text-anchor=\"middle\" font-size=\"14px\">XX^x9</text><rect x=\"2560.9382421875\" y=\"55.0\" width=\"40.0166015625\" height=\"40\" stroke=\"black\" fill=\"white\" stroke-width=\"1\" /><text x=\"2580.94654296875\" y=\"75.0\" dominant-baseline=\"middle\" text-anchor=\"middle\" font-size=\"14px\">X^x9</text><rect x=\"2620.95484375\" y=\"55.0\" width=\"47.767734375\" height=\"40\" stroke=\"black\" fill=\"white\" stroke-width=\"1\" /><text x=\"2644.8387109375\" y=\"75.0\" dominant-baseline=\"middle\" text-anchor=\"middle\" font-size=\"14px\">Y^x10</text><rect x=\"2688.722578125\" y=\"55.0\" width=\"43.8097265625\" height=\"40\" stroke=\"black\" fill=\"white\" stroke-width=\"1\" /><text x=\"2710.62744140625\" y=\"75.0\" dominant-baseline=\"middle\" text-anchor=\"middle\" font-size=\"14px\">Z^x11</text><rect x=\"2752.5323046875\" y=\"105.0\" width=\"47.680234375\" height=\"40\" stroke=\"black\" fill=\"white\" stroke-width=\"1\" /><text x=\"2776.372421875\" y=\"125.0\" dominant-baseline=\"middle\" text-anchor=\"middle\" font-size=\"14px\">X^x12</text><rect x=\"2820.2125390625\" y=\"105.0\" width=\"47.802734375\" height=\"40\" stroke=\"black\" fill=\"white\" stroke-width=\"1\" /><text x=\"2844.11390625\" y=\"125.0\" dominant-baseline=\"middle\" text-anchor=\"middle\" font-size=\"14px\">Y^x13</text><rect x=\"2888.0152734375\" y=\"105.0\" width=\"46.7366015625\" height=\"40\" stroke=\"black\" fill=\"white\" stroke-width=\"1\" /><text x=\"2911.3835742187503\" y=\"125.0\" dominant-baseline=\"middle\" text-anchor=\"middle\" font-size=\"14px\">Z^x14</text><rect x=\"2954.751875\" y=\"155.0\" width=\"40\" height=\"40\" stroke=\"black\" fill=\"white\" stroke-width=\"1\" /><text x=\"2974.751875\" y=\"175.0\" dominant-baseline=\"middle\" text-anchor=\"middle\" font-size=\"14px\">X^x0</text><rect x=\"3014.751875\" y=\"155.0\" width=\"40\" height=\"40\" stroke=\"black\" fill=\"white\" stroke-width=\"1\" /><text x=\"3034.751875\" y=\"175.0\" dominant-baseline=\"middle\" text-anchor=\"middle\" font-size=\"14px\">Y^x1</text><rect x=\"3074.751875\" y=\"155.0\" width=\"40\" height=\"40\" stroke=\"black\" fill=\"white\" stroke-width=\"1\" /><text x=\"3094.751875\" y=\"175.0\" dominant-baseline=\"middle\" text-anchor=\"middle\" font-size=\"14px\">Z^x2</text><rect x=\"3134.751875\" y=\"5.0\" width=\"40\" height=\"40\" stroke=\"black\" fill=\"white\" stroke-width=\"1\" /><text x=\"3154.751875\" y=\"25.0\" dominant-baseline=\"middle\" text-anchor=\"middle\" font-size=\"14px\">X^x3</text><rect x=\"3194.751875\" y=\"5.0\" width=\"40\" height=\"40\" stroke=\"black\" fill=\"white\" stroke-width=\"1\" /><text x=\"3214.751875\" y=\"25.0\" dominant-baseline=\"middle\" text-anchor=\"middle\" font-size=\"14px\">Y^x4</text><rect x=\"3254.751875\" y=\"5.0\" width=\"40\" height=\"40\" stroke=\"black\" fill=\"white\" stroke-width=\"1\" /><text x=\"3274.751875\" y=\"25.0\" dominant-baseline=\"middle\" text-anchor=\"middle\" font-size=\"14px\">Z^x5</text><rect x=\"3314.751875\" y=\"155.0\" width=\"47.5437890625\" height=\"40\" stroke=\"black\" fill=\"white\" stroke-width=\"1\" /><text x=\"3338.52376953125\" y=\"175.0\" dominant-baseline=\"middle\" text-anchor=\"middle\" font-size=\"14px\">ZZ^x7</text><rect x=\"3314.751875\" y=\"5.0\" width=\"47.5437890625\" height=\"40\" stroke=\"black\" fill=\"white\" stroke-width=\"1\" /><text x=\"3338.52376953125\" y=\"25.0\" dominant-baseline=\"middle\" text-anchor=\"middle\" font-size=\"14px\">ZZ</text><rect x=\"3382.2956640625\" y=\"155.0\" width=\"49.3741796875\" height=\"40\" stroke=\"black\" fill=\"white\" stroke-width=\"1\" /><text x=\"3406.98275390625\" y=\"175.0\" dominant-baseline=\"middle\" text-anchor=\"middle\" font-size=\"14px\">YY^x8</text><rect x=\"3382.2956640625\" y=\"5.0\" width=\"49.3741796875\" height=\"40\" stroke=\"black\" fill=\"white\" stroke-width=\"1\" /><text x=\"3406.98275390625\" y=\"25.0\" dominant-baseline=\"middle\" text-anchor=\"middle\" font-size=\"14px\">YY</text><rect x=\"3451.66984375\" y=\"155.0\" width=\"49.3544921875\" height=\"40\" stroke=\"black\" fill=\"white\" stroke-width=\"1\" /><text x=\"3476.34708984375\" y=\"175.0\" dominant-baseline=\"middle\" text-anchor=\"middle\" font-size=\"14px\">XX^x9</text><rect x=\"3451.66984375\" y=\"5.0\" width=\"49.3544921875\" height=\"40\" stroke=\"black\" fill=\"white\" stroke-width=\"1\" /><text x=\"3476.34708984375\" y=\"25.0\" dominant-baseline=\"middle\" text-anchor=\"middle\" font-size=\"14px\">XX</text><rect x=\"3521.0243359375\" y=\"155.0\" width=\"40.0166015625\" height=\"40\" stroke=\"black\" fill=\"white\" stroke-width=\"1\" /><text x=\"3541.03263671875\" y=\"175.0\" dominant-baseline=\"middle\" text-anchor=\"middle\" font-size=\"14px\">X^x9</text><rect x=\"3581.0409375\" y=\"155.0\" width=\"47.767734375\" height=\"40\" stroke=\"black\" fill=\"white\" stroke-width=\"1\" /><text x=\"3604.9248046875\" y=\"175.0\" dominant-baseline=\"middle\" text-anchor=\"middle\" font-size=\"14px\">Y^x10</text><rect x=\"3648.808671875\" y=\"155.0\" width=\"43.8097265625\" height=\"40\" stroke=\"black\" fill=\"white\" stroke-width=\"1\" /><text x=\"3670.71353515625\" y=\"175.0\" dominant-baseline=\"middle\" text-anchor=\"middle\" font-size=\"14px\">Z^x11</text><rect x=\"3712.6183984375\" y=\"5.0\" width=\"47.680234375\" height=\"40\" stroke=\"black\" fill=\"white\" stroke-width=\"1\" /><text x=\"3736.458515625\" y=\"25.0\" dominant-baseline=\"middle\" text-anchor=\"middle\" font-size=\"14px\">X^x12</text><rect x=\"3780.2986328125003\" y=\"5.0\" width=\"47.802734375\" height=\"40\" stroke=\"black\" fill=\"white\" stroke-width=\"1\" /><text x=\"3804.2000000000003\" y=\"25.0\" dominant-baseline=\"middle\" text-anchor=\"middle\" font-size=\"14px\">Y^x13</text><rect x=\"3848.1013671875003\" y=\"5.0\" width=\"46.7366015625\" height=\"40\" stroke=\"black\" fill=\"white\" stroke-width=\"1\" /><text x=\"3871.4696679687504\" y=\"25.0\" dominant-baseline=\"middle\" text-anchor=\"middle\" font-size=\"14px\">Z^x14</text></svg>"
      ],
      "text/plain": [
       "<cirq.contrib.svg.svg.SVGCircuit at 0x2d1561e1ef0>"
      ]
     },
     "execution_count": 16,
     "metadata": {},
     "output_type": "execute_result"
    }
   ],
   "source": [
    "SVGCircuit(\n",
    "    quantum_conv_circuit(cirq.GridQubit.rect(1, 4), sympy.symbols('x0:15')))"
   ]
  },
  {
   "cell_type": "markdown",
   "metadata": {
    "colab_type": "text",
    "id": "3svBAfap4xhP"
   },
   "source": [
    "##### 1.5.2.2 Quantum pooling\n",
    "\n",
    "A quantum pooling layer pools from $N$ qubits to $\\frac{N}{2}$ qubits using the two-qubit pool defined above."
   ]
  },
  {
   "cell_type": "code",
   "execution_count": 17,
   "metadata": {
    "colab": {},
    "colab_type": "code",
    "id": "jD3fgcWO4yEU"
   },
   "outputs": [],
   "source": [
    "def quantum_pool_circuit(source_bits, sink_bits, symbols):\n",
    "    \"\"\"A layer that specifies a quantum pooling operation.\n",
    "    A Quantum pool tries to learn to pool the relevant information from two\n",
    "    qubits onto 1.\n",
    "    \"\"\"\n",
    "    circuit = cirq.Circuit()\n",
    "    for source, sink in zip(source_bits, sink_bits):\n",
    "        circuit += two_qubit_pool(source, sink, symbols)\n",
    "    return circuit"
   ]
  },
  {
   "cell_type": "markdown",
   "metadata": {
    "colab_type": "text",
    "id": "NX83NHDP_Q_Z"
   },
   "source": [
    "Examine a pooling component circuit:"
   ]
  },
  {
   "cell_type": "code",
   "execution_count": 18,
   "metadata": {
    "colab": {},
    "colab_type": "code",
    "id": "pFXow2OX47O5"
   },
   "outputs": [
    {
     "data": {
      "image/svg+xml": [
       "<svg xmlns=\"http://www.w3.org/2000/svg\" width=\"1387.198671875\" height=\"200.0\"><line x1=\"32.246796875\" x2=\"1357.198671875\" y1=\"25.0\" y2=\"25.0\" stroke=\"#1967d2\" stroke-width=\"1\" /><line x1=\"32.246796875\" x2=\"1357.198671875\" y1=\"75.0\" y2=\"75.0\" stroke=\"#1967d2\" stroke-width=\"1\" /><line x1=\"32.246796875\" x2=\"1357.198671875\" y1=\"125.0\" y2=\"125.0\" stroke=\"#1967d2\" stroke-width=\"1\" /><line x1=\"32.246796875\" x2=\"1357.198671875\" y1=\"175.0\" y2=\"175.0\" stroke=\"#1967d2\" stroke-width=\"1\" /><line x1=\"454.49359375\" x2=\"454.49359375\" y1=\"25.0\" y2=\"125.0\" stroke=\"black\" stroke-width=\"3\" /><line x1=\"1095.8461328125\" x2=\"1095.8461328125\" y1=\"75.0\" y2=\"175.0\" stroke=\"black\" stroke-width=\"3\" /><rect x=\"10.0\" y=\"5.0\" width=\"44.49359375\" height=\"40\" stroke=\"black\" fill=\"white\" stroke-width=\"0\" /><text x=\"32.246796875\" y=\"25.0\" dominant-baseline=\"middle\" text-anchor=\"middle\" font-size=\"14px\">(0, 0): </text><rect x=\"10.0\" y=\"55.0\" width=\"44.49359375\" height=\"40\" stroke=\"black\" fill=\"white\" stroke-width=\"0\" /><text x=\"32.246796875\" y=\"75.0\" dominant-baseline=\"middle\" text-anchor=\"middle\" font-size=\"14px\">(0, 1): </text><rect x=\"10.0\" y=\"105.0\" width=\"44.49359375\" height=\"40\" stroke=\"black\" fill=\"white\" stroke-width=\"0\" /><text x=\"32.246796875\" y=\"125.0\" dominant-baseline=\"middle\" text-anchor=\"middle\" font-size=\"14px\">(0, 2): </text><rect x=\"10.0\" y=\"155.0\" width=\"44.49359375\" height=\"40\" stroke=\"black\" fill=\"white\" stroke-width=\"0\" /><text x=\"32.246796875\" y=\"175.0\" dominant-baseline=\"middle\" text-anchor=\"middle\" font-size=\"14px\">(0, 3): </text><rect x=\"74.49359375\" y=\"105.0\" width=\"40\" height=\"40\" stroke=\"black\" fill=\"white\" stroke-width=\"1\" /><text x=\"94.49359375\" y=\"125.0\" dominant-baseline=\"middle\" text-anchor=\"middle\" font-size=\"14px\">X^x0</text><rect x=\"134.49359375\" y=\"105.0\" width=\"40\" height=\"40\" stroke=\"black\" fill=\"white\" stroke-width=\"1\" /><text x=\"154.49359375\" y=\"125.0\" dominant-baseline=\"middle\" text-anchor=\"middle\" font-size=\"14px\">Y^x1</text><rect x=\"194.49359375\" y=\"105.0\" width=\"40\" height=\"40\" stroke=\"black\" fill=\"white\" stroke-width=\"1\" /><text x=\"214.49359375\" y=\"125.0\" dominant-baseline=\"middle\" text-anchor=\"middle\" font-size=\"14px\">Z^x2</text><rect x=\"254.49359375\" y=\"5.0\" width=\"40\" height=\"40\" stroke=\"black\" fill=\"white\" stroke-width=\"1\" /><text x=\"274.49359375\" y=\"25.0\" dominant-baseline=\"middle\" text-anchor=\"middle\" font-size=\"14px\">X^x3</text><rect x=\"314.49359375\" y=\"5.0\" width=\"40\" height=\"40\" stroke=\"black\" fill=\"white\" stroke-width=\"1\" /><text x=\"334.49359375\" y=\"25.0\" dominant-baseline=\"middle\" text-anchor=\"middle\" font-size=\"14px\">Y^x4</text><rect x=\"374.49359375\" y=\"5.0\" width=\"40\" height=\"40\" stroke=\"black\" fill=\"white\" stroke-width=\"1\" /><text x=\"394.49359375\" y=\"25.0\" dominant-baseline=\"middle\" text-anchor=\"middle\" font-size=\"14px\">Z^x5</text><circle cx=\"454.49359375\" cy=\"25.0\" r=\"10.0\" /><rect x=\"434.49359375\" y=\"105.0\" width=\"40\" height=\"40\" stroke=\"black\" fill=\"white\" stroke-width=\"1\" /><text x=\"454.49359375\" y=\"125.0\" dominant-baseline=\"middle\" text-anchor=\"middle\" font-size=\"18px\">X</text><rect x=\"494.49359374999995\" y=\"105.0\" width=\"53.1076953125\" height=\"40\" stroke=\"black\" fill=\"white\" stroke-width=\"1\" /><text x=\"521.04744140625\" y=\"125.0\" dominant-baseline=\"middle\" text-anchor=\"middle\" font-size=\"14px\">Z^(-x2)</text><rect x=\"567.6012890625\" y=\"105.0\" width=\"54.132265625\" height=\"40\" stroke=\"black\" fill=\"white\" stroke-width=\"1\" /><text x=\"594.667421875\" y=\"125.0\" dominant-baseline=\"middle\" text-anchor=\"middle\" font-size=\"14px\">Y^(-x1)</text><rect x=\"641.7335546874999\" y=\"105.0\" width=\"54.112578125\" height=\"40\" stroke=\"black\" fill=\"white\" stroke-width=\"1\" /><text x=\"668.7898437499999\" y=\"125.0\" dominant-baseline=\"middle\" text-anchor=\"middle\" font-size=\"14px\">X^(-x0)</text><rect x=\"715.8461328125\" y=\"155.0\" width=\"40\" height=\"40\" stroke=\"black\" fill=\"white\" stroke-width=\"1\" /><text x=\"735.8461328125\" y=\"175.0\" dominant-baseline=\"middle\" text-anchor=\"middle\" font-size=\"14px\">X^x0</text><rect x=\"775.8461328125\" y=\"155.0\" width=\"40\" height=\"40\" stroke=\"black\" fill=\"white\" stroke-width=\"1\" /><text x=\"795.8461328125\" y=\"175.0\" dominant-baseline=\"middle\" text-anchor=\"middle\" font-size=\"14px\">Y^x1</text><rect x=\"835.8461328125\" y=\"155.0\" width=\"40\" height=\"40\" stroke=\"black\" fill=\"white\" stroke-width=\"1\" /><text x=\"855.8461328125\" y=\"175.0\" dominant-baseline=\"middle\" text-anchor=\"middle\" font-size=\"14px\">Z^x2</text><rect x=\"895.8461328125\" y=\"55.0\" width=\"40\" height=\"40\" stroke=\"black\" fill=\"white\" stroke-width=\"1\" /><text x=\"915.8461328125\" y=\"75.0\" dominant-baseline=\"middle\" text-anchor=\"middle\" font-size=\"14px\">X^x3</text><rect x=\"955.8461328125\" y=\"55.0\" width=\"40\" height=\"40\" stroke=\"black\" fill=\"white\" stroke-width=\"1\" /><text x=\"975.8461328125\" y=\"75.0\" dominant-baseline=\"middle\" text-anchor=\"middle\" font-size=\"14px\">Y^x4</text><rect x=\"1015.8461328125\" y=\"55.0\" width=\"40\" height=\"40\" stroke=\"black\" fill=\"white\" stroke-width=\"1\" /><text x=\"1035.8461328125\" y=\"75.0\" dominant-baseline=\"middle\" text-anchor=\"middle\" font-size=\"14px\">Z^x5</text><circle cx=\"1095.8461328125\" cy=\"75.0\" r=\"10.0\" /><rect x=\"1075.8461328125\" y=\"155.0\" width=\"40\" height=\"40\" stroke=\"black\" fill=\"white\" stroke-width=\"1\" /><text x=\"1095.8461328125\" y=\"175.0\" dominant-baseline=\"middle\" text-anchor=\"middle\" font-size=\"18px\">X</text><rect x=\"1135.8461328125\" y=\"155.0\" width=\"53.1076953125\" height=\"40\" stroke=\"black\" fill=\"white\" stroke-width=\"1\" /><text x=\"1162.3999804687498\" y=\"175.0\" dominant-baseline=\"middle\" text-anchor=\"middle\" font-size=\"14px\">Z^(-x2)</text><rect x=\"1208.953828125\" y=\"155.0\" width=\"54.132265625\" height=\"40\" stroke=\"black\" fill=\"white\" stroke-width=\"1\" /><text x=\"1236.0199609375\" y=\"175.0\" dominant-baseline=\"middle\" text-anchor=\"middle\" font-size=\"14px\">Y^(-x1)</text><rect x=\"1283.08609375\" y=\"155.0\" width=\"54.112578125\" height=\"40\" stroke=\"black\" fill=\"white\" stroke-width=\"1\" /><text x=\"1310.1423828124998\" y=\"175.0\" dominant-baseline=\"middle\" text-anchor=\"middle\" font-size=\"14px\">X^(-x0)</text></svg>"
      ],
      "text/plain": [
       "<cirq.contrib.svg.svg.SVGCircuit at 0x2d156277b38>"
      ]
     },
     "execution_count": 18,
     "metadata": {},
     "output_type": "execute_result"
    }
   ],
   "source": [
    "test_bits = cirq.GridQubit.rect(1, 4)\n",
    "\n",
    "SVGCircuit(\n",
    "    quantum_pool_circuit(test_bits[:2], test_bits[2:], sympy.symbols('x0:6')))"
   ]
  },
  {
   "cell_type": "markdown",
   "metadata": {},
   "source": [
    "# 1.5.3 Circuits for leakage"
   ]
  },
  {
   "cell_type": "markdown",
   "metadata": {},
   "source": [
    "Define the quantum circuit used to simulate leakage from a noisy qubit to an ancilla, which represents the ¦2> state."
   ]
  },
  {
   "cell_type": "code",
   "execution_count": 42,
   "metadata": {},
   "outputs": [],
   "source": [
    "def leakage(leaky_qubit, ancilla_qubit, symbol):\n",
    "    circuit = cirq.Circuit()\n",
    "    \n",
    "    circuit.append(cirq.CNOT(control=ancilla_qubit, target=leaky_qubit))\n",
    "    circuit.append((cirq.Y**symbol)(ancilla_qubit))\n",
    "    circuit.append(cirq.CNOT(control=leaky_qubit, target=ancilla_qubit))\n",
    "    circuit.append(((cirq.Y**symbol)**-1)(ancilla_qubit))\n",
    "    circuit.append(cirq.CNOT(control=leaky_qubit, target=ancilla_qubit))\n",
    "    circuit.append(cirq.CNOT(control=ancilla_qubit, target=leaky_qubit))\n",
    "    \n",
    "    return circuit"
   ]
  },
  {
   "cell_type": "code",
   "execution_count": 45,
   "metadata": {},
   "outputs": [
    {
     "data": {
      "image/svg+xml": [
       "<svg xmlns=\"http://www.w3.org/2000/svg\" width=\"478.625859375\" height=\"100.0\"><line x1=\"32.246796875\" x2=\"448.625859375\" y1=\"25.0\" y2=\"25.0\" stroke=\"#1967d2\" stroke-width=\"1\" /><line x1=\"32.246796875\" x2=\"448.625859375\" y1=\"75.0\" y2=\"75.0\" stroke=\"#1967d2\" stroke-width=\"1\" /><line x1=\"94.49359375\" x2=\"94.49359375\" y1=\"25.0\" y2=\"75.0\" stroke=\"black\" stroke-width=\"3\" /><line x1=\"214.49359375\" x2=\"214.49359375\" y1=\"25.0\" y2=\"75.0\" stroke=\"black\" stroke-width=\"3\" /><line x1=\"348.625859375\" x2=\"348.625859375\" y1=\"25.0\" y2=\"75.0\" stroke=\"black\" stroke-width=\"3\" /><line x1=\"408.625859375\" x2=\"408.625859375\" y1=\"25.0\" y2=\"75.0\" stroke=\"black\" stroke-width=\"3\" /><rect x=\"10.0\" y=\"5.0\" width=\"44.49359375\" height=\"40\" stroke=\"black\" fill=\"white\" stroke-width=\"0\" /><text x=\"32.246796875\" y=\"25.0\" dominant-baseline=\"middle\" text-anchor=\"middle\" font-size=\"14px\">(0, 0): </text><rect x=\"10.0\" y=\"55.0\" width=\"44.49359375\" height=\"40\" stroke=\"black\" fill=\"white\" stroke-width=\"0\" /><text x=\"32.246796875\" y=\"75.0\" dominant-baseline=\"middle\" text-anchor=\"middle\" font-size=\"14px\">(0, 1): </text><circle cx=\"94.49359375\" cy=\"75.0\" r=\"10.0\" /><rect x=\"74.49359375\" y=\"5.0\" width=\"40\" height=\"40\" stroke=\"black\" fill=\"white\" stroke-width=\"1\" /><text x=\"94.49359375\" y=\"25.0\" dominant-baseline=\"middle\" text-anchor=\"middle\" font-size=\"18px\">X</text><rect x=\"134.49359375\" y=\"55.0\" width=\"40\" height=\"40\" stroke=\"black\" fill=\"white\" stroke-width=\"1\" /><text x=\"154.49359375\" y=\"75.0\" dominant-baseline=\"middle\" text-anchor=\"middle\" font-size=\"14px\">Y^x0</text><circle cx=\"214.49359375\" cy=\"25.0\" r=\"10.0\" /><rect x=\"194.49359375\" y=\"55.0\" width=\"40\" height=\"40\" stroke=\"black\" fill=\"white\" stroke-width=\"1\" /><text x=\"214.49359375\" y=\"75.0\" dominant-baseline=\"middle\" text-anchor=\"middle\" font-size=\"18px\">X</text><rect x=\"254.49359375000003\" y=\"55.0\" width=\"54.132265625\" height=\"40\" stroke=\"black\" fill=\"white\" stroke-width=\"1\" /><text x=\"281.55972656250003\" y=\"75.0\" dominant-baseline=\"middle\" text-anchor=\"middle\" font-size=\"14px\">Y^(-x0)</text><circle cx=\"348.625859375\" cy=\"25.0\" r=\"10.0\" /><rect x=\"328.625859375\" y=\"55.0\" width=\"40\" height=\"40\" stroke=\"black\" fill=\"white\" stroke-width=\"1\" /><text x=\"348.625859375\" y=\"75.0\" dominant-baseline=\"middle\" text-anchor=\"middle\" font-size=\"18px\">X</text><circle cx=\"408.625859375\" cy=\"75.0\" r=\"10.0\" /><rect x=\"388.625859375\" y=\"5.0\" width=\"40\" height=\"40\" stroke=\"black\" fill=\"white\" stroke-width=\"1\" /><text x=\"408.625859375\" y=\"25.0\" dominant-baseline=\"middle\" text-anchor=\"middle\" font-size=\"18px\">X</text></svg>"
      ],
      "text/plain": [
       "<cirq.contrib.svg.svg.SVGCircuit at 0x2d160f35588>"
      ]
     },
     "execution_count": 45,
     "metadata": {},
     "output_type": "execute_result"
    }
   ],
   "source": [
    "SVGCircuit(leakage(*cirq.GridQubit.rect(1, 2), sympy.symbols('x0')))"
   ]
  },
  {
   "cell_type": "code",
   "execution_count": 47,
   "metadata": {},
   "outputs": [
    {
     "data": {
      "text/plain": [
       "array([cirq.Circuit([\n",
       "    cirq.Moment(operations=[\n",
       "        cirq.CNOT.on(cirq.GridQubit(0, 1), cirq.GridQubit(0, 0)),\n",
       "    ]),\n",
       "    cirq.Moment(operations=[\n",
       "        (cirq.Y**sympy.Symbol('x0')).on(cirq.GridQubit(0, 1)),\n",
       "    ]),\n",
       "    cirq.Moment(operations=[\n",
       "        cirq.CNOT.on(cirq.GridQubit(0, 0), cirq.GridQubit(0, 1)),\n",
       "    ]),\n",
       "    cirq.Moment(operations=[\n",
       "        (cirq.Y**sympy.Mul(sympy.Integer(-1), sympy.Symbol('x0'))).on(cirq.GridQubit(0, 1)),\n",
       "    ]),\n",
       "    cirq.Moment(operations=[\n",
       "        cirq.CNOT.on(cirq.GridQubit(0, 0), cirq.GridQubit(0, 1)),\n",
       "    ]),\n",
       "    cirq.Moment(operations=[\n",
       "        cirq.CNOT.on(cirq.GridQubit(0, 1), cirq.GridQubit(0, 0)),\n",
       "    ]),\n",
       "])], dtype=object)"
      ]
     },
     "execution_count": 47,
     "metadata": {},
     "output_type": "execute_result"
    }
   ],
   "source": [
    "tfq.from_tensor(tfq.convert_to_tensor([leakage(*cirq.GridQubit.rect(1, 2), sympy.symbols('x0'))]))"
   ]
  },
  {
   "cell_type": "code",
   "execution_count": 48,
   "metadata": {},
   "outputs": [],
   "source": [
    "def quantum_leakage_circuit(leaky_qubits, ancilla_qubits, symbols):\n",
    "    circuit = cirq.Circuit()\n",
    "    for lq, aq, gamma in zip(leaky_qubits, ancilla_qubits, symbols):\n",
    "        circuit += leakage(lq, aq, gamma)\n",
    "    return circuit"
   ]
  },
  {
   "cell_type": "code",
   "execution_count": 49,
   "metadata": {},
   "outputs": [
    {
     "data": {
      "image/svg+xml": [
       "<svg xmlns=\"http://www.w3.org/2000/svg\" width=\"478.625859375\" height=\"100.0\"><line x1=\"32.246796875\" x2=\"448.625859375\" y1=\"25.0\" y2=\"25.0\" stroke=\"#1967d2\" stroke-width=\"1\" /><line x1=\"32.246796875\" x2=\"448.625859375\" y1=\"75.0\" y2=\"75.0\" stroke=\"#1967d2\" stroke-width=\"1\" /><line x1=\"94.49359375\" x2=\"94.49359375\" y1=\"25.0\" y2=\"75.0\" stroke=\"black\" stroke-width=\"3\" /><line x1=\"214.49359375\" x2=\"214.49359375\" y1=\"25.0\" y2=\"75.0\" stroke=\"black\" stroke-width=\"3\" /><line x1=\"348.625859375\" x2=\"348.625859375\" y1=\"25.0\" y2=\"75.0\" stroke=\"black\" stroke-width=\"3\" /><line x1=\"408.625859375\" x2=\"408.625859375\" y1=\"25.0\" y2=\"75.0\" stroke=\"black\" stroke-width=\"3\" /><rect x=\"10.0\" y=\"5.0\" width=\"44.49359375\" height=\"40\" stroke=\"black\" fill=\"white\" stroke-width=\"0\" /><text x=\"32.246796875\" y=\"25.0\" dominant-baseline=\"middle\" text-anchor=\"middle\" font-size=\"14px\">(0, 0): </text><rect x=\"10.0\" y=\"55.0\" width=\"44.49359375\" height=\"40\" stroke=\"black\" fill=\"white\" stroke-width=\"0\" /><text x=\"32.246796875\" y=\"75.0\" dominant-baseline=\"middle\" text-anchor=\"middle\" font-size=\"14px\">(0, 8): </text><circle cx=\"94.49359375\" cy=\"75.0\" r=\"10.0\" /><rect x=\"74.49359375\" y=\"5.0\" width=\"40\" height=\"40\" stroke=\"black\" fill=\"white\" stroke-width=\"1\" /><text x=\"94.49359375\" y=\"25.0\" dominant-baseline=\"middle\" text-anchor=\"middle\" font-size=\"18px\">X</text><rect x=\"134.49359375\" y=\"55.0\" width=\"40\" height=\"40\" stroke=\"black\" fill=\"white\" stroke-width=\"1\" /><text x=\"154.49359375\" y=\"75.0\" dominant-baseline=\"middle\" text-anchor=\"middle\" font-size=\"14px\">Y^x0</text><circle cx=\"214.49359375\" cy=\"25.0\" r=\"10.0\" /><rect x=\"194.49359375\" y=\"55.0\" width=\"40\" height=\"40\" stroke=\"black\" fill=\"white\" stroke-width=\"1\" /><text x=\"214.49359375\" y=\"75.0\" dominant-baseline=\"middle\" text-anchor=\"middle\" font-size=\"18px\">X</text><rect x=\"254.49359375000003\" y=\"55.0\" width=\"54.132265625\" height=\"40\" stroke=\"black\" fill=\"white\" stroke-width=\"1\" /><text x=\"281.55972656250003\" y=\"75.0\" dominant-baseline=\"middle\" text-anchor=\"middle\" font-size=\"14px\">Y^(-x0)</text><circle cx=\"348.625859375\" cy=\"25.0\" r=\"10.0\" /><rect x=\"328.625859375\" y=\"55.0\" width=\"40\" height=\"40\" stroke=\"black\" fill=\"white\" stroke-width=\"1\" /><text x=\"348.625859375\" y=\"75.0\" dominant-baseline=\"middle\" text-anchor=\"middle\" font-size=\"18px\">X</text><circle cx=\"408.625859375\" cy=\"75.0\" r=\"10.0\" /><rect x=\"388.625859375\" y=\"5.0\" width=\"40\" height=\"40\" stroke=\"black\" fill=\"white\" stroke-width=\"1\" /><text x=\"408.625859375\" y=\"25.0\" dominant-baseline=\"middle\" text-anchor=\"middle\" font-size=\"18px\">X</text></svg>"
      ],
      "text/plain": [
       "<cirq.contrib.svg.svg.SVGCircuit at 0x2d160ec9358>"
      ]
     },
     "execution_count": 49,
     "metadata": {},
     "output_type": "execute_result"
    }
   ],
   "source": [
    "test_bits = cirq.GridQubit.rect(1, 16)\n",
    "SVGCircuit(\n",
    "    quantum_leakage_circuit(test_bits[:8], test_bits[8:], sympy.symbols('x0:1')))"
   ]
  },
  {
   "cell_type": "code",
   "execution_count": 50,
   "metadata": {},
   "outputs": [],
   "source": [
    "def quantum_OR(input1_qubit, input2_qubit, output_qubit):\n",
    "    circuit = cirq.Circuit()\n",
    "    \n",
    "    sqrt_x = cirq.X**0.5\n",
    "    \n",
    "    circuit.append(sqrt_x(output_qubit))\n",
    "    circuit.append(cirq.CNOT(control=input1_qubit, target=output_qubit))\n",
    "    \n",
    "    circuit.append(sqrt_x(output_qubit))\n",
    "    circuit.append(cirq.CNOT(control=input2_qubit, target=output_qubit))\n",
    "    \n",
    "    circuit.append((sqrt_x**-1)(output_qubit))\n",
    "    circuit.append(cirq.CNOT(control=input1_qubit, target=output_qubit))\n",
    "    \n",
    "    circuit.append((sqrt_x**-1)(output_qubit))\n",
    "    circuit.append(cirq.CNOT(control=input2_qubit, target=output_qubit))\n",
    "    circuit.append(cirq.CNOT(control=input1_qubit, target=output_qubit))\n",
    "    \n",
    "    return circuit"
   ]
  },
  {
   "cell_type": "code",
   "execution_count": 51,
   "metadata": {},
   "outputs": [
    {
     "data": {
      "image/svg+xml": [
       "<svg xmlns=\"http://www.w3.org/2000/svg\" width=\"672.80609375\" height=\"150.0\"><line x1=\"32.246796875\" x2=\"642.80609375\" y1=\"25.0\" y2=\"25.0\" stroke=\"#1967d2\" stroke-width=\"1\" /><line x1=\"32.246796875\" x2=\"642.80609375\" y1=\"75.0\" y2=\"75.0\" stroke=\"#1967d2\" stroke-width=\"1\" /><line x1=\"32.246796875\" x2=\"642.80609375\" y1=\"125.0\" y2=\"125.0\" stroke=\"#1967d2\" stroke-width=\"1\" /><line x1=\"159.2406640625\" x2=\"159.2406640625\" y1=\"25.0\" y2=\"125.0\" stroke=\"black\" stroke-width=\"3\" /><line x1=\"283.987734375\" x2=\"283.987734375\" y1=\"75.0\" y2=\"125.0\" stroke=\"black\" stroke-width=\"3\" /><line x1=\"413.3969140625\" x2=\"413.3969140625\" y1=\"25.0\" y2=\"125.0\" stroke=\"black\" stroke-width=\"3\" /><line x1=\"542.80609375\" x2=\"542.80609375\" y1=\"75.0\" y2=\"125.0\" stroke=\"black\" stroke-width=\"3\" /><line x1=\"602.80609375\" x2=\"602.80609375\" y1=\"25.0\" y2=\"125.0\" stroke=\"black\" stroke-width=\"3\" /><rect x=\"10.0\" y=\"5.0\" width=\"44.49359375\" height=\"40\" stroke=\"black\" fill=\"white\" stroke-width=\"0\" /><text x=\"32.246796875\" y=\"25.0\" dominant-baseline=\"middle\" text-anchor=\"middle\" font-size=\"14px\">(0, 0): </text><rect x=\"10.0\" y=\"55.0\" width=\"44.49359375\" height=\"40\" stroke=\"black\" fill=\"white\" stroke-width=\"0\" /><text x=\"32.246796875\" y=\"75.0\" dominant-baseline=\"middle\" text-anchor=\"middle\" font-size=\"14px\">(0, 1): </text><rect x=\"10.0\" y=\"105.0\" width=\"44.49359375\" height=\"40\" stroke=\"black\" fill=\"white\" stroke-width=\"0\" /><text x=\"32.246796875\" y=\"125.0\" dominant-baseline=\"middle\" text-anchor=\"middle\" font-size=\"14px\">(0, 2): </text><rect x=\"74.49359375\" y=\"105.0\" width=\"44.7470703125\" height=\"40\" stroke=\"black\" fill=\"white\" stroke-width=\"1\" /><text x=\"96.86712890625\" y=\"125.0\" dominant-baseline=\"middle\" text-anchor=\"middle\" font-size=\"14px\">X^0.5</text><circle cx=\"159.2406640625\" cy=\"25.0\" r=\"10.0\" /><rect x=\"139.2406640625\" y=\"105.0\" width=\"40\" height=\"40\" stroke=\"black\" fill=\"white\" stroke-width=\"1\" /><text x=\"159.2406640625\" y=\"125.0\" dominant-baseline=\"middle\" text-anchor=\"middle\" font-size=\"18px\">X</text><rect x=\"199.2406640625\" y=\"105.0\" width=\"44.7470703125\" height=\"40\" stroke=\"black\" fill=\"white\" stroke-width=\"1\" /><text x=\"221.61419921875\" y=\"125.0\" dominant-baseline=\"middle\" text-anchor=\"middle\" font-size=\"14px\">X^0.5</text><circle cx=\"283.987734375\" cy=\"75.0\" r=\"10.0\" /><rect x=\"263.987734375\" y=\"105.0\" width=\"40\" height=\"40\" stroke=\"black\" fill=\"white\" stroke-width=\"1\" /><text x=\"283.987734375\" y=\"125.0\" dominant-baseline=\"middle\" text-anchor=\"middle\" font-size=\"18px\">X</text><rect x=\"323.987734375\" y=\"105.0\" width=\"49.4091796875\" height=\"40\" stroke=\"black\" fill=\"white\" stroke-width=\"1\" /><text x=\"348.69232421875\" y=\"125.0\" dominant-baseline=\"middle\" text-anchor=\"middle\" font-size=\"14px\">X^-0.5</text><circle cx=\"413.3969140625\" cy=\"25.0\" r=\"10.0\" /><rect x=\"393.3969140625\" y=\"105.0\" width=\"40\" height=\"40\" stroke=\"black\" fill=\"white\" stroke-width=\"1\" /><text x=\"413.3969140625\" y=\"125.0\" dominant-baseline=\"middle\" text-anchor=\"middle\" font-size=\"18px\">X</text><rect x=\"453.3969140625\" y=\"105.0\" width=\"49.4091796875\" height=\"40\" stroke=\"black\" fill=\"white\" stroke-width=\"1\" /><text x=\"478.10150390625\" y=\"125.0\" dominant-baseline=\"middle\" text-anchor=\"middle\" font-size=\"14px\">X^-0.5</text><circle cx=\"542.80609375\" cy=\"75.0\" r=\"10.0\" /><rect x=\"522.80609375\" y=\"105.0\" width=\"40\" height=\"40\" stroke=\"black\" fill=\"white\" stroke-width=\"1\" /><text x=\"542.80609375\" y=\"125.0\" dominant-baseline=\"middle\" text-anchor=\"middle\" font-size=\"18px\">X</text><circle cx=\"602.80609375\" cy=\"25.0\" r=\"10.0\" /><rect x=\"582.80609375\" y=\"105.0\" width=\"40\" height=\"40\" stroke=\"black\" fill=\"white\" stroke-width=\"1\" /><text x=\"602.80609375\" y=\"125.0\" dominant-baseline=\"middle\" text-anchor=\"middle\" font-size=\"18px\">X</text></svg>"
      ],
      "text/plain": [
       "<cirq.contrib.svg.svg.SVGCircuit at 0x2d160f44358>"
      ]
     },
     "execution_count": 51,
     "metadata": {},
     "output_type": "execute_result"
    }
   ],
   "source": [
    "SVGCircuit(quantum_OR(*cirq.GridQubit.rect(1, 3)))"
   ]
  },
  {
   "cell_type": "code",
   "execution_count": 52,
   "metadata": {},
   "outputs": [
    {
     "data": {
      "text/plain": [
       "array([cirq.Circuit([\n",
       "    cirq.Moment(operations=[\n",
       "        (cirq.X**0.5).on(cirq.GridQubit(0, 2)),\n",
       "    ]),\n",
       "    cirq.Moment(operations=[\n",
       "        cirq.CNOT.on(cirq.GridQubit(0, 0), cirq.GridQubit(0, 2)),\n",
       "    ]),\n",
       "    cirq.Moment(operations=[\n",
       "        (cirq.X**0.5).on(cirq.GridQubit(0, 2)),\n",
       "    ]),\n",
       "    cirq.Moment(operations=[\n",
       "        cirq.CNOT.on(cirq.GridQubit(0, 1), cirq.GridQubit(0, 2)),\n",
       "    ]),\n",
       "    cirq.Moment(operations=[\n",
       "        (cirq.X**-0.5).on(cirq.GridQubit(0, 2)),\n",
       "    ]),\n",
       "    cirq.Moment(operations=[\n",
       "        cirq.CNOT.on(cirq.GridQubit(0, 0), cirq.GridQubit(0, 2)),\n",
       "    ]),\n",
       "    cirq.Moment(operations=[\n",
       "        (cirq.X**-0.5).on(cirq.GridQubit(0, 2)),\n",
       "    ]),\n",
       "    cirq.Moment(operations=[\n",
       "        cirq.CNOT.on(cirq.GridQubit(0, 1), cirq.GridQubit(0, 2)),\n",
       "    ]),\n",
       "    cirq.Moment(operations=[\n",
       "        cirq.CNOT.on(cirq.GridQubit(0, 0), cirq.GridQubit(0, 2)),\n",
       "    ]),\n",
       "])], dtype=object)"
      ]
     },
     "execution_count": 52,
     "metadata": {},
     "output_type": "execute_result"
    }
   ],
   "source": [
    "tfq.from_tensor(tfq.convert_to_tensor([quantum_OR(*cirq.GridQubit.rect(1, 3))]))"
   ]
  },
  {
   "cell_type": "code",
   "execution_count": 53,
   "metadata": {},
   "outputs": [],
   "source": [
    "def quantum_OR_circuit(input1_qubits, input2_qubits, output_qubits):\n",
    "    circuit = cirq.Circuit()\n",
    "    for iq1, iq2, oq in zip(input1_qubits, input2_qubits, output_qubits):\n",
    "        circuit += quantum_OR(iq1, iq2, oq)\n",
    "    return circuit"
   ]
  },
  {
   "cell_type": "code",
   "execution_count": 54,
   "metadata": {},
   "outputs": [
    {
     "data": {
      "image/svg+xml": [
       "<svg xmlns=\"http://www.w3.org/2000/svg\" width=\"4658.7797265624995\" height=\"1200.0\"><line x1=\"36.13986328125\" x2=\"4628.7797265624995\" y1=\"25.0\" y2=\"25.0\" stroke=\"#1967d2\" stroke-width=\"1\" /><line x1=\"36.13986328125\" x2=\"4628.7797265624995\" y1=\"75.0\" y2=\"75.0\" stroke=\"#1967d2\" stroke-width=\"1\" /><line x1=\"36.13986328125\" x2=\"4628.7797265624995\" y1=\"125.0\" y2=\"125.0\" stroke=\"#1967d2\" stroke-width=\"1\" /><line x1=\"36.13986328125\" x2=\"4628.7797265624995\" y1=\"175.0\" y2=\"175.0\" stroke=\"#1967d2\" stroke-width=\"1\" /><line x1=\"36.13986328125\" x2=\"4628.7797265624995\" y1=\"225.0\" y2=\"225.0\" stroke=\"#1967d2\" stroke-width=\"1\" /><line x1=\"36.13986328125\" x2=\"4628.7797265624995\" y1=\"275.0\" y2=\"275.0\" stroke=\"#1967d2\" stroke-width=\"1\" /><line x1=\"36.13986328125\" x2=\"4628.7797265624995\" y1=\"325.0\" y2=\"325.0\" stroke=\"#1967d2\" stroke-width=\"1\" /><line x1=\"36.13986328125\" x2=\"4628.7797265624995\" y1=\"375.0\" y2=\"375.0\" stroke=\"#1967d2\" stroke-width=\"1\" /><line x1=\"36.13986328125\" x2=\"4628.7797265624995\" y1=\"425.0\" y2=\"425.0\" stroke=\"#1967d2\" stroke-width=\"1\" /><line x1=\"36.13986328125\" x2=\"4628.7797265624995\" y1=\"475.0\" y2=\"475.0\" stroke=\"#1967d2\" stroke-width=\"1\" /><line x1=\"36.13986328125\" x2=\"4628.7797265624995\" y1=\"525.0\" y2=\"525.0\" stroke=\"#1967d2\" stroke-width=\"1\" /><line x1=\"36.13986328125\" x2=\"4628.7797265624995\" y1=\"575.0\" y2=\"575.0\" stroke=\"#1967d2\" stroke-width=\"1\" /><line x1=\"36.13986328125\" x2=\"4628.7797265624995\" y1=\"625.0\" y2=\"625.0\" stroke=\"#1967d2\" stroke-width=\"1\" /><line x1=\"36.13986328125\" x2=\"4628.7797265624995\" y1=\"675.0\" y2=\"675.0\" stroke=\"#1967d2\" stroke-width=\"1\" /><line x1=\"36.13986328125\" x2=\"4628.7797265624995\" y1=\"725.0\" y2=\"725.0\" stroke=\"#1967d2\" stroke-width=\"1\" /><line x1=\"36.13986328125\" x2=\"4628.7797265624995\" y1=\"775.0\" y2=\"775.0\" stroke=\"#1967d2\" stroke-width=\"1\" /><line x1=\"36.13986328125\" x2=\"4628.7797265624995\" y1=\"825.0\" y2=\"825.0\" stroke=\"#1967d2\" stroke-width=\"1\" /><line x1=\"36.13986328125\" x2=\"4628.7797265624995\" y1=\"875.0\" y2=\"875.0\" stroke=\"#1967d2\" stroke-width=\"1\" /><line x1=\"36.13986328125\" x2=\"4628.7797265624995\" y1=\"925.0\" y2=\"925.0\" stroke=\"#1967d2\" stroke-width=\"1\" /><line x1=\"36.13986328125\" x2=\"4628.7797265624995\" y1=\"975.0\" y2=\"975.0\" stroke=\"#1967d2\" stroke-width=\"1\" /><line x1=\"36.13986328125\" x2=\"4628.7797265624995\" y1=\"1025.0\" y2=\"1025.0\" stroke=\"#1967d2\" stroke-width=\"1\" /><line x1=\"36.13986328125\" x2=\"4628.7797265624995\" y1=\"1075.0\" y2=\"1075.0\" stroke=\"#1967d2\" stroke-width=\"1\" /><line x1=\"36.13986328125\" x2=\"4628.7797265624995\" y1=\"1125.0\" y2=\"1125.0\" stroke=\"#1967d2\" stroke-width=\"1\" /><line x1=\"36.13986328125\" x2=\"4628.7797265624995\" y1=\"1175.0\" y2=\"1175.0\" stroke=\"#1967d2\" stroke-width=\"1\" /><line x1=\"167.026796875\" x2=\"167.026796875\" y1=\"25.0\" y2=\"825.0\" stroke=\"black\" stroke-width=\"3\" /><line x1=\"291.7738671875\" x2=\"291.7738671875\" y1=\"425.0\" y2=\"825.0\" stroke=\"black\" stroke-width=\"3\" /><line x1=\"421.183046875\" x2=\"421.183046875\" y1=\"25.0\" y2=\"825.0\" stroke=\"black\" stroke-width=\"3\" /><line x1=\"550.5922265625\" x2=\"550.5922265625\" y1=\"425.0\" y2=\"825.0\" stroke=\"black\" stroke-width=\"3\" /><line x1=\"610.5922265625\" x2=\"610.5922265625\" y1=\"25.0\" y2=\"825.0\" stroke=\"black\" stroke-width=\"3\" /><line x1=\"735.339296875\" x2=\"735.339296875\" y1=\"75.0\" y2=\"875.0\" stroke=\"black\" stroke-width=\"3\" /><line x1=\"860.0863671875\" x2=\"860.0863671875\" y1=\"475.0\" y2=\"875.0\" stroke=\"black\" stroke-width=\"3\" /><line x1=\"989.495546875\" x2=\"989.495546875\" y1=\"75.0\" y2=\"875.0\" stroke=\"black\" stroke-width=\"3\" /><line x1=\"1118.9047265625\" x2=\"1118.9047265625\" y1=\"475.0\" y2=\"875.0\" stroke=\"black\" stroke-width=\"3\" /><line x1=\"1178.9047265625\" x2=\"1178.9047265625\" y1=\"75.0\" y2=\"875.0\" stroke=\"black\" stroke-width=\"3\" /><line x1=\"1303.651796875\" x2=\"1303.651796875\" y1=\"125.0\" y2=\"925.0\" stroke=\"black\" stroke-width=\"3\" /><line x1=\"1428.3988671875\" x2=\"1428.3988671875\" y1=\"525.0\" y2=\"925.0\" stroke=\"black\" stroke-width=\"3\" /><line x1=\"1557.808046875\" x2=\"1557.808046875\" y1=\"125.0\" y2=\"925.0\" stroke=\"black\" stroke-width=\"3\" /><line x1=\"1687.2172265625\" x2=\"1687.2172265625\" y1=\"525.0\" y2=\"925.0\" stroke=\"black\" stroke-width=\"3\" /><line x1=\"1747.2172265625\" x2=\"1747.2172265625\" y1=\"125.0\" y2=\"925.0\" stroke=\"black\" stroke-width=\"3\" /><line x1=\"1871.964296875\" x2=\"1871.964296875\" y1=\"175.0\" y2=\"975.0\" stroke=\"black\" stroke-width=\"3\" /><line x1=\"1996.7113671875\" x2=\"1996.7113671875\" y1=\"575.0\" y2=\"975.0\" stroke=\"black\" stroke-width=\"3\" /><line x1=\"2126.120546875\" x2=\"2126.120546875\" y1=\"175.0\" y2=\"975.0\" stroke=\"black\" stroke-width=\"3\" /><line x1=\"2255.5297265625\" x2=\"2255.5297265625\" y1=\"575.0\" y2=\"975.0\" stroke=\"black\" stroke-width=\"3\" /><line x1=\"2315.5297265625\" x2=\"2315.5297265625\" y1=\"175.0\" y2=\"975.0\" stroke=\"black\" stroke-width=\"3\" /><line x1=\"2440.276796875\" x2=\"2440.276796875\" y1=\"225.0\" y2=\"1025.0\" stroke=\"black\" stroke-width=\"3\" /><line x1=\"2565.0238671875\" x2=\"2565.0238671875\" y1=\"625.0\" y2=\"1025.0\" stroke=\"black\" stroke-width=\"3\" /><line x1=\"2694.433046875\" x2=\"2694.433046875\" y1=\"225.0\" y2=\"1025.0\" stroke=\"black\" stroke-width=\"3\" /><line x1=\"2823.8422265625\" x2=\"2823.8422265625\" y1=\"625.0\" y2=\"1025.0\" stroke=\"black\" stroke-width=\"3\" /><line x1=\"2883.8422265625\" x2=\"2883.8422265625\" y1=\"225.0\" y2=\"1025.0\" stroke=\"black\" stroke-width=\"3\" /><line x1=\"3008.589296875\" x2=\"3008.589296875\" y1=\"275.0\" y2=\"1075.0\" stroke=\"black\" stroke-width=\"3\" /><line x1=\"3133.3363671875\" x2=\"3133.3363671875\" y1=\"675.0\" y2=\"1075.0\" stroke=\"black\" stroke-width=\"3\" /><line x1=\"3262.745546875\" x2=\"3262.745546875\" y1=\"275.0\" y2=\"1075.0\" stroke=\"black\" stroke-width=\"3\" /><line x1=\"3392.1547265625\" x2=\"3392.1547265625\" y1=\"675.0\" y2=\"1075.0\" stroke=\"black\" stroke-width=\"3\" /><line x1=\"3452.1547265625\" x2=\"3452.1547265625\" y1=\"275.0\" y2=\"1075.0\" stroke=\"black\" stroke-width=\"3\" /><line x1=\"3576.901796875\" x2=\"3576.901796875\" y1=\"325.0\" y2=\"1125.0\" stroke=\"black\" stroke-width=\"3\" /><line x1=\"3701.6488671875\" x2=\"3701.6488671875\" y1=\"725.0\" y2=\"1125.0\" stroke=\"black\" stroke-width=\"3\" /><line x1=\"3831.058046875\" x2=\"3831.058046875\" y1=\"325.0\" y2=\"1125.0\" stroke=\"black\" stroke-width=\"3\" /><line x1=\"3960.4672265625\" x2=\"3960.4672265625\" y1=\"725.0\" y2=\"1125.0\" stroke=\"black\" stroke-width=\"3\" /><line x1=\"4020.4672265625\" x2=\"4020.4672265625\" y1=\"325.0\" y2=\"1125.0\" stroke=\"black\" stroke-width=\"3\" /><line x1=\"4145.2142968749995\" x2=\"4145.2142968749995\" y1=\"375.0\" y2=\"1175.0\" stroke=\"black\" stroke-width=\"3\" /><line x1=\"4269.9613671874995\" x2=\"4269.9613671874995\" y1=\"775.0\" y2=\"1175.0\" stroke=\"black\" stroke-width=\"3\" /><line x1=\"4399.3705468749995\" x2=\"4399.3705468749995\" y1=\"375.0\" y2=\"1175.0\" stroke=\"black\" stroke-width=\"3\" /><line x1=\"4528.7797265624995\" x2=\"4528.7797265624995\" y1=\"775.0\" y2=\"1175.0\" stroke=\"black\" stroke-width=\"3\" /><line x1=\"4588.7797265624995\" x2=\"4588.7797265624995\" y1=\"375.0\" y2=\"1175.0\" stroke=\"black\" stroke-width=\"3\" /><rect x=\"10.0\" y=\"5.0\" width=\"52.2797265625\" height=\"40\" stroke=\"black\" fill=\"white\" stroke-width=\"0\" /><text x=\"36.13986328125\" y=\"25.0\" dominant-baseline=\"middle\" text-anchor=\"middle\" font-size=\"14px\">(0, 0): </text><rect x=\"10.0\" y=\"55.0\" width=\"52.2797265625\" height=\"40\" stroke=\"black\" fill=\"white\" stroke-width=\"0\" /><text x=\"36.13986328125\" y=\"75.0\" dominant-baseline=\"middle\" text-anchor=\"middle\" font-size=\"14px\">(0, 1): </text><rect x=\"10.0\" y=\"105.0\" width=\"52.2797265625\" height=\"40\" stroke=\"black\" fill=\"white\" stroke-width=\"0\" /><text x=\"36.13986328125\" y=\"125.0\" dominant-baseline=\"middle\" text-anchor=\"middle\" font-size=\"14px\">(0, 2): </text><rect x=\"10.0\" y=\"155.0\" width=\"52.2797265625\" height=\"40\" stroke=\"black\" fill=\"white\" stroke-width=\"0\" /><text x=\"36.13986328125\" y=\"175.0\" dominant-baseline=\"middle\" text-anchor=\"middle\" font-size=\"14px\">(0, 3): </text><rect x=\"10.0\" y=\"205.0\" width=\"52.2797265625\" height=\"40\" stroke=\"black\" fill=\"white\" stroke-width=\"0\" /><text x=\"36.13986328125\" y=\"225.0\" dominant-baseline=\"middle\" text-anchor=\"middle\" font-size=\"14px\">(0, 4): </text><rect x=\"10.0\" y=\"255.0\" width=\"52.2797265625\" height=\"40\" stroke=\"black\" fill=\"white\" stroke-width=\"0\" /><text x=\"36.13986328125\" y=\"275.0\" dominant-baseline=\"middle\" text-anchor=\"middle\" font-size=\"14px\">(0, 5): </text><rect x=\"10.0\" y=\"305.0\" width=\"52.2797265625\" height=\"40\" stroke=\"black\" fill=\"white\" stroke-width=\"0\" /><text x=\"36.13986328125\" y=\"325.0\" dominant-baseline=\"middle\" text-anchor=\"middle\" font-size=\"14px\">(0, 6): </text><rect x=\"10.0\" y=\"355.0\" width=\"52.2797265625\" height=\"40\" stroke=\"black\" fill=\"white\" stroke-width=\"0\" /><text x=\"36.13986328125\" y=\"375.0\" dominant-baseline=\"middle\" text-anchor=\"middle\" font-size=\"14px\">(0, 7): </text><rect x=\"10.0\" y=\"405.0\" width=\"52.2797265625\" height=\"40\" stroke=\"black\" fill=\"white\" stroke-width=\"0\" /><text x=\"36.13986328125\" y=\"425.0\" dominant-baseline=\"middle\" text-anchor=\"middle\" font-size=\"14px\">(0, 8): </text><rect x=\"10.0\" y=\"455.0\" width=\"52.2797265625\" height=\"40\" stroke=\"black\" fill=\"white\" stroke-width=\"0\" /><text x=\"36.13986328125\" y=\"475.0\" dominant-baseline=\"middle\" text-anchor=\"middle\" font-size=\"14px\">(0, 9): </text><rect x=\"10.0\" y=\"505.0\" width=\"52.2797265625\" height=\"40\" stroke=\"black\" fill=\"white\" stroke-width=\"0\" /><text x=\"36.13986328125\" y=\"525.0\" dominant-baseline=\"middle\" text-anchor=\"middle\" font-size=\"14px\">(0, 10): </text><rect x=\"10.0\" y=\"555.0\" width=\"52.2797265625\" height=\"40\" stroke=\"black\" fill=\"white\" stroke-width=\"0\" /><text x=\"36.13986328125\" y=\"575.0\" dominant-baseline=\"middle\" text-anchor=\"middle\" font-size=\"14px\">(0, 11): </text><rect x=\"10.0\" y=\"605.0\" width=\"52.2797265625\" height=\"40\" stroke=\"black\" fill=\"white\" stroke-width=\"0\" /><text x=\"36.13986328125\" y=\"625.0\" dominant-baseline=\"middle\" text-anchor=\"middle\" font-size=\"14px\">(0, 12): </text><rect x=\"10.0\" y=\"655.0\" width=\"52.2797265625\" height=\"40\" stroke=\"black\" fill=\"white\" stroke-width=\"0\" /><text x=\"36.13986328125\" y=\"675.0\" dominant-baseline=\"middle\" text-anchor=\"middle\" font-size=\"14px\">(0, 13): </text><rect x=\"10.0\" y=\"705.0\" width=\"52.2797265625\" height=\"40\" stroke=\"black\" fill=\"white\" stroke-width=\"0\" /><text x=\"36.13986328125\" y=\"725.0\" dominant-baseline=\"middle\" text-anchor=\"middle\" font-size=\"14px\">(0, 14): </text><rect x=\"10.0\" y=\"755.0\" width=\"52.2797265625\" height=\"40\" stroke=\"black\" fill=\"white\" stroke-width=\"0\" /><text x=\"36.13986328125\" y=\"775.0\" dominant-baseline=\"middle\" text-anchor=\"middle\" font-size=\"14px\">(0, 15): </text><rect x=\"10.0\" y=\"805.0\" width=\"52.2797265625\" height=\"40\" stroke=\"black\" fill=\"white\" stroke-width=\"0\" /><text x=\"36.13986328125\" y=\"825.0\" dominant-baseline=\"middle\" text-anchor=\"middle\" font-size=\"14px\">(0, 16): </text><rect x=\"10.0\" y=\"855.0\" width=\"52.2797265625\" height=\"40\" stroke=\"black\" fill=\"white\" stroke-width=\"0\" /><text x=\"36.13986328125\" y=\"875.0\" dominant-baseline=\"middle\" text-anchor=\"middle\" font-size=\"14px\">(0, 17): </text><rect x=\"10.0\" y=\"905.0\" width=\"52.2797265625\" height=\"40\" stroke=\"black\" fill=\"white\" stroke-width=\"0\" /><text x=\"36.13986328125\" y=\"925.0\" dominant-baseline=\"middle\" text-anchor=\"middle\" font-size=\"14px\">(0, 18): </text><rect x=\"10.0\" y=\"955.0\" width=\"52.2797265625\" height=\"40\" stroke=\"black\" fill=\"white\" stroke-width=\"0\" /><text x=\"36.13986328125\" y=\"975.0\" dominant-baseline=\"middle\" text-anchor=\"middle\" font-size=\"14px\">(0, 19): </text><rect x=\"10.0\" y=\"1005.0\" width=\"52.2797265625\" height=\"40\" stroke=\"black\" fill=\"white\" stroke-width=\"0\" /><text x=\"36.13986328125\" y=\"1025.0\" dominant-baseline=\"middle\" text-anchor=\"middle\" font-size=\"14px\">(0, 20): </text><rect x=\"10.0\" y=\"1055.0\" width=\"52.2797265625\" height=\"40\" stroke=\"black\" fill=\"white\" stroke-width=\"0\" /><text x=\"36.13986328125\" y=\"1075.0\" dominant-baseline=\"middle\" text-anchor=\"middle\" font-size=\"14px\">(0, 21): </text><rect x=\"10.0\" y=\"1105.0\" width=\"52.2797265625\" height=\"40\" stroke=\"black\" fill=\"white\" stroke-width=\"0\" /><text x=\"36.13986328125\" y=\"1125.0\" dominant-baseline=\"middle\" text-anchor=\"middle\" font-size=\"14px\">(0, 22): </text><rect x=\"10.0\" y=\"1155.0\" width=\"52.2797265625\" height=\"40\" stroke=\"black\" fill=\"white\" stroke-width=\"0\" /><text x=\"36.13986328125\" y=\"1175.0\" dominant-baseline=\"middle\" text-anchor=\"middle\" font-size=\"14px\">(0, 23): </text><rect x=\"82.2797265625\" y=\"805.0\" width=\"44.7470703125\" height=\"40\" stroke=\"black\" fill=\"white\" stroke-width=\"1\" /><text x=\"104.65326171875\" y=\"825.0\" dominant-baseline=\"middle\" text-anchor=\"middle\" font-size=\"14px\">X^0.5</text><circle cx=\"167.026796875\" cy=\"25.0\" r=\"10.0\" /><rect x=\"147.026796875\" y=\"805.0\" width=\"40\" height=\"40\" stroke=\"black\" fill=\"white\" stroke-width=\"1\" /><text x=\"167.026796875\" y=\"825.0\" dominant-baseline=\"middle\" text-anchor=\"middle\" font-size=\"18px\">X</text><rect x=\"207.026796875\" y=\"805.0\" width=\"44.7470703125\" height=\"40\" stroke=\"black\" fill=\"white\" stroke-width=\"1\" /><text x=\"229.40033203125\" y=\"825.0\" dominant-baseline=\"middle\" text-anchor=\"middle\" font-size=\"14px\">X^0.5</text><circle cx=\"291.7738671875\" cy=\"425.0\" r=\"10.0\" /><rect x=\"271.7738671875\" y=\"805.0\" width=\"40\" height=\"40\" stroke=\"black\" fill=\"white\" stroke-width=\"1\" /><text x=\"291.7738671875\" y=\"825.0\" dominant-baseline=\"middle\" text-anchor=\"middle\" font-size=\"18px\">X</text><rect x=\"331.7738671875\" y=\"805.0\" width=\"49.4091796875\" height=\"40\" stroke=\"black\" fill=\"white\" stroke-width=\"1\" /><text x=\"356.47845703125\" y=\"825.0\" dominant-baseline=\"middle\" text-anchor=\"middle\" font-size=\"14px\">X^-0.5</text><circle cx=\"421.183046875\" cy=\"25.0\" r=\"10.0\" /><rect x=\"401.183046875\" y=\"805.0\" width=\"40\" height=\"40\" stroke=\"black\" fill=\"white\" stroke-width=\"1\" /><text x=\"421.183046875\" y=\"825.0\" dominant-baseline=\"middle\" text-anchor=\"middle\" font-size=\"18px\">X</text><rect x=\"461.183046875\" y=\"805.0\" width=\"49.4091796875\" height=\"40\" stroke=\"black\" fill=\"white\" stroke-width=\"1\" /><text x=\"485.88763671875\" y=\"825.0\" dominant-baseline=\"middle\" text-anchor=\"middle\" font-size=\"14px\">X^-0.5</text><circle cx=\"550.5922265625\" cy=\"425.0\" r=\"10.0\" /><rect x=\"530.5922265625\" y=\"805.0\" width=\"40\" height=\"40\" stroke=\"black\" fill=\"white\" stroke-width=\"1\" /><text x=\"550.5922265625\" y=\"825.0\" dominant-baseline=\"middle\" text-anchor=\"middle\" font-size=\"18px\">X</text><circle cx=\"610.5922265625\" cy=\"25.0\" r=\"10.0\" /><rect x=\"590.5922265625\" y=\"805.0\" width=\"40\" height=\"40\" stroke=\"black\" fill=\"white\" stroke-width=\"1\" /><text x=\"610.5922265625\" y=\"825.0\" dominant-baseline=\"middle\" text-anchor=\"middle\" font-size=\"18px\">X</text><rect x=\"650.5922265625\" y=\"855.0\" width=\"44.7470703125\" height=\"40\" stroke=\"black\" fill=\"white\" stroke-width=\"1\" /><text x=\"672.96576171875\" y=\"875.0\" dominant-baseline=\"middle\" text-anchor=\"middle\" font-size=\"14px\">X^0.5</text><circle cx=\"735.339296875\" cy=\"75.0\" r=\"10.0\" /><rect x=\"715.339296875\" y=\"855.0\" width=\"40\" height=\"40\" stroke=\"black\" fill=\"white\" stroke-width=\"1\" /><text x=\"735.339296875\" y=\"875.0\" dominant-baseline=\"middle\" text-anchor=\"middle\" font-size=\"18px\">X</text><rect x=\"775.339296875\" y=\"855.0\" width=\"44.7470703125\" height=\"40\" stroke=\"black\" fill=\"white\" stroke-width=\"1\" /><text x=\"797.71283203125\" y=\"875.0\" dominant-baseline=\"middle\" text-anchor=\"middle\" font-size=\"14px\">X^0.5</text><circle cx=\"860.0863671875\" cy=\"475.0\" r=\"10.0\" /><rect x=\"840.0863671875\" y=\"855.0\" width=\"40\" height=\"40\" stroke=\"black\" fill=\"white\" stroke-width=\"1\" /><text x=\"860.0863671875\" y=\"875.0\" dominant-baseline=\"middle\" text-anchor=\"middle\" font-size=\"18px\">X</text><rect x=\"900.0863671875\" y=\"855.0\" width=\"49.4091796875\" height=\"40\" stroke=\"black\" fill=\"white\" stroke-width=\"1\" /><text x=\"924.79095703125\" y=\"875.0\" dominant-baseline=\"middle\" text-anchor=\"middle\" font-size=\"14px\">X^-0.5</text><circle cx=\"989.495546875\" cy=\"75.0\" r=\"10.0\" /><rect x=\"969.495546875\" y=\"855.0\" width=\"40\" height=\"40\" stroke=\"black\" fill=\"white\" stroke-width=\"1\" /><text x=\"989.495546875\" y=\"875.0\" dominant-baseline=\"middle\" text-anchor=\"middle\" font-size=\"18px\">X</text><rect x=\"1029.495546875\" y=\"855.0\" width=\"49.4091796875\" height=\"40\" stroke=\"black\" fill=\"white\" stroke-width=\"1\" /><text x=\"1054.20013671875\" y=\"875.0\" dominant-baseline=\"middle\" text-anchor=\"middle\" font-size=\"14px\">X^-0.5</text><circle cx=\"1118.9047265625\" cy=\"475.0\" r=\"10.0\" /><rect x=\"1098.9047265625\" y=\"855.0\" width=\"40\" height=\"40\" stroke=\"black\" fill=\"white\" stroke-width=\"1\" /><text x=\"1118.9047265625\" y=\"875.0\" dominant-baseline=\"middle\" text-anchor=\"middle\" font-size=\"18px\">X</text><circle cx=\"1178.9047265625\" cy=\"75.0\" r=\"10.0\" /><rect x=\"1158.9047265625\" y=\"855.0\" width=\"40\" height=\"40\" stroke=\"black\" fill=\"white\" stroke-width=\"1\" /><text x=\"1178.9047265625\" y=\"875.0\" dominant-baseline=\"middle\" text-anchor=\"middle\" font-size=\"18px\">X</text><rect x=\"1218.9047265625\" y=\"905.0\" width=\"44.7470703125\" height=\"40\" stroke=\"black\" fill=\"white\" stroke-width=\"1\" /><text x=\"1241.27826171875\" y=\"925.0\" dominant-baseline=\"middle\" text-anchor=\"middle\" font-size=\"14px\">X^0.5</text><circle cx=\"1303.651796875\" cy=\"125.0\" r=\"10.0\" /><rect x=\"1283.651796875\" y=\"905.0\" width=\"40\" height=\"40\" stroke=\"black\" fill=\"white\" stroke-width=\"1\" /><text x=\"1303.651796875\" y=\"925.0\" dominant-baseline=\"middle\" text-anchor=\"middle\" font-size=\"18px\">X</text><rect x=\"1343.651796875\" y=\"905.0\" width=\"44.7470703125\" height=\"40\" stroke=\"black\" fill=\"white\" stroke-width=\"1\" /><text x=\"1366.02533203125\" y=\"925.0\" dominant-baseline=\"middle\" text-anchor=\"middle\" font-size=\"14px\">X^0.5</text><circle cx=\"1428.3988671875\" cy=\"525.0\" r=\"10.0\" /><rect x=\"1408.3988671875\" y=\"905.0\" width=\"40\" height=\"40\" stroke=\"black\" fill=\"white\" stroke-width=\"1\" /><text x=\"1428.3988671875\" y=\"925.0\" dominant-baseline=\"middle\" text-anchor=\"middle\" font-size=\"18px\">X</text><rect x=\"1468.3988671875\" y=\"905.0\" width=\"49.4091796875\" height=\"40\" stroke=\"black\" fill=\"white\" stroke-width=\"1\" /><text x=\"1493.10345703125\" y=\"925.0\" dominant-baseline=\"middle\" text-anchor=\"middle\" font-size=\"14px\">X^-0.5</text><circle cx=\"1557.808046875\" cy=\"125.0\" r=\"10.0\" /><rect x=\"1537.808046875\" y=\"905.0\" width=\"40\" height=\"40\" stroke=\"black\" fill=\"white\" stroke-width=\"1\" /><text x=\"1557.808046875\" y=\"925.0\" dominant-baseline=\"middle\" text-anchor=\"middle\" font-size=\"18px\">X</text><rect x=\"1597.808046875\" y=\"905.0\" width=\"49.4091796875\" height=\"40\" stroke=\"black\" fill=\"white\" stroke-width=\"1\" /><text x=\"1622.51263671875\" y=\"925.0\" dominant-baseline=\"middle\" text-anchor=\"middle\" font-size=\"14px\">X^-0.5</text><circle cx=\"1687.2172265625\" cy=\"525.0\" r=\"10.0\" /><rect x=\"1667.2172265625\" y=\"905.0\" width=\"40\" height=\"40\" stroke=\"black\" fill=\"white\" stroke-width=\"1\" /><text x=\"1687.2172265625\" y=\"925.0\" dominant-baseline=\"middle\" text-anchor=\"middle\" font-size=\"18px\">X</text><circle cx=\"1747.2172265625\" cy=\"125.0\" r=\"10.0\" /><rect x=\"1727.2172265625\" y=\"905.0\" width=\"40\" height=\"40\" stroke=\"black\" fill=\"white\" stroke-width=\"1\" /><text x=\"1747.2172265625\" y=\"925.0\" dominant-baseline=\"middle\" text-anchor=\"middle\" font-size=\"18px\">X</text><rect x=\"1787.2172265625\" y=\"955.0\" width=\"44.7470703125\" height=\"40\" stroke=\"black\" fill=\"white\" stroke-width=\"1\" /><text x=\"1809.59076171875\" y=\"975.0\" dominant-baseline=\"middle\" text-anchor=\"middle\" font-size=\"14px\">X^0.5</text><circle cx=\"1871.964296875\" cy=\"175.0\" r=\"10.0\" /><rect x=\"1851.964296875\" y=\"955.0\" width=\"40\" height=\"40\" stroke=\"black\" fill=\"white\" stroke-width=\"1\" /><text x=\"1871.964296875\" y=\"975.0\" dominant-baseline=\"middle\" text-anchor=\"middle\" font-size=\"18px\">X</text><rect x=\"1911.964296875\" y=\"955.0\" width=\"44.7470703125\" height=\"40\" stroke=\"black\" fill=\"white\" stroke-width=\"1\" /><text x=\"1934.33783203125\" y=\"975.0\" dominant-baseline=\"middle\" text-anchor=\"middle\" font-size=\"14px\">X^0.5</text><circle cx=\"1996.7113671875\" cy=\"575.0\" r=\"10.0\" /><rect x=\"1976.7113671875\" y=\"955.0\" width=\"40\" height=\"40\" stroke=\"black\" fill=\"white\" stroke-width=\"1\" /><text x=\"1996.7113671875\" y=\"975.0\" dominant-baseline=\"middle\" text-anchor=\"middle\" font-size=\"18px\">X</text><rect x=\"2036.7113671875\" y=\"955.0\" width=\"49.4091796875\" height=\"40\" stroke=\"black\" fill=\"white\" stroke-width=\"1\" /><text x=\"2061.41595703125\" y=\"975.0\" dominant-baseline=\"middle\" text-anchor=\"middle\" font-size=\"14px\">X^-0.5</text><circle cx=\"2126.120546875\" cy=\"175.0\" r=\"10.0\" /><rect x=\"2106.120546875\" y=\"955.0\" width=\"40\" height=\"40\" stroke=\"black\" fill=\"white\" stroke-width=\"1\" /><text x=\"2126.120546875\" y=\"975.0\" dominant-baseline=\"middle\" text-anchor=\"middle\" font-size=\"18px\">X</text><rect x=\"2166.120546875\" y=\"955.0\" width=\"49.4091796875\" height=\"40\" stroke=\"black\" fill=\"white\" stroke-width=\"1\" /><text x=\"2190.82513671875\" y=\"975.0\" dominant-baseline=\"middle\" text-anchor=\"middle\" font-size=\"14px\">X^-0.5</text><circle cx=\"2255.5297265625\" cy=\"575.0\" r=\"10.0\" /><rect x=\"2235.5297265625\" y=\"955.0\" width=\"40\" height=\"40\" stroke=\"black\" fill=\"white\" stroke-width=\"1\" /><text x=\"2255.5297265625\" y=\"975.0\" dominant-baseline=\"middle\" text-anchor=\"middle\" font-size=\"18px\">X</text><circle cx=\"2315.5297265625\" cy=\"175.0\" r=\"10.0\" /><rect x=\"2295.5297265625\" y=\"955.0\" width=\"40\" height=\"40\" stroke=\"black\" fill=\"white\" stroke-width=\"1\" /><text x=\"2315.5297265625\" y=\"975.0\" dominant-baseline=\"middle\" text-anchor=\"middle\" font-size=\"18px\">X</text><rect x=\"2355.5297265625\" y=\"1005.0\" width=\"44.7470703125\" height=\"40\" stroke=\"black\" fill=\"white\" stroke-width=\"1\" /><text x=\"2377.90326171875\" y=\"1025.0\" dominant-baseline=\"middle\" text-anchor=\"middle\" font-size=\"14px\">X^0.5</text><circle cx=\"2440.276796875\" cy=\"225.0\" r=\"10.0\" /><rect x=\"2420.276796875\" y=\"1005.0\" width=\"40\" height=\"40\" stroke=\"black\" fill=\"white\" stroke-width=\"1\" /><text x=\"2440.276796875\" y=\"1025.0\" dominant-baseline=\"middle\" text-anchor=\"middle\" font-size=\"18px\">X</text><rect x=\"2480.276796875\" y=\"1005.0\" width=\"44.7470703125\" height=\"40\" stroke=\"black\" fill=\"white\" stroke-width=\"1\" /><text x=\"2502.65033203125\" y=\"1025.0\" dominant-baseline=\"middle\" text-anchor=\"middle\" font-size=\"14px\">X^0.5</text><circle cx=\"2565.0238671875\" cy=\"625.0\" r=\"10.0\" /><rect x=\"2545.0238671875\" y=\"1005.0\" width=\"40\" height=\"40\" stroke=\"black\" fill=\"white\" stroke-width=\"1\" /><text x=\"2565.0238671875\" y=\"1025.0\" dominant-baseline=\"middle\" text-anchor=\"middle\" font-size=\"18px\">X</text><rect x=\"2605.0238671875\" y=\"1005.0\" width=\"49.4091796875\" height=\"40\" stroke=\"black\" fill=\"white\" stroke-width=\"1\" /><text x=\"2629.72845703125\" y=\"1025.0\" dominant-baseline=\"middle\" text-anchor=\"middle\" font-size=\"14px\">X^-0.5</text><circle cx=\"2694.433046875\" cy=\"225.0\" r=\"10.0\" /><rect x=\"2674.433046875\" y=\"1005.0\" width=\"40\" height=\"40\" stroke=\"black\" fill=\"white\" stroke-width=\"1\" /><text x=\"2694.433046875\" y=\"1025.0\" dominant-baseline=\"middle\" text-anchor=\"middle\" font-size=\"18px\">X</text><rect x=\"2734.433046875\" y=\"1005.0\" width=\"49.4091796875\" height=\"40\" stroke=\"black\" fill=\"white\" stroke-width=\"1\" /><text x=\"2759.13763671875\" y=\"1025.0\" dominant-baseline=\"middle\" text-anchor=\"middle\" font-size=\"14px\">X^-0.5</text><circle cx=\"2823.8422265625\" cy=\"625.0\" r=\"10.0\" /><rect x=\"2803.8422265625\" y=\"1005.0\" width=\"40\" height=\"40\" stroke=\"black\" fill=\"white\" stroke-width=\"1\" /><text x=\"2823.8422265625\" y=\"1025.0\" dominant-baseline=\"middle\" text-anchor=\"middle\" font-size=\"18px\">X</text><circle cx=\"2883.8422265625\" cy=\"225.0\" r=\"10.0\" /><rect x=\"2863.8422265625\" y=\"1005.0\" width=\"40\" height=\"40\" stroke=\"black\" fill=\"white\" stroke-width=\"1\" /><text x=\"2883.8422265625\" y=\"1025.0\" dominant-baseline=\"middle\" text-anchor=\"middle\" font-size=\"18px\">X</text><rect x=\"2923.8422265625\" y=\"1055.0\" width=\"44.7470703125\" height=\"40\" stroke=\"black\" fill=\"white\" stroke-width=\"1\" /><text x=\"2946.21576171875\" y=\"1075.0\" dominant-baseline=\"middle\" text-anchor=\"middle\" font-size=\"14px\">X^0.5</text><circle cx=\"3008.589296875\" cy=\"275.0\" r=\"10.0\" /><rect x=\"2988.589296875\" y=\"1055.0\" width=\"40\" height=\"40\" stroke=\"black\" fill=\"white\" stroke-width=\"1\" /><text x=\"3008.589296875\" y=\"1075.0\" dominant-baseline=\"middle\" text-anchor=\"middle\" font-size=\"18px\">X</text><rect x=\"3048.589296875\" y=\"1055.0\" width=\"44.7470703125\" height=\"40\" stroke=\"black\" fill=\"white\" stroke-width=\"1\" /><text x=\"3070.96283203125\" y=\"1075.0\" dominant-baseline=\"middle\" text-anchor=\"middle\" font-size=\"14px\">X^0.5</text><circle cx=\"3133.3363671875\" cy=\"675.0\" r=\"10.0\" /><rect x=\"3113.3363671875\" y=\"1055.0\" width=\"40\" height=\"40\" stroke=\"black\" fill=\"white\" stroke-width=\"1\" /><text x=\"3133.3363671875\" y=\"1075.0\" dominant-baseline=\"middle\" text-anchor=\"middle\" font-size=\"18px\">X</text><rect x=\"3173.3363671875\" y=\"1055.0\" width=\"49.4091796875\" height=\"40\" stroke=\"black\" fill=\"white\" stroke-width=\"1\" /><text x=\"3198.04095703125\" y=\"1075.0\" dominant-baseline=\"middle\" text-anchor=\"middle\" font-size=\"14px\">X^-0.5</text><circle cx=\"3262.745546875\" cy=\"275.0\" r=\"10.0\" /><rect x=\"3242.745546875\" y=\"1055.0\" width=\"40\" height=\"40\" stroke=\"black\" fill=\"white\" stroke-width=\"1\" /><text x=\"3262.745546875\" y=\"1075.0\" dominant-baseline=\"middle\" text-anchor=\"middle\" font-size=\"18px\">X</text><rect x=\"3302.745546875\" y=\"1055.0\" width=\"49.4091796875\" height=\"40\" stroke=\"black\" fill=\"white\" stroke-width=\"1\" /><text x=\"3327.45013671875\" y=\"1075.0\" dominant-baseline=\"middle\" text-anchor=\"middle\" font-size=\"14px\">X^-0.5</text><circle cx=\"3392.1547265625\" cy=\"675.0\" r=\"10.0\" /><rect x=\"3372.1547265625\" y=\"1055.0\" width=\"40\" height=\"40\" stroke=\"black\" fill=\"white\" stroke-width=\"1\" /><text x=\"3392.1547265625\" y=\"1075.0\" dominant-baseline=\"middle\" text-anchor=\"middle\" font-size=\"18px\">X</text><circle cx=\"3452.1547265625\" cy=\"275.0\" r=\"10.0\" /><rect x=\"3432.1547265625\" y=\"1055.0\" width=\"40\" height=\"40\" stroke=\"black\" fill=\"white\" stroke-width=\"1\" /><text x=\"3452.1547265625\" y=\"1075.0\" dominant-baseline=\"middle\" text-anchor=\"middle\" font-size=\"18px\">X</text><rect x=\"3492.1547265625\" y=\"1105.0\" width=\"44.7470703125\" height=\"40\" stroke=\"black\" fill=\"white\" stroke-width=\"1\" /><text x=\"3514.52826171875\" y=\"1125.0\" dominant-baseline=\"middle\" text-anchor=\"middle\" font-size=\"14px\">X^0.5</text><circle cx=\"3576.901796875\" cy=\"325.0\" r=\"10.0\" /><rect x=\"3556.901796875\" y=\"1105.0\" width=\"40\" height=\"40\" stroke=\"black\" fill=\"white\" stroke-width=\"1\" /><text x=\"3576.901796875\" y=\"1125.0\" dominant-baseline=\"middle\" text-anchor=\"middle\" font-size=\"18px\">X</text><rect x=\"3616.901796875\" y=\"1105.0\" width=\"44.7470703125\" height=\"40\" stroke=\"black\" fill=\"white\" stroke-width=\"1\" /><text x=\"3639.27533203125\" y=\"1125.0\" dominant-baseline=\"middle\" text-anchor=\"middle\" font-size=\"14px\">X^0.5</text><circle cx=\"3701.6488671875\" cy=\"725.0\" r=\"10.0\" /><rect x=\"3681.6488671875\" y=\"1105.0\" width=\"40\" height=\"40\" stroke=\"black\" fill=\"white\" stroke-width=\"1\" /><text x=\"3701.6488671875\" y=\"1125.0\" dominant-baseline=\"middle\" text-anchor=\"middle\" font-size=\"18px\">X</text><rect x=\"3741.6488671875\" y=\"1105.0\" width=\"49.4091796875\" height=\"40\" stroke=\"black\" fill=\"white\" stroke-width=\"1\" /><text x=\"3766.35345703125\" y=\"1125.0\" dominant-baseline=\"middle\" text-anchor=\"middle\" font-size=\"14px\">X^-0.5</text><circle cx=\"3831.058046875\" cy=\"325.0\" r=\"10.0\" /><rect x=\"3811.058046875\" y=\"1105.0\" width=\"40\" height=\"40\" stroke=\"black\" fill=\"white\" stroke-width=\"1\" /><text x=\"3831.058046875\" y=\"1125.0\" dominant-baseline=\"middle\" text-anchor=\"middle\" font-size=\"18px\">X</text><rect x=\"3871.058046875\" y=\"1105.0\" width=\"49.4091796875\" height=\"40\" stroke=\"black\" fill=\"white\" stroke-width=\"1\" /><text x=\"3895.76263671875\" y=\"1125.0\" dominant-baseline=\"middle\" text-anchor=\"middle\" font-size=\"14px\">X^-0.5</text><circle cx=\"3960.4672265625\" cy=\"725.0\" r=\"10.0\" /><rect x=\"3940.4672265625\" y=\"1105.0\" width=\"40\" height=\"40\" stroke=\"black\" fill=\"white\" stroke-width=\"1\" /><text x=\"3960.4672265625\" y=\"1125.0\" dominant-baseline=\"middle\" text-anchor=\"middle\" font-size=\"18px\">X</text><circle cx=\"4020.4672265625\" cy=\"325.0\" r=\"10.0\" /><rect x=\"4000.4672265625\" y=\"1105.0\" width=\"40\" height=\"40\" stroke=\"black\" fill=\"white\" stroke-width=\"1\" /><text x=\"4020.4672265625\" y=\"1125.0\" dominant-baseline=\"middle\" text-anchor=\"middle\" font-size=\"18px\">X</text><rect x=\"4060.4672265625\" y=\"1155.0\" width=\"44.7470703125\" height=\"40\" stroke=\"black\" fill=\"white\" stroke-width=\"1\" /><text x=\"4082.84076171875\" y=\"1175.0\" dominant-baseline=\"middle\" text-anchor=\"middle\" font-size=\"14px\">X^0.5</text><circle cx=\"4145.2142968749995\" cy=\"375.0\" r=\"10.0\" /><rect x=\"4125.2142968749995\" y=\"1155.0\" width=\"40\" height=\"40\" stroke=\"black\" fill=\"white\" stroke-width=\"1\" /><text x=\"4145.2142968749995\" y=\"1175.0\" dominant-baseline=\"middle\" text-anchor=\"middle\" font-size=\"18px\">X</text><rect x=\"4185.2142968749995\" y=\"1155.0\" width=\"44.7470703125\" height=\"40\" stroke=\"black\" fill=\"white\" stroke-width=\"1\" /><text x=\"4207.5878320312495\" y=\"1175.0\" dominant-baseline=\"middle\" text-anchor=\"middle\" font-size=\"14px\">X^0.5</text><circle cx=\"4269.9613671874995\" cy=\"775.0\" r=\"10.0\" /><rect x=\"4249.9613671874995\" y=\"1155.0\" width=\"40\" height=\"40\" stroke=\"black\" fill=\"white\" stroke-width=\"1\" /><text x=\"4269.9613671874995\" y=\"1175.0\" dominant-baseline=\"middle\" text-anchor=\"middle\" font-size=\"18px\">X</text><rect x=\"4309.9613671874995\" y=\"1155.0\" width=\"49.4091796875\" height=\"40\" stroke=\"black\" fill=\"white\" stroke-width=\"1\" /><text x=\"4334.6659570312495\" y=\"1175.0\" dominant-baseline=\"middle\" text-anchor=\"middle\" font-size=\"14px\">X^-0.5</text><circle cx=\"4399.3705468749995\" cy=\"375.0\" r=\"10.0\" /><rect x=\"4379.3705468749995\" y=\"1155.0\" width=\"40\" height=\"40\" stroke=\"black\" fill=\"white\" stroke-width=\"1\" /><text x=\"4399.3705468749995\" y=\"1175.0\" dominant-baseline=\"middle\" text-anchor=\"middle\" font-size=\"18px\">X</text><rect x=\"4439.3705468749995\" y=\"1155.0\" width=\"49.4091796875\" height=\"40\" stroke=\"black\" fill=\"white\" stroke-width=\"1\" /><text x=\"4464.0751367187495\" y=\"1175.0\" dominant-baseline=\"middle\" text-anchor=\"middle\" font-size=\"14px\">X^-0.5</text><circle cx=\"4528.7797265624995\" cy=\"775.0\" r=\"10.0\" /><rect x=\"4508.7797265624995\" y=\"1155.0\" width=\"40\" height=\"40\" stroke=\"black\" fill=\"white\" stroke-width=\"1\" /><text x=\"4528.7797265624995\" y=\"1175.0\" dominant-baseline=\"middle\" text-anchor=\"middle\" font-size=\"18px\">X</text><circle cx=\"4588.7797265624995\" cy=\"375.0\" r=\"10.0\" /><rect x=\"4568.7797265624995\" y=\"1155.0\" width=\"40\" height=\"40\" stroke=\"black\" fill=\"white\" stroke-width=\"1\" /><text x=\"4588.7797265624995\" y=\"1175.0\" dominant-baseline=\"middle\" text-anchor=\"middle\" font-size=\"18px\">X</text></svg>"
      ],
      "text/plain": [
       "<cirq.contrib.svg.svg.SVGCircuit at 0x2d160ec9a90>"
      ]
     },
     "execution_count": 54,
     "metadata": {},
     "output_type": "execute_result"
    }
   ],
   "source": [
    "test_bits = cirq.GridQubit.rect(1, 24)\n",
    "SVGCircuit(\n",
    "    quantum_OR_circuit(test_bits[:8], test_bits[8:16], test_bits[16:]))"
   ]
  },
  {
   "cell_type": "markdown",
   "metadata": {
    "colab_type": "text",
    "id": "23VcPLT45Lg7"
   },
   "source": [
    "### 1.6 Model definition\n",
    "\n",
    "Now use the defined layers to construct a purely quantum CNN. Start with eight qubits, pool down to one, then measure $\\langle \\hat{Z} \\rangle$."
   ]
  },
  {
   "cell_type": "code",
   "execution_count": 29,
   "metadata": {
    "colab": {},
    "colab_type": "code",
    "id": "vzEsY6-n5NR0"
   },
   "outputs": [
    {
     "name": "stdout",
     "output_type": "stream",
     "text": [
      "Failed to import pydot. You must install pydot and graphviz for `pydotprint` to work.\n"
     ]
    }
   ],
   "source": [
    "def create_model_circuit(qubits):\n",
    "    \"\"\"Create sequence of alternating convolution and pooling operators \n",
    "    which gradually shrink over time.\"\"\"\n",
    "    model_circuit = cirq.Circuit()\n",
    "    symbols = sympy.symbols('qconv0:63')\n",
    "    # Cirq uses sympy.Symbols to map learnable variables. TensorFlow Quantum\n",
    "    # scans incoming circuits and replaces these with TensorFlow variables.\n",
    "    \n",
    "    model_circuit += quantum_conv_circuit(qubits, symbols[0:15])\n",
    "    model_circuit += quantum_pool_circuit(qubits[:2], qubits[2:],\n",
    "                                          symbols[15:21])\n",
    "    model_circuit += quantum_conv_circuit(qubits[2:], symbols[21:36])\n",
    "    model_circuit += quantum_pool_circuit([qubits[2]], [qubits[3]],\n",
    "                                          symbols[36:42])\n",
    "    return model_circuit\n",
    "\n",
    "\n",
    "# Create our qubits and readout operators in Cirq.\n",
    "cluster_state_bits = cirq.GridQubit.rect(1, 4)\n",
    "readout_operators = cirq.Z(cluster_state_bits[-1])\n",
    "\n",
    "# Build a sequential model enacting the logic in 1.3 of this notebook.\n",
    "# Here you are making the static cluster state prep as a part of the AddCircuit and the\n",
    "# \"quantum datapoints\" are coming in the form of excitation\n",
    "excitation_input = tf.keras.Input(shape=(), dtype=tf.dtypes.string)\n",
    "cluster_state = tfq.layers.AddCircuit()(\n",
    "    excitation_input, prepend=cluster_state_circuit(cluster_state_bits))\n",
    "\n",
    "quantum_model = tfq.layers.PQC(create_model_circuit(cluster_state_bits),\n",
    "                               readout_operators)(cluster_state)\n",
    "\n",
    "qcnn_model = tf.keras.Model(inputs=[excitation_input], outputs=[quantum_model])\n",
    "\n",
    "# Show the keras plot of the model\n",
    "tf.keras.utils.plot_model(qcnn_model,\n",
    "                          show_shapes=True,\n",
    "                          show_layer_names=False,\n",
    "                          dpi=70)"
   ]
  },
  {
   "cell_type": "markdown",
   "metadata": {
    "colab_type": "text",
    "id": "9jqTEe5VSbug"
   },
   "source": [
    "### 1.7 Train the model\n",
    "\n",
    "Train the model over the full batch to simplify this example."
   ]
  },
  {
   "cell_type": "code",
   "execution_count": 30,
   "metadata": {
    "colab": {},
    "colab_type": "code",
    "id": "_TFkAm1sQZEN"
   },
   "outputs": [
    {
     "name": "stderr",
     "output_type": "stream",
     "text": [
      "C:\\tools\\Anaconda3\\envs\\Quantum\\lib\\site-packages\\ipykernel_launcher.py:9: DeprecationWarning: Rx was used but is deprecated.\n",
      "It will be removed in cirq v0.8.0.\n",
      "Use cirq.rx, instead.\n",
      "\n",
      "  if __name__ == '__main__':\n"
     ]
    },
    {
     "name": "stdout",
     "output_type": "stream",
     "text": [
      "Train on 56 samples, validate on 24 samples\n",
      "Epoch 1/25\n",
      "56/56 [==============================] - 4s 65ms/sample - loss: 0.8053 - custom_accuracy: 0.6875 - val_loss: 0.5896 - val_custom_accuracy: 0.8750\n",
      "Epoch 2/25\n",
      "56/56 [==============================] - 1s 25ms/sample - loss: 0.5141 - custom_accuracy: 0.9531 - val_loss: 0.4680 - val_custom_accuracy: 1.0000\n",
      "Epoch 3/25\n",
      "56/56 [==============================] - 2s 30ms/sample - loss: 0.4729 - custom_accuracy: 0.9688 - val_loss: 0.5381 - val_custom_accuracy: 0.9062\n",
      "Epoch 4/25\n",
      "56/56 [==============================] - 2s 28ms/sample - loss: 0.4328 - custom_accuracy: 0.8594 - val_loss: 0.4980 - val_custom_accuracy: 0.8750\n",
      "Epoch 5/25\n",
      "56/56 [==============================] - 1s 27ms/sample - loss: 0.4035 - custom_accuracy: 0.9375 - val_loss: 0.4524 - val_custom_accuracy: 1.0000\n",
      "Epoch 6/25\n",
      "56/56 [==============================] - 1s 25ms/sample - loss: 0.3794 - custom_accuracy: 0.9844 - val_loss: 0.3855 - val_custom_accuracy: 1.0000\n",
      "Epoch 7/25\n",
      "56/56 [==============================] - 1s 24ms/sample - loss: 0.3504 - custom_accuracy: 0.9688 - val_loss: 0.4440 - val_custom_accuracy: 0.8750\n",
      "Epoch 8/25\n",
      "56/56 [==============================] - 1s 25ms/sample - loss: 0.3260 - custom_accuracy: 0.9219 - val_loss: 0.4460 - val_custom_accuracy: 0.9375\n",
      "Epoch 9/25\n",
      "56/56 [==============================] - 1s 23ms/sample - loss: 0.3126 - custom_accuracy: 0.9531 - val_loss: 0.3140 - val_custom_accuracy: 1.0000\n",
      "Epoch 10/25\n",
      "56/56 [==============================] - 1s 27ms/sample - loss: 0.2687 - custom_accuracy: 0.9844 - val_loss: 0.3951 - val_custom_accuracy: 0.9062\n",
      "Epoch 11/25\n",
      "56/56 [==============================] - 2s 32ms/sample - loss: 0.2802 - custom_accuracy: 0.9375 - val_loss: 0.3230 - val_custom_accuracy: 0.9375\n",
      "Epoch 12/25\n",
      "56/56 [==============================] - 2s 27ms/sample - loss: 0.2494 - custom_accuracy: 1.0000 - val_loss: 0.2329 - val_custom_accuracy: 1.0000\n",
      "Epoch 13/25\n",
      "56/56 [==============================] - 1s 26ms/sample - loss: 0.2255 - custom_accuracy: 1.0000 - val_loss: 0.3593 - val_custom_accuracy: 0.9375\n",
      "Epoch 14/25\n",
      "56/56 [==============================] - 1s 25ms/sample - loss: 0.2325 - custom_accuracy: 0.9531 - val_loss: 0.2152 - val_custom_accuracy: 1.0000\n",
      "Epoch 15/25\n",
      "56/56 [==============================] - 2s 27ms/sample - loss: 0.2139 - custom_accuracy: 1.0000 - val_loss: 0.2813 - val_custom_accuracy: 0.9375\n",
      "Epoch 16/25\n",
      "56/56 [==============================] - 2s 28ms/sample - loss: 0.2156 - custom_accuracy: 0.9844 - val_loss: 0.2070 - val_custom_accuracy: 1.0000\n",
      "Epoch 17/25\n",
      "56/56 [==============================] - 1s 25ms/sample - loss: 0.1983 - custom_accuracy: 0.9844 - val_loss: 0.3388 - val_custom_accuracy: 0.9375\n",
      "Epoch 18/25\n",
      "56/56 [==============================] - 1s 27ms/sample - loss: 0.2175 - custom_accuracy: 0.9375 - val_loss: 0.1848 - val_custom_accuracy: 1.0000\n",
      "Epoch 19/25\n",
      "56/56 [==============================] - 1s 25ms/sample - loss: 0.2277 - custom_accuracy: 1.0000 - val_loss: 0.2544 - val_custom_accuracy: 1.0000\n",
      "Epoch 20/25\n",
      "56/56 [==============================] - 1s 26ms/sample - loss: 0.2018 - custom_accuracy: 0.9844 - val_loss: 0.2464 - val_custom_accuracy: 0.9375\n",
      "Epoch 21/25\n",
      "56/56 [==============================] - 1s 22ms/sample - loss: 0.1959 - custom_accuracy: 0.9844 - val_loss: 0.2060 - val_custom_accuracy: 1.0000\n",
      "Epoch 22/25\n",
      "56/56 [==============================] - 2s 32ms/sample - loss: 0.2016 - custom_accuracy: 0.9688 - val_loss: 0.2152 - val_custom_accuracy: 1.0000\n",
      "Epoch 23/25\n",
      "56/56 [==============================] - 1s 23ms/sample - loss: 0.2027 - custom_accuracy: 1.0000 - val_loss: 0.1825 - val_custom_accuracy: 1.0000\n",
      "Epoch 24/25\n",
      "56/56 [==============================] - 1s 25ms/sample - loss: 0.2516 - custom_accuracy: 0.9688 - val_loss: 0.2365 - val_custom_accuracy: 1.0000\n",
      "Epoch 25/25\n",
      "56/56 [==============================] - 1s 26ms/sample - loss: 0.2276 - custom_accuracy: 0.9375 - val_loss: 0.3347 - val_custom_accuracy: 0.9375\n"
     ]
    }
   ],
   "source": [
    "# Generate some training data.\n",
    "train_excitations, train_labels, test_excitations, test_labels = generate_data(\n",
    "    cluster_state_bits)\n",
    "\n",
    "\n",
    "# Custom accuracy metric.\n",
    "@tf.function\n",
    "def custom_accuracy(y_true, y_pred):\n",
    "    y_true = tf.squeeze(y_true)\n",
    "    y_pred = tf.map_fn(lambda x: 1.0 if x >= 0 else -1.0, y_pred)\n",
    "    return tf.keras.backend.mean(tf.keras.backend.equal(y_true, y_pred))\n",
    "\n",
    "\n",
    "qcnn_model.compile(optimizer=tf.keras.optimizers.Adam(learning_rate=0.02),\n",
    "                   loss=tf.losses.mse,\n",
    "                   metrics=[custom_accuracy])\n",
    "\n",
    "history = qcnn_model.fit(x=train_excitations,\n",
    "                         y=train_labels,\n",
    "                         batch_size=16,\n",
    "                         epochs=25,\n",
    "                         verbose=1,\n",
    "                         validation_data=(test_excitations, test_labels))"
   ]
  },
  {
   "cell_type": "code",
   "execution_count": 31,
   "metadata": {
    "colab": {},
    "colab_type": "code",
    "id": "2tiCJOb5Qzcr"
   },
   "outputs": [
    {
     "data": {
      "image/png": "[encoded data removed]",
      "text/plain": [
       "<Figure size 432x288 with 1 Axes>"
      ]
     },
     "metadata": {
      "needs_background": "light"
     },
     "output_type": "display_data"
    }
   ],
   "source": [
    "plt.plot(history.history['loss'][1:], label='Training')\n",
    "plt.plot(history.history['val_loss'][1:], label='Validation')\n",
    "plt.title('Training a Quantum CNN to Detect Excited Cluster States')\n",
    "plt.xlabel('Epochs')\n",
    "plt.ylabel('Loss')\n",
    "plt.legend()\n",
    "plt.show()"
   ]
  },
  {
   "cell_type": "markdown",
   "metadata": {
    "colab_type": "text",
    "id": "GyrkcEReQ5Bc"
   },
   "source": [
    "## 2. Hybrid models\n",
    "\n",
    "You don't have to go from eight qubits to one qubit using quantum convolution—you could have done one or two rounds of quantum convolution and fed the results into a classical neural network. This section explores quantum-classical hybrid models."
   ]
  },
  {
   "cell_type": "markdown",
   "metadata": {
    "colab_type": "text",
    "id": "A2tOK22t7Kjm"
   },
   "source": [
    "### 2.1 Hybrid model with a single quantum filter\n",
    "\n",
    "Apply one layer of quantum convolution, reading out $\\langle \\hat{Z}_n \\rangle$ on all bits, followed by a densely-connected neural network.\n",
    "\n",
    "<img src=\"./images/qcnn_5.png\" width=\"1000\">"
   ]
  },
  {
   "cell_type": "markdown",
   "metadata": {
    "colab_type": "text",
    "id": "lKXuOApgWYFa"
   },
   "source": [
    "#### 2.1.1 Model definition"
   ]
  },
  {
   "cell_type": "code",
   "execution_count": 32,
   "metadata": {
    "colab": {},
    "colab_type": "code",
    "id": "Ut-U1hBkQ8Fs"
   },
   "outputs": [
    {
     "name": "stdout",
     "output_type": "stream",
     "text": [
      "Failed to import pydot. You must install pydot and graphviz for `pydotprint` to work.\n"
     ]
    }
   ],
   "source": [
    "# 1-local operators to read out\n",
    "cluster_state_bits = cirq.GridQubit.rect(1, 4)\n",
    "\n",
    "readouts = [cirq.Z(bit) for bit in cluster_state_bits]\n",
    "\n",
    "def multi_readout_model_circuit(qubits):\n",
    "    \"\"\"Make a model circuit with less quantum pool and conv operations.\"\"\"\n",
    "    model_circuit = cirq.Circuit()\n",
    "    symbols = sympy.symbols('qconv0:16')\n",
    "#     model_circuit += quantum_conv_circuit(qubits, symbols[0:15])\n",
    "#     model_circuit += quantum_pool_circuit(qubits[:4], qubits[4:],\n",
    "#                                           symbols[15:21])\n",
    "\n",
    "    model_circuit += quantum_conv_circuit(qubits, symbols[:15])\n",
    "    \n",
    "    #model_circuit += quantum_leakage_circuit(qubits[:4], qubits[4:8],\n",
    "    #                                      symbols[15:])\n",
    "    \n",
    "    model_circuit += quantum_conv_circuit(qubits, symbols[:15])\n",
    "    \n",
    "#     model_circuit += quantum_conv_circuit(qubits[:8], symbols[16:31])\n",
    "    \n",
    "    \n",
    "    #model_circuit += quantum_OR_circuit(qubits[:4], qubits[4:8], qubits[8:])\n",
    "    \n",
    "    return model_circuit\n",
    "\n",
    "\n",
    "# Build a model enacting the logic in 2.1 of this notebook.\n",
    "excitation_input_dual = tf.keras.Input(shape=(), dtype=tf.dtypes.string)\n",
    "\n",
    "cluster_state_dual = tfq.layers.AddCircuit()(\n",
    "    excitation_input_dual, prepend=cluster_state_circuit(cluster_state_bits))\n",
    "\n",
    "quantum_model_dual = tfq.layers.PQC(\n",
    "    multi_readout_model_circuit(cluster_state_bits),\n",
    "    readouts)(cluster_state_dual)\n",
    "\n",
    "# d1_dual = tf.keras.layers.Dense(4)(quantum_model_dual)\n",
    "\n",
    "# d2_dual = tf.keras.layers.Dense(1)(d1_dual)\n",
    "\n",
    "d2_dual = tf.keras.layers.Dense(1, activation='linear')(quantum_model_dual)\n",
    "\n",
    "hybrid_model = tf.keras.Model(inputs=[excitation_input_dual], outputs=[d2_dual])\n",
    "\n",
    "# Display the model architecture\n",
    "tf.keras.utils.plot_model(hybrid_model,\n",
    "                          show_shapes=True,\n",
    "                          show_layer_names=False,\n",
    "                          dpi=70)"
   ]
  },
  {
   "cell_type": "code",
   "execution_count": 33,
   "metadata": {},
   "outputs": [
    {
     "data": {
      "image/svg+xml": [
       "<svg xmlns=\"http://www.w3.org/2000/svg\" width=\"11395.951406249998\" height=\"200.0\"><line x1=\"32.246796875\" x2=\"11365.951406249998\" y1=\"25.0\" y2=\"25.0\" stroke=\"#1967d2\" stroke-width=\"1\" /><line x1=\"32.246796875\" x2=\"11365.951406249998\" y1=\"75.0\" y2=\"75.0\" stroke=\"#1967d2\" stroke-width=\"1\" /><line x1=\"32.246796875\" x2=\"11365.951406249998\" y1=\"125.0\" y2=\"125.0\" stroke=\"#1967d2\" stroke-width=\"1\" /><line x1=\"32.246796875\" x2=\"11365.951406249998\" y1=\"175.0\" y2=\"175.0\" stroke=\"#1967d2\" stroke-width=\"1\" /><line x1=\"651.5652343749999\" x2=\"651.5652343749999\" y1=\"25.0\" y2=\"75.0\" stroke=\"black\" stroke-width=\"3\" /><line x1=\"750.3826171874998\" x2=\"750.3826171874998\" y1=\"25.0\" y2=\"75.0\" stroke=\"black\" stroke-width=\"3\" /><line x1=\"850.1053515624999\" x2=\"850.1053515624999\" y1=\"25.0\" y2=\"75.0\" stroke=\"black\" stroke-width=\"3\" /><line x1=\"2062.9974609375\" x2=\"2062.9974609375\" y1=\"125.0\" y2=\"175.0\" stroke=\"black\" stroke-width=\"3\" /><line x1=\"2161.81484375\" x2=\"2161.81484375\" y1=\"125.0\" y2=\"175.0\" stroke=\"black\" stroke-width=\"3\" /><line x1=\"2261.537578125\" x2=\"2261.537578125\" y1=\"125.0\" y2=\"175.0\" stroke=\"black\" stroke-width=\"3\" /><line x1=\"3474.4296875\" x2=\"3474.4296875\" y1=\"75.0\" y2=\"125.0\" stroke=\"black\" stroke-width=\"3\" /><line x1=\"3573.2470703125\" x2=\"3573.2470703125\" y1=\"75.0\" y2=\"125.0\" stroke=\"black\" stroke-width=\"3\" /><line x1=\"3672.9698046875\" x2=\"3672.9698046875\" y1=\"75.0\" y2=\"125.0\" stroke=\"black\" stroke-width=\"3\" /><line x1=\"4885.8619140625\" x2=\"4885.8619140625\" y1=\"25.0\" y2=\"175.0\" stroke=\"black\" stroke-width=\"3\" /><line x1=\"4984.679296875\" x2=\"4984.679296875\" y1=\"25.0\" y2=\"175.0\" stroke=\"black\" stroke-width=\"3\" /><line x1=\"5084.40203125\" x2=\"5084.40203125\" y1=\"25.0\" y2=\"175.0\" stroke=\"black\" stroke-width=\"3\" /><line x1=\"6297.294140624999\" x2=\"6297.294140624999\" y1=\"25.0\" y2=\"75.0\" stroke=\"black\" stroke-width=\"3\" /><line x1=\"6396.111523437499\" x2=\"6396.111523437499\" y1=\"25.0\" y2=\"75.0\" stroke=\"black\" stroke-width=\"3\" /><line x1=\"6495.834257812499\" x2=\"6495.834257812499\" y1=\"25.0\" y2=\"75.0\" stroke=\"black\" stroke-width=\"3\" /><line x1=\"7708.726367187499\" x2=\"7708.726367187499\" y1=\"125.0\" y2=\"175.0\" stroke=\"black\" stroke-width=\"3\" /><line x1=\"7807.543749999999\" x2=\"7807.543749999999\" y1=\"125.0\" y2=\"175.0\" stroke=\"black\" stroke-width=\"3\" /><line x1=\"7907.266484374999\" x2=\"7907.266484374999\" y1=\"125.0\" y2=\"175.0\" stroke=\"black\" stroke-width=\"3\" /><line x1=\"9120.158593749999\" x2=\"9120.158593749999\" y1=\"75.0\" y2=\"125.0\" stroke=\"black\" stroke-width=\"3\" /><line x1=\"9218.975976562499\" x2=\"9218.975976562499\" y1=\"75.0\" y2=\"125.0\" stroke=\"black\" stroke-width=\"3\" /><line x1=\"9318.698710937499\" x2=\"9318.698710937499\" y1=\"75.0\" y2=\"125.0\" stroke=\"black\" stroke-width=\"3\" /><line x1=\"10531.590820312498\" x2=\"10531.590820312498\" y1=\"25.0\" y2=\"175.0\" stroke=\"black\" stroke-width=\"3\" /><line x1=\"10630.408203124998\" x2=\"10630.408203124998\" y1=\"25.0\" y2=\"175.0\" stroke=\"black\" stroke-width=\"3\" /><line x1=\"10730.130937499998\" x2=\"10730.130937499998\" y1=\"25.0\" y2=\"175.0\" stroke=\"black\" stroke-width=\"3\" /><rect x=\"10.0\" y=\"5.0\" width=\"44.49359375\" height=\"40\" stroke=\"black\" fill=\"white\" stroke-width=\"0\" /><text x=\"32.246796875\" y=\"25.0\" dominant-baseline=\"middle\" text-anchor=\"middle\" font-size=\"14px\">(0, 0): </text><rect x=\"10.0\" y=\"55.0\" width=\"44.49359375\" height=\"40\" stroke=\"black\" fill=\"white\" stroke-width=\"0\" /><text x=\"32.246796875\" y=\"75.0\" dominant-baseline=\"middle\" text-anchor=\"middle\" font-size=\"14px\">(0, 1): </text><rect x=\"10.0\" y=\"105.0\" width=\"44.49359375\" height=\"40\" stroke=\"black\" fill=\"white\" stroke-width=\"0\" /><text x=\"32.246796875\" y=\"125.0\" dominant-baseline=\"middle\" text-anchor=\"middle\" font-size=\"14px\">(0, 2): </text><rect x=\"10.0\" y=\"155.0\" width=\"44.49359375\" height=\"40\" stroke=\"black\" fill=\"white\" stroke-width=\"0\" /><text x=\"32.246796875\" y=\"175.0\" dominant-baseline=\"middle\" text-anchor=\"middle\" font-size=\"14px\">(0, 3): </text><rect x=\"74.49359375\" y=\"5.0\" width=\"70.3203125\" height=\"40\" stroke=\"black\" fill=\"white\" stroke-width=\"1\" /><text x=\"109.65375\" y=\"25.0\" dominant-baseline=\"middle\" text-anchor=\"middle\" font-size=\"14px\">X^qconv0</text><rect x=\"164.81390625\" y=\"5.0\" width=\"68.4390625\" height=\"40\" stroke=\"black\" fill=\"white\" stroke-width=\"1\" /><text x=\"199.0334375\" y=\"25.0\" dominant-baseline=\"middle\" text-anchor=\"middle\" font-size=\"14px\">Y^qconv1</text><rect x=\"253.25296875\" y=\"5.0\" width=\"69.2476171875\" height=\"40\" stroke=\"black\" fill=\"white\" stroke-width=\"1\" /><text x=\"287.87677734375\" y=\"25.0\" dominant-baseline=\"middle\" text-anchor=\"middle\" font-size=\"14px\">Z^qconv2</text><rect x=\"342.5005859375\" y=\"55.0\" width=\"70.3553125\" height=\"40\" stroke=\"black\" fill=\"white\" stroke-width=\"1\" /><text x=\"377.67824218749996\" y=\"75.0\" dominant-baseline=\"middle\" text-anchor=\"middle\" font-size=\"14px\">X^qconv3</text><rect x=\"432.85589843749995\" y=\"55.0\" width=\"70.3334375\" height=\"40\" stroke=\"black\" fill=\"white\" stroke-width=\"1\" /><text x=\"468.0226171874999\" y=\"75.0\" dominant-baseline=\"middle\" text-anchor=\"middle\" font-size=\"14px\">Y^qconv4</text><rect x=\"523.1893359374999\" y=\"55.0\" width=\"69.4248046875\" height=\"40\" stroke=\"black\" fill=\"white\" stroke-width=\"1\" /><text x=\"557.9017382812499\" y=\"75.0\" dominant-baseline=\"middle\" text-anchor=\"middle\" font-size=\"14px\">Z^qconv5</text><rect x=\"612.6141406249999\" y=\"5.0\" width=\"77.90218750000001\" height=\"40\" stroke=\"black\" fill=\"white\" stroke-width=\"1\" /><text x=\"651.5652343749999\" y=\"25.0\" dominant-baseline=\"middle\" text-anchor=\"middle\" font-size=\"14px\">ZZ</text><rect x=\"612.6141406249999\" y=\"55.0\" width=\"77.90218750000001\" height=\"40\" stroke=\"black\" fill=\"white\" stroke-width=\"1\" /><text x=\"651.5652343749999\" y=\"75.0\" dominant-baseline=\"middle\" text-anchor=\"middle\" font-size=\"14px\">ZZ^qconv7</text><rect x=\"710.5163281249999\" y=\"5.0\" width=\"79.732578125\" height=\"40\" stroke=\"black\" fill=\"white\" stroke-width=\"1\" /><text x=\"750.3826171874998\" y=\"25.0\" dominant-baseline=\"middle\" text-anchor=\"middle\" font-size=\"14px\">YY</text><rect x=\"710.5163281249999\" y=\"55.0\" width=\"79.732578125\" height=\"40\" stroke=\"black\" fill=\"white\" stroke-width=\"1\" /><text x=\"750.3826171874998\" y=\"75.0\" dominant-baseline=\"middle\" text-anchor=\"middle\" font-size=\"14px\">YY^qconv8</text><rect x=\"810.2489062499999\" y=\"5.0\" width=\"79.712890625\" height=\"40\" stroke=\"black\" fill=\"white\" stroke-width=\"1\" /><text x=\"850.1053515624999\" y=\"25.0\" dominant-baseline=\"middle\" text-anchor=\"middle\" font-size=\"14px\">XX</text><rect x=\"810.2489062499999\" y=\"55.0\" width=\"79.712890625\" height=\"40\" stroke=\"black\" fill=\"white\" stroke-width=\"1\" /><text x=\"850.1053515624999\" y=\"75.0\" dominant-baseline=\"middle\" text-anchor=\"middle\" font-size=\"14px\">XX^qconv9</text><rect x=\"909.9617968749999\" y=\"5.0\" width=\"70.375\" height=\"40\" stroke=\"black\" fill=\"white\" stroke-width=\"1\" /><text x=\"945.1492968749999\" y=\"25.0\" dominant-baseline=\"middle\" text-anchor=\"middle\" font-size=\"14px\">X^qconv9</text><rect x=\"1000.336796875\" y=\"5.0\" width=\"78.1261328125\" height=\"40\" stroke=\"black\" fill=\"white\" stroke-width=\"1\" /><text x=\"1039.39986328125\" y=\"25.0\" dominant-baseline=\"middle\" text-anchor=\"middle\" font-size=\"14px\">Y^qconv10</text><rect x=\"1098.4629296874998\" y=\"5.0\" width=\"74.168125\" height=\"40\" stroke=\"black\" fill=\"white\" stroke-width=\"1\" /><text x=\"1135.5469921874999\" y=\"25.0\" dominant-baseline=\"middle\" text-anchor=\"middle\" font-size=\"14px\">Z^qconv11</text><rect x=\"1192.6310546874997\" y=\"55.0\" width=\"78.03863281250001\" height=\"40\" stroke=\"black\" fill=\"white\" stroke-width=\"1\" /><text x=\"1231.6503710937498\" y=\"75.0\" dominant-baseline=\"middle\" text-anchor=\"middle\" font-size=\"14px\">X^qconv12</text><rect x=\"1290.6696874999998\" y=\"55.0\" width=\"78.16113281250001\" height=\"40\" stroke=\"black\" fill=\"white\" stroke-width=\"1\" /><text x=\"1329.7502539062498\" y=\"75.0\" dominant-baseline=\"middle\" text-anchor=\"middle\" font-size=\"14px\">Y^qconv13</text><rect x=\"1388.8308203124998\" y=\"55.0\" width=\"77.095\" height=\"40\" stroke=\"black\" fill=\"white\" stroke-width=\"1\" /><text x=\"1427.3783203124997\" y=\"75.0\" dominant-baseline=\"middle\" text-anchor=\"middle\" font-size=\"14px\">Z^qconv14</text><rect x=\"1485.9258203124998\" y=\"105.0\" width=\"70.3203125\" height=\"40\" stroke=\"black\" fill=\"white\" stroke-width=\"1\" /><text x=\"1521.0859765624998\" y=\"125.0\" dominant-baseline=\"middle\" text-anchor=\"middle\" font-size=\"14px\">X^qconv0</text><rect x=\"1576.2461328124998\" y=\"105.0\" width=\"68.4390625\" height=\"40\" stroke=\"black\" fill=\"white\" stroke-width=\"1\" /><text x=\"1610.4656640624999\" y=\"125.0\" dominant-baseline=\"middle\" text-anchor=\"middle\" font-size=\"14px\">Y^qconv1</text><rect x=\"1664.6851953125\" y=\"105.0\" width=\"69.2476171875\" height=\"40\" stroke=\"black\" fill=\"white\" stroke-width=\"1\" /><text x=\"1699.30900390625\" y=\"125.0\" dominant-baseline=\"middle\" text-anchor=\"middle\" font-size=\"14px\">Z^qconv2</text><rect x=\"1753.9328125\" y=\"155.0\" width=\"70.3553125\" height=\"40\" stroke=\"black\" fill=\"white\" stroke-width=\"1\" /><text x=\"1789.1104687499999\" y=\"175.0\" dominant-baseline=\"middle\" text-anchor=\"middle\" font-size=\"14px\">X^qconv3</text><rect x=\"1844.288125\" y=\"155.0\" width=\"70.3334375\" height=\"40\" stroke=\"black\" fill=\"white\" stroke-width=\"1\" /><text x=\"1879.45484375\" y=\"175.0\" dominant-baseline=\"middle\" text-anchor=\"middle\" font-size=\"14px\">Y^qconv4</text><rect x=\"1934.6215625\" y=\"155.0\" width=\"69.4248046875\" height=\"40\" stroke=\"black\" fill=\"white\" stroke-width=\"1\" /><text x=\"1969.33396484375\" y=\"175.0\" dominant-baseline=\"middle\" text-anchor=\"middle\" font-size=\"14px\">Z^qconv5</text><rect x=\"2024.0463671875\" y=\"105.0\" width=\"77.90218750000001\" height=\"40\" stroke=\"black\" fill=\"white\" stroke-width=\"1\" /><text x=\"2062.9974609375\" y=\"125.0\" dominant-baseline=\"middle\" text-anchor=\"middle\" font-size=\"14px\">ZZ</text><rect x=\"2024.0463671875\" y=\"155.0\" width=\"77.90218750000001\" height=\"40\" stroke=\"black\" fill=\"white\" stroke-width=\"1\" /><text x=\"2062.9974609375\" y=\"175.0\" dominant-baseline=\"middle\" text-anchor=\"middle\" font-size=\"14px\">ZZ^qconv7</text><rect x=\"2121.9485546875\" y=\"105.0\" width=\"79.732578125\" height=\"40\" stroke=\"black\" fill=\"white\" stroke-width=\"1\" /><text x=\"2161.81484375\" y=\"125.0\" dominant-baseline=\"middle\" text-anchor=\"middle\" font-size=\"14px\">YY</text><rect x=\"2121.9485546875\" y=\"155.0\" width=\"79.732578125\" height=\"40\" stroke=\"black\" fill=\"white\" stroke-width=\"1\" /><text x=\"2161.81484375\" y=\"175.0\" dominant-baseline=\"middle\" text-anchor=\"middle\" font-size=\"14px\">YY^qconv8</text><rect x=\"2221.6811328125\" y=\"105.0\" width=\"79.712890625\" height=\"40\" stroke=\"black\" fill=\"white\" stroke-width=\"1\" /><text x=\"2261.537578125\" y=\"125.0\" dominant-baseline=\"middle\" text-anchor=\"middle\" font-size=\"14px\">XX</text><rect x=\"2221.6811328125\" y=\"155.0\" width=\"79.712890625\" height=\"40\" stroke=\"black\" fill=\"white\" stroke-width=\"1\" /><text x=\"2261.537578125\" y=\"175.0\" dominant-baseline=\"middle\" text-anchor=\"middle\" font-size=\"14px\">XX^qconv9</text><rect x=\"2321.3940234375\" y=\"105.0\" width=\"70.375\" height=\"40\" stroke=\"black\" fill=\"white\" stroke-width=\"1\" /><text x=\"2356.5815234375\" y=\"125.0\" dominant-baseline=\"middle\" text-anchor=\"middle\" font-size=\"14px\">X^qconv9</text><rect x=\"2411.7690234375\" y=\"105.0\" width=\"78.1261328125\" height=\"40\" stroke=\"black\" fill=\"white\" stroke-width=\"1\" /><text x=\"2450.83208984375\" y=\"125.0\" dominant-baseline=\"middle\" text-anchor=\"middle\" font-size=\"14px\">Y^qconv10</text><rect x=\"2509.89515625\" y=\"105.0\" width=\"74.168125\" height=\"40\" stroke=\"black\" fill=\"white\" stroke-width=\"1\" /><text x=\"2546.97921875\" y=\"125.0\" dominant-baseline=\"middle\" text-anchor=\"middle\" font-size=\"14px\">Z^qconv11</text><rect x=\"2604.0632812500003\" y=\"155.0\" width=\"78.03863281250001\" height=\"40\" stroke=\"black\" fill=\"white\" stroke-width=\"1\" /><text x=\"2643.08259765625\" y=\"175.0\" dominant-baseline=\"middle\" text-anchor=\"middle\" font-size=\"14px\">X^qconv12</text><rect x=\"2702.1019140625003\" y=\"155.0\" width=\"78.16113281250001\" height=\"40\" stroke=\"black\" fill=\"white\" stroke-width=\"1\" /><text x=\"2741.1824804687503\" y=\"175.0\" dominant-baseline=\"middle\" text-anchor=\"middle\" font-size=\"14px\">Y^qconv13</text><rect x=\"2800.2630468750003\" y=\"155.0\" width=\"77.095\" height=\"40\" stroke=\"black\" fill=\"white\" stroke-width=\"1\" /><text x=\"2838.8105468750005\" y=\"175.0\" dominant-baseline=\"middle\" text-anchor=\"middle\" font-size=\"14px\">Z^qconv14</text><rect x=\"2897.358046875\" y=\"55.0\" width=\"70.3203125\" height=\"40\" stroke=\"black\" fill=\"white\" stroke-width=\"1\" /><text x=\"2932.518203125\" y=\"75.0\" dominant-baseline=\"middle\" text-anchor=\"middle\" font-size=\"14px\">X^qconv0</text><rect x=\"2987.678359375\" y=\"55.0\" width=\"68.4390625\" height=\"40\" stroke=\"black\" fill=\"white\" stroke-width=\"1\" /><text x=\"3021.897890625\" y=\"75.0\" dominant-baseline=\"middle\" text-anchor=\"middle\" font-size=\"14px\">Y^qconv1</text><rect x=\"3076.117421875\" y=\"55.0\" width=\"69.2476171875\" height=\"40\" stroke=\"black\" fill=\"white\" stroke-width=\"1\" /><text x=\"3110.74123046875\" y=\"75.0\" dominant-baseline=\"middle\" text-anchor=\"middle\" font-size=\"14px\">Z^qconv2</text><rect x=\"3165.3650390625003\" y=\"105.0\" width=\"70.3553125\" height=\"40\" stroke=\"black\" fill=\"white\" stroke-width=\"1\" /><text x=\"3200.5426953125\" y=\"125.0\" dominant-baseline=\"middle\" text-anchor=\"middle\" font-size=\"14px\">X^qconv3</text><rect x=\"3255.7203515625\" y=\"105.0\" width=\"70.3334375\" height=\"40\" stroke=\"black\" fill=\"white\" stroke-width=\"1\" /><text x=\"3290.8870703125003\" y=\"125.0\" dominant-baseline=\"middle\" text-anchor=\"middle\" font-size=\"14px\">Y^qconv4</text><rect x=\"3346.0537890625\" y=\"105.0\" width=\"69.4248046875\" height=\"40\" stroke=\"black\" fill=\"white\" stroke-width=\"1\" /><text x=\"3380.76619140625\" y=\"125.0\" dominant-baseline=\"middle\" text-anchor=\"middle\" font-size=\"14px\">Z^qconv5</text><rect x=\"3435.47859375\" y=\"55.0\" width=\"77.90218750000001\" height=\"40\" stroke=\"black\" fill=\"white\" stroke-width=\"1\" /><text x=\"3474.4296875\" y=\"75.0\" dominant-baseline=\"middle\" text-anchor=\"middle\" font-size=\"14px\">ZZ</text><rect x=\"3435.47859375\" y=\"105.0\" width=\"77.90218750000001\" height=\"40\" stroke=\"black\" fill=\"white\" stroke-width=\"1\" /><text x=\"3474.4296875\" y=\"125.0\" dominant-baseline=\"middle\" text-anchor=\"middle\" font-size=\"14px\">ZZ^qconv7</text><rect x=\"3533.38078125\" y=\"55.0\" width=\"79.732578125\" height=\"40\" stroke=\"black\" fill=\"white\" stroke-width=\"1\" /><text x=\"3573.2470703125\" y=\"75.0\" dominant-baseline=\"middle\" text-anchor=\"middle\" font-size=\"14px\">YY</text><rect x=\"3533.38078125\" y=\"105.0\" width=\"79.732578125\" height=\"40\" stroke=\"black\" fill=\"white\" stroke-width=\"1\" /><text x=\"3573.2470703125\" y=\"125.0\" dominant-baseline=\"middle\" text-anchor=\"middle\" font-size=\"14px\">YY^qconv8</text><rect x=\"3633.113359375\" y=\"55.0\" width=\"79.712890625\" height=\"40\" stroke=\"black\" fill=\"white\" stroke-width=\"1\" /><text x=\"3672.9698046875\" y=\"75.0\" dominant-baseline=\"middle\" text-anchor=\"middle\" font-size=\"14px\">XX</text><rect x=\"3633.113359375\" y=\"105.0\" width=\"79.712890625\" height=\"40\" stroke=\"black\" fill=\"white\" stroke-width=\"1\" /><text x=\"3672.9698046875\" y=\"125.0\" dominant-baseline=\"middle\" text-anchor=\"middle\" font-size=\"14px\">XX^qconv9</text><rect x=\"3732.82625\" y=\"55.0\" width=\"70.375\" height=\"40\" stroke=\"black\" fill=\"white\" stroke-width=\"1\" /><text x=\"3768.01375\" y=\"75.0\" dominant-baseline=\"middle\" text-anchor=\"middle\" font-size=\"14px\">X^qconv9</text><rect x=\"3823.20125\" y=\"55.0\" width=\"78.1261328125\" height=\"40\" stroke=\"black\" fill=\"white\" stroke-width=\"1\" /><text x=\"3862.26431640625\" y=\"75.0\" dominant-baseline=\"middle\" text-anchor=\"middle\" font-size=\"14px\">Y^qconv10</text><rect x=\"3921.3273828125\" y=\"55.0\" width=\"74.168125\" height=\"40\" stroke=\"black\" fill=\"white\" stroke-width=\"1\" /><text x=\"3958.4114453125003\" y=\"75.0\" dominant-baseline=\"middle\" text-anchor=\"middle\" font-size=\"14px\">Z^qconv11</text><rect x=\"4015.4955078125004\" y=\"105.0\" width=\"78.03863281250001\" height=\"40\" stroke=\"black\" fill=\"white\" stroke-width=\"1\" /><text x=\"4054.51482421875\" y=\"125.0\" dominant-baseline=\"middle\" text-anchor=\"middle\" font-size=\"14px\">X^qconv12</text><rect x=\"4113.534140625\" y=\"105.0\" width=\"78.16113281250001\" height=\"40\" stroke=\"black\" fill=\"white\" stroke-width=\"1\" /><text x=\"4152.61470703125\" y=\"125.0\" dominant-baseline=\"middle\" text-anchor=\"middle\" font-size=\"14px\">Y^qconv13</text><rect x=\"4211.6952734375\" y=\"105.0\" width=\"77.095\" height=\"40\" stroke=\"black\" fill=\"white\" stroke-width=\"1\" /><text x=\"4250.2427734375\" y=\"125.0\" dominant-baseline=\"middle\" text-anchor=\"middle\" font-size=\"14px\">Z^qconv14</text><rect x=\"4308.7902734375\" y=\"155.0\" width=\"70.3203125\" height=\"40\" stroke=\"black\" fill=\"white\" stroke-width=\"1\" /><text x=\"4343.9504296875\" y=\"175.0\" dominant-baseline=\"middle\" text-anchor=\"middle\" font-size=\"14px\">X^qconv0</text><rect x=\"4399.1105859375\" y=\"155.0\" width=\"68.4390625\" height=\"40\" stroke=\"black\" fill=\"white\" stroke-width=\"1\" /><text x=\"4433.3301171875\" y=\"175.0\" dominant-baseline=\"middle\" text-anchor=\"middle\" font-size=\"14px\">Y^qconv1</text><rect x=\"4487.5496484375\" y=\"155.0\" width=\"69.2476171875\" height=\"40\" stroke=\"black\" fill=\"white\" stroke-width=\"1\" /><text x=\"4522.17345703125\" y=\"175.0\" dominant-baseline=\"middle\" text-anchor=\"middle\" font-size=\"14px\">Z^qconv2</text><rect x=\"4576.797265624999\" y=\"5.0\" width=\"70.3553125\" height=\"40\" stroke=\"black\" fill=\"white\" stroke-width=\"1\" /><text x=\"4611.974921874999\" y=\"25.0\" dominant-baseline=\"middle\" text-anchor=\"middle\" font-size=\"14px\">X^qconv3</text><rect x=\"4667.152578124999\" y=\"5.0\" width=\"70.3334375\" height=\"40\" stroke=\"black\" fill=\"white\" stroke-width=\"1\" /><text x=\"4702.319296874999\" y=\"25.0\" dominant-baseline=\"middle\" text-anchor=\"middle\" font-size=\"14px\">Y^qconv4</text><rect x=\"4757.486015625\" y=\"5.0\" width=\"69.4248046875\" height=\"40\" stroke=\"black\" fill=\"white\" stroke-width=\"1\" /><text x=\"4792.19841796875\" y=\"25.0\" dominant-baseline=\"middle\" text-anchor=\"middle\" font-size=\"14px\">Z^qconv5</text><rect x=\"4846.9108203125\" y=\"155.0\" width=\"77.90218750000001\" height=\"40\" stroke=\"black\" fill=\"white\" stroke-width=\"1\" /><text x=\"4885.8619140625\" y=\"175.0\" dominant-baseline=\"middle\" text-anchor=\"middle\" font-size=\"14px\">ZZ^qconv7</text><rect x=\"4846.9108203125\" y=\"5.0\" width=\"77.90218750000001\" height=\"40\" stroke=\"black\" fill=\"white\" stroke-width=\"1\" /><text x=\"4885.8619140625\" y=\"25.0\" dominant-baseline=\"middle\" text-anchor=\"middle\" font-size=\"14px\">ZZ</text><rect x=\"4944.8130078125\" y=\"155.0\" width=\"79.732578125\" height=\"40\" stroke=\"black\" fill=\"white\" stroke-width=\"1\" /><text x=\"4984.679296875\" y=\"175.0\" dominant-baseline=\"middle\" text-anchor=\"middle\" font-size=\"14px\">YY^qconv8</text><rect x=\"4944.8130078125\" y=\"5.0\" width=\"79.732578125\" height=\"40\" stroke=\"black\" fill=\"white\" stroke-width=\"1\" /><text x=\"4984.679296875\" y=\"25.0\" dominant-baseline=\"middle\" text-anchor=\"middle\" font-size=\"14px\">YY</text><rect x=\"5044.5455859375\" y=\"155.0\" width=\"79.712890625\" height=\"40\" stroke=\"black\" fill=\"white\" stroke-width=\"1\" /><text x=\"5084.40203125\" y=\"175.0\" dominant-baseline=\"middle\" text-anchor=\"middle\" font-size=\"14px\">XX^qconv9</text><rect x=\"5044.5455859375\" y=\"5.0\" width=\"79.712890625\" height=\"40\" stroke=\"black\" fill=\"white\" stroke-width=\"1\" /><text x=\"5084.40203125\" y=\"25.0\" dominant-baseline=\"middle\" text-anchor=\"middle\" font-size=\"14px\">XX</text><rect x=\"5144.2584765625\" y=\"155.0\" width=\"70.375\" height=\"40\" stroke=\"black\" fill=\"white\" stroke-width=\"1\" /><text x=\"5179.4459765625\" y=\"175.0\" dominant-baseline=\"middle\" text-anchor=\"middle\" font-size=\"14px\">X^qconv9</text><rect x=\"5234.6334765625\" y=\"155.0\" width=\"78.1261328125\" height=\"40\" stroke=\"black\" fill=\"white\" stroke-width=\"1\" /><text x=\"5273.69654296875\" y=\"175.0\" dominant-baseline=\"middle\" text-anchor=\"middle\" font-size=\"14px\">Y^qconv10</text><rect x=\"5332.759609375\" y=\"155.0\" width=\"74.168125\" height=\"40\" stroke=\"black\" fill=\"white\" stroke-width=\"1\" /><text x=\"5369.843671875\" y=\"175.0\" dominant-baseline=\"middle\" text-anchor=\"middle\" font-size=\"14px\">Z^qconv11</text><rect x=\"5426.927734375\" y=\"5.0\" width=\"78.03863281250001\" height=\"40\" stroke=\"black\" fill=\"white\" stroke-width=\"1\" /><text x=\"5465.94705078125\" y=\"25.0\" dominant-baseline=\"middle\" text-anchor=\"middle\" font-size=\"14px\">X^qconv12</text><rect x=\"5524.9663671875\" y=\"5.0\" width=\"78.16113281250001\" height=\"40\" stroke=\"black\" fill=\"white\" stroke-width=\"1\" /><text x=\"5564.04693359375\" y=\"25.0\" dominant-baseline=\"middle\" text-anchor=\"middle\" font-size=\"14px\">Y^qconv13</text><rect x=\"5623.1275\" y=\"5.0\" width=\"77.095\" height=\"40\" stroke=\"black\" fill=\"white\" stroke-width=\"1\" /><text x=\"5661.674999999999\" y=\"25.0\" dominant-baseline=\"middle\" text-anchor=\"middle\" font-size=\"14px\">Z^qconv14</text><rect x=\"5720.2225\" y=\"5.0\" width=\"70.3203125\" height=\"40\" stroke=\"black\" fill=\"white\" stroke-width=\"1\" /><text x=\"5755.38265625\" y=\"25.0\" dominant-baseline=\"middle\" text-anchor=\"middle\" font-size=\"14px\">X^qconv0</text><rect x=\"5810.5428125\" y=\"5.0\" width=\"68.4390625\" height=\"40\" stroke=\"black\" fill=\"white\" stroke-width=\"1\" /><text x=\"5844.76234375\" y=\"25.0\" dominant-baseline=\"middle\" text-anchor=\"middle\" font-size=\"14px\">Y^qconv1</text><rect x=\"5898.9818749999995\" y=\"5.0\" width=\"69.2476171875\" height=\"40\" stroke=\"black\" fill=\"white\" stroke-width=\"1\" /><text x=\"5933.60568359375\" y=\"25.0\" dominant-baseline=\"middle\" text-anchor=\"middle\" font-size=\"14px\">Z^qconv2</text><rect x=\"5988.229492187499\" y=\"55.0\" width=\"70.3553125\" height=\"40\" stroke=\"black\" fill=\"white\" stroke-width=\"1\" /><text x=\"6023.407148437499\" y=\"75.0\" dominant-baseline=\"middle\" text-anchor=\"middle\" font-size=\"14px\">X^qconv3</text><rect x=\"6078.584804687499\" y=\"55.0\" width=\"70.3334375\" height=\"40\" stroke=\"black\" fill=\"white\" stroke-width=\"1\" /><text x=\"6113.751523437499\" y=\"75.0\" dominant-baseline=\"middle\" text-anchor=\"middle\" font-size=\"14px\">Y^qconv4</text><rect x=\"6168.918242187499\" y=\"55.0\" width=\"69.4248046875\" height=\"40\" stroke=\"black\" fill=\"white\" stroke-width=\"1\" /><text x=\"6203.630644531249\" y=\"75.0\" dominant-baseline=\"middle\" text-anchor=\"middle\" font-size=\"14px\">Z^qconv5</text><rect x=\"6258.343046874999\" y=\"5.0\" width=\"77.90218750000001\" height=\"40\" stroke=\"black\" fill=\"white\" stroke-width=\"1\" /><text x=\"6297.294140624999\" y=\"25.0\" dominant-baseline=\"middle\" text-anchor=\"middle\" font-size=\"14px\">ZZ</text><rect x=\"6258.343046874999\" y=\"55.0\" width=\"77.90218750000001\" height=\"40\" stroke=\"black\" fill=\"white\" stroke-width=\"1\" /><text x=\"6297.294140624999\" y=\"75.0\" dominant-baseline=\"middle\" text-anchor=\"middle\" font-size=\"14px\">ZZ^qconv7</text><rect x=\"6356.245234374999\" y=\"5.0\" width=\"79.732578125\" height=\"40\" stroke=\"black\" fill=\"white\" stroke-width=\"1\" /><text x=\"6396.111523437499\" y=\"25.0\" dominant-baseline=\"middle\" text-anchor=\"middle\" font-size=\"14px\">YY</text><rect x=\"6356.245234374999\" y=\"55.0\" width=\"79.732578125\" height=\"40\" stroke=\"black\" fill=\"white\" stroke-width=\"1\" /><text x=\"6396.111523437499\" y=\"75.0\" dominant-baseline=\"middle\" text-anchor=\"middle\" font-size=\"14px\">YY^qconv8</text><rect x=\"6455.977812499999\" y=\"5.0\" width=\"79.712890625\" height=\"40\" stroke=\"black\" fill=\"white\" stroke-width=\"1\" /><text x=\"6495.834257812499\" y=\"25.0\" dominant-baseline=\"middle\" text-anchor=\"middle\" font-size=\"14px\">XX</text><rect x=\"6455.977812499999\" y=\"55.0\" width=\"79.712890625\" height=\"40\" stroke=\"black\" fill=\"white\" stroke-width=\"1\" /><text x=\"6495.834257812499\" y=\"75.0\" dominant-baseline=\"middle\" text-anchor=\"middle\" font-size=\"14px\">XX^qconv9</text><rect x=\"6555.690703124999\" y=\"5.0\" width=\"70.375\" height=\"40\" stroke=\"black\" fill=\"white\" stroke-width=\"1\" /><text x=\"6590.878203124999\" y=\"25.0\" dominant-baseline=\"middle\" text-anchor=\"middle\" font-size=\"14px\">X^qconv9</text><rect x=\"6646.065703124999\" y=\"5.0\" width=\"78.1261328125\" height=\"40\" stroke=\"black\" fill=\"white\" stroke-width=\"1\" /><text x=\"6685.128769531249\" y=\"25.0\" dominant-baseline=\"middle\" text-anchor=\"middle\" font-size=\"14px\">Y^qconv10</text><rect x=\"6744.1918359374995\" y=\"5.0\" width=\"74.168125\" height=\"40\" stroke=\"black\" fill=\"white\" stroke-width=\"1\" /><text x=\"6781.2758984375\" y=\"25.0\" dominant-baseline=\"middle\" text-anchor=\"middle\" font-size=\"14px\">Z^qconv11</text><rect x=\"6838.3599609375\" y=\"55.0\" width=\"78.03863281250001\" height=\"40\" stroke=\"black\" fill=\"white\" stroke-width=\"1\" /><text x=\"6877.37927734375\" y=\"75.0\" dominant-baseline=\"middle\" text-anchor=\"middle\" font-size=\"14px\">X^qconv12</text><rect x=\"6936.398593749999\" y=\"55.0\" width=\"78.16113281250001\" height=\"40\" stroke=\"black\" fill=\"white\" stroke-width=\"1\" /><text x=\"6975.479160156249\" y=\"75.0\" dominant-baseline=\"middle\" text-anchor=\"middle\" font-size=\"14px\">Y^qconv13</text><rect x=\"7034.559726562499\" y=\"55.0\" width=\"77.095\" height=\"40\" stroke=\"black\" fill=\"white\" stroke-width=\"1\" /><text x=\"7073.107226562499\" y=\"75.0\" dominant-baseline=\"middle\" text-anchor=\"middle\" font-size=\"14px\">Z^qconv14</text><rect x=\"7131.6547265624995\" y=\"105.0\" width=\"70.3203125\" height=\"40\" stroke=\"black\" fill=\"white\" stroke-width=\"1\" /><text x=\"7166.8148828124995\" y=\"125.0\" dominant-baseline=\"middle\" text-anchor=\"middle\" font-size=\"14px\">X^qconv0</text><rect x=\"7221.9750390624995\" y=\"105.0\" width=\"68.4390625\" height=\"40\" stroke=\"black\" fill=\"white\" stroke-width=\"1\" /><text x=\"7256.194570312499\" y=\"125.0\" dominant-baseline=\"middle\" text-anchor=\"middle\" font-size=\"14px\">Y^qconv1</text><rect x=\"7310.414101562499\" y=\"105.0\" width=\"69.2476171875\" height=\"40\" stroke=\"black\" fill=\"white\" stroke-width=\"1\" /><text x=\"7345.037910156249\" y=\"125.0\" dominant-baseline=\"middle\" text-anchor=\"middle\" font-size=\"14px\">Z^qconv2</text><rect x=\"7399.661718749999\" y=\"155.0\" width=\"70.3553125\" height=\"40\" stroke=\"black\" fill=\"white\" stroke-width=\"1\" /><text x=\"7434.839374999999\" y=\"175.0\" dominant-baseline=\"middle\" text-anchor=\"middle\" font-size=\"14px\">X^qconv3</text><rect x=\"7490.017031249999\" y=\"155.0\" width=\"70.3334375\" height=\"40\" stroke=\"black\" fill=\"white\" stroke-width=\"1\" /><text x=\"7525.183749999998\" y=\"175.0\" dominant-baseline=\"middle\" text-anchor=\"middle\" font-size=\"14px\">Y^qconv4</text><rect x=\"7580.350468749999\" y=\"155.0\" width=\"69.4248046875\" height=\"40\" stroke=\"black\" fill=\"white\" stroke-width=\"1\" /><text x=\"7615.062871093749\" y=\"175.0\" dominant-baseline=\"middle\" text-anchor=\"middle\" font-size=\"14px\">Z^qconv5</text><rect x=\"7669.775273437499\" y=\"105.0\" width=\"77.90218750000001\" height=\"40\" stroke=\"black\" fill=\"white\" stroke-width=\"1\" /><text x=\"7708.726367187499\" y=\"125.0\" dominant-baseline=\"middle\" text-anchor=\"middle\" font-size=\"14px\">ZZ</text><rect x=\"7669.775273437499\" y=\"155.0\" width=\"77.90218750000001\" height=\"40\" stroke=\"black\" fill=\"white\" stroke-width=\"1\" /><text x=\"7708.726367187499\" y=\"175.0\" dominant-baseline=\"middle\" text-anchor=\"middle\" font-size=\"14px\">ZZ^qconv7</text><rect x=\"7767.677460937499\" y=\"105.0\" width=\"79.732578125\" height=\"40\" stroke=\"black\" fill=\"white\" stroke-width=\"1\" /><text x=\"7807.543749999999\" y=\"125.0\" dominant-baseline=\"middle\" text-anchor=\"middle\" font-size=\"14px\">YY</text><rect x=\"7767.677460937499\" y=\"155.0\" width=\"79.732578125\" height=\"40\" stroke=\"black\" fill=\"white\" stroke-width=\"1\" /><text x=\"7807.543749999999\" y=\"175.0\" dominant-baseline=\"middle\" text-anchor=\"middle\" font-size=\"14px\">YY^qconv8</text><rect x=\"7867.410039062499\" y=\"105.0\" width=\"79.712890625\" height=\"40\" stroke=\"black\" fill=\"white\" stroke-width=\"1\" /><text x=\"7907.266484374999\" y=\"125.0\" dominant-baseline=\"middle\" text-anchor=\"middle\" font-size=\"14px\">XX</text><rect x=\"7867.410039062499\" y=\"155.0\" width=\"79.712890625\" height=\"40\" stroke=\"black\" fill=\"white\" stroke-width=\"1\" /><text x=\"7907.266484374999\" y=\"175.0\" dominant-baseline=\"middle\" text-anchor=\"middle\" font-size=\"14px\">XX^qconv9</text><rect x=\"7967.122929687499\" y=\"105.0\" width=\"70.375\" height=\"40\" stroke=\"black\" fill=\"white\" stroke-width=\"1\" /><text x=\"8002.310429687499\" y=\"125.0\" dominant-baseline=\"middle\" text-anchor=\"middle\" font-size=\"14px\">X^qconv9</text><rect x=\"8057.497929687499\" y=\"105.0\" width=\"78.1261328125\" height=\"40\" stroke=\"black\" fill=\"white\" stroke-width=\"1\" /><text x=\"8096.560996093749\" y=\"125.0\" dominant-baseline=\"middle\" text-anchor=\"middle\" font-size=\"14px\">Y^qconv10</text><rect x=\"8155.624062499999\" y=\"105.0\" width=\"74.168125\" height=\"40\" stroke=\"black\" fill=\"white\" stroke-width=\"1\" /><text x=\"8192.708125\" y=\"125.0\" dominant-baseline=\"middle\" text-anchor=\"middle\" font-size=\"14px\">Z^qconv11</text><rect x=\"8249.7921875\" y=\"155.0\" width=\"78.03863281250001\" height=\"40\" stroke=\"black\" fill=\"white\" stroke-width=\"1\" /><text x=\"8288.811503906249\" y=\"175.0\" dominant-baseline=\"middle\" text-anchor=\"middle\" font-size=\"14px\">X^qconv12</text><rect x=\"8347.8308203125\" y=\"155.0\" width=\"78.16113281250001\" height=\"40\" stroke=\"black\" fill=\"white\" stroke-width=\"1\" /><text x=\"8386.91138671875\" y=\"175.0\" dominant-baseline=\"middle\" text-anchor=\"middle\" font-size=\"14px\">Y^qconv13</text><rect x=\"8445.991953125\" y=\"155.0\" width=\"77.095\" height=\"40\" stroke=\"black\" fill=\"white\" stroke-width=\"1\" /><text x=\"8484.539453125\" y=\"175.0\" dominant-baseline=\"middle\" text-anchor=\"middle\" font-size=\"14px\">Z^qconv14</text><rect x=\"8543.086953125\" y=\"55.0\" width=\"70.3203125\" height=\"40\" stroke=\"black\" fill=\"white\" stroke-width=\"1\" /><text x=\"8578.247109375\" y=\"75.0\" dominant-baseline=\"middle\" text-anchor=\"middle\" font-size=\"14px\">X^qconv0</text><rect x=\"8633.407265625\" y=\"55.0\" width=\"68.4390625\" height=\"40\" stroke=\"black\" fill=\"white\" stroke-width=\"1\" /><text x=\"8667.626796875\" y=\"75.0\" dominant-baseline=\"middle\" text-anchor=\"middle\" font-size=\"14px\">Y^qconv1</text><rect x=\"8721.846328124999\" y=\"55.0\" width=\"69.2476171875\" height=\"40\" stroke=\"black\" fill=\"white\" stroke-width=\"1\" /><text x=\"8756.470136718748\" y=\"75.0\" dominant-baseline=\"middle\" text-anchor=\"middle\" font-size=\"14px\">Z^qconv2</text><rect x=\"8811.0939453125\" y=\"105.0\" width=\"70.3553125\" height=\"40\" stroke=\"black\" fill=\"white\" stroke-width=\"1\" /><text x=\"8846.2716015625\" y=\"125.0\" dominant-baseline=\"middle\" text-anchor=\"middle\" font-size=\"14px\">X^qconv3</text><rect x=\"8901.4492578125\" y=\"105.0\" width=\"70.3334375\" height=\"40\" stroke=\"black\" fill=\"white\" stroke-width=\"1\" /><text x=\"8936.6159765625\" y=\"125.0\" dominant-baseline=\"middle\" text-anchor=\"middle\" font-size=\"14px\">Y^qconv4</text><rect x=\"8991.782695312499\" y=\"105.0\" width=\"69.4248046875\" height=\"40\" stroke=\"black\" fill=\"white\" stroke-width=\"1\" /><text x=\"9026.495097656249\" y=\"125.0\" dominant-baseline=\"middle\" text-anchor=\"middle\" font-size=\"14px\">Z^qconv5</text><rect x=\"9081.207499999999\" y=\"55.0\" width=\"77.90218750000001\" height=\"40\" stroke=\"black\" fill=\"white\" stroke-width=\"1\" /><text x=\"9120.158593749999\" y=\"75.0\" dominant-baseline=\"middle\" text-anchor=\"middle\" font-size=\"14px\">ZZ</text><rect x=\"9081.207499999999\" y=\"105.0\" width=\"77.90218750000001\" height=\"40\" stroke=\"black\" fill=\"white\" stroke-width=\"1\" /><text x=\"9120.158593749999\" y=\"125.0\" dominant-baseline=\"middle\" text-anchor=\"middle\" font-size=\"14px\">ZZ^qconv7</text><rect x=\"9179.109687499998\" y=\"55.0\" width=\"79.732578125\" height=\"40\" stroke=\"black\" fill=\"white\" stroke-width=\"1\" /><text x=\"9218.975976562499\" y=\"75.0\" dominant-baseline=\"middle\" text-anchor=\"middle\" font-size=\"14px\">YY</text><rect x=\"9179.109687499998\" y=\"105.0\" width=\"79.732578125\" height=\"40\" stroke=\"black\" fill=\"white\" stroke-width=\"1\" /><text x=\"9218.975976562499\" y=\"125.0\" dominant-baseline=\"middle\" text-anchor=\"middle\" font-size=\"14px\">YY^qconv8</text><rect x=\"9278.842265624999\" y=\"55.0\" width=\"79.712890625\" height=\"40\" stroke=\"black\" fill=\"white\" stroke-width=\"1\" /><text x=\"9318.698710937499\" y=\"75.0\" dominant-baseline=\"middle\" text-anchor=\"middle\" font-size=\"14px\">XX</text><rect x=\"9278.842265624999\" y=\"105.0\" width=\"79.712890625\" height=\"40\" stroke=\"black\" fill=\"white\" stroke-width=\"1\" /><text x=\"9318.698710937499\" y=\"125.0\" dominant-baseline=\"middle\" text-anchor=\"middle\" font-size=\"14px\">XX^qconv9</text><rect x=\"9378.555156249999\" y=\"55.0\" width=\"70.375\" height=\"40\" stroke=\"black\" fill=\"white\" stroke-width=\"1\" /><text x=\"9413.742656249999\" y=\"75.0\" dominant-baseline=\"middle\" text-anchor=\"middle\" font-size=\"14px\">X^qconv9</text><rect x=\"9468.930156249999\" y=\"55.0\" width=\"78.1261328125\" height=\"40\" stroke=\"black\" fill=\"white\" stroke-width=\"1\" /><text x=\"9507.993222656249\" y=\"75.0\" dominant-baseline=\"middle\" text-anchor=\"middle\" font-size=\"14px\">Y^qconv10</text><rect x=\"9567.056289062499\" y=\"55.0\" width=\"74.168125\" height=\"40\" stroke=\"black\" fill=\"white\" stroke-width=\"1\" /><text x=\"9604.140351562499\" y=\"75.0\" dominant-baseline=\"middle\" text-anchor=\"middle\" font-size=\"14px\">Z^qconv11</text><rect x=\"9661.224414062499\" y=\"105.0\" width=\"78.03863281250001\" height=\"40\" stroke=\"black\" fill=\"white\" stroke-width=\"1\" /><text x=\"9700.243730468748\" y=\"125.0\" dominant-baseline=\"middle\" text-anchor=\"middle\" font-size=\"14px\">X^qconv12</text><rect x=\"9759.263046875\" y=\"105.0\" width=\"78.16113281250001\" height=\"40\" stroke=\"black\" fill=\"white\" stroke-width=\"1\" /><text x=\"9798.34361328125\" y=\"125.0\" dominant-baseline=\"middle\" text-anchor=\"middle\" font-size=\"14px\">Y^qconv13</text><rect x=\"9857.4241796875\" y=\"105.0\" width=\"77.095\" height=\"40\" stroke=\"black\" fill=\"white\" stroke-width=\"1\" /><text x=\"9895.9716796875\" y=\"125.0\" dominant-baseline=\"middle\" text-anchor=\"middle\" font-size=\"14px\">Z^qconv14</text><rect x=\"9954.519179687499\" y=\"155.0\" width=\"70.3203125\" height=\"40\" stroke=\"black\" fill=\"white\" stroke-width=\"1\" /><text x=\"9989.679335937499\" y=\"175.0\" dominant-baseline=\"middle\" text-anchor=\"middle\" font-size=\"14px\">X^qconv0</text><rect x=\"10044.839492187499\" y=\"155.0\" width=\"68.4390625\" height=\"40\" stroke=\"black\" fill=\"white\" stroke-width=\"1\" /><text x=\"10079.0590234375\" y=\"175.0\" dominant-baseline=\"middle\" text-anchor=\"middle\" font-size=\"14px\">Y^qconv1</text><rect x=\"10133.278554687498\" y=\"155.0\" width=\"69.2476171875\" height=\"40\" stroke=\"black\" fill=\"white\" stroke-width=\"1\" /><text x=\"10167.902363281248\" y=\"175.0\" dominant-baseline=\"middle\" text-anchor=\"middle\" font-size=\"14px\">Z^qconv2</text><rect x=\"10222.526171874999\" y=\"5.0\" width=\"70.3553125\" height=\"40\" stroke=\"black\" fill=\"white\" stroke-width=\"1\" /><text x=\"10257.703828124999\" y=\"25.0\" dominant-baseline=\"middle\" text-anchor=\"middle\" font-size=\"14px\">X^qconv3</text><rect x=\"10312.881484374999\" y=\"5.0\" width=\"70.3334375\" height=\"40\" stroke=\"black\" fill=\"white\" stroke-width=\"1\" /><text x=\"10348.048203125\" y=\"25.0\" dominant-baseline=\"middle\" text-anchor=\"middle\" font-size=\"14px\">Y^qconv4</text><rect x=\"10403.214921874998\" y=\"5.0\" width=\"69.4248046875\" height=\"40\" stroke=\"black\" fill=\"white\" stroke-width=\"1\" /><text x=\"10437.927324218748\" y=\"25.0\" dominant-baseline=\"middle\" text-anchor=\"middle\" font-size=\"14px\">Z^qconv5</text><rect x=\"10492.639726562498\" y=\"155.0\" width=\"77.90218750000001\" height=\"40\" stroke=\"black\" fill=\"white\" stroke-width=\"1\" /><text x=\"10531.590820312498\" y=\"175.0\" dominant-baseline=\"middle\" text-anchor=\"middle\" font-size=\"14px\">ZZ^qconv7</text><rect x=\"10492.639726562498\" y=\"5.0\" width=\"77.90218750000001\" height=\"40\" stroke=\"black\" fill=\"white\" stroke-width=\"1\" /><text x=\"10531.590820312498\" y=\"25.0\" dominant-baseline=\"middle\" text-anchor=\"middle\" font-size=\"14px\">ZZ</text><rect x=\"10590.541914062498\" y=\"155.0\" width=\"79.732578125\" height=\"40\" stroke=\"black\" fill=\"white\" stroke-width=\"1\" /><text x=\"10630.408203124998\" y=\"175.0\" dominant-baseline=\"middle\" text-anchor=\"middle\" font-size=\"14px\">YY^qconv8</text><rect x=\"10590.541914062498\" y=\"5.0\" width=\"79.732578125\" height=\"40\" stroke=\"black\" fill=\"white\" stroke-width=\"1\" /><text x=\"10630.408203124998\" y=\"25.0\" dominant-baseline=\"middle\" text-anchor=\"middle\" font-size=\"14px\">YY</text><rect x=\"10690.274492187498\" y=\"155.0\" width=\"79.712890625\" height=\"40\" stroke=\"black\" fill=\"white\" stroke-width=\"1\" /><text x=\"10730.130937499998\" y=\"175.0\" dominant-baseline=\"middle\" text-anchor=\"middle\" font-size=\"14px\">XX^qconv9</text><rect x=\"10690.274492187498\" y=\"5.0\" width=\"79.712890625\" height=\"40\" stroke=\"black\" fill=\"white\" stroke-width=\"1\" /><text x=\"10730.130937499998\" y=\"25.0\" dominant-baseline=\"middle\" text-anchor=\"middle\" font-size=\"14px\">XX</text><rect x=\"10789.987382812498\" y=\"155.0\" width=\"70.375\" height=\"40\" stroke=\"black\" fill=\"white\" stroke-width=\"1\" /><text x=\"10825.174882812498\" y=\"175.0\" dominant-baseline=\"middle\" text-anchor=\"middle\" font-size=\"14px\">X^qconv9</text><rect x=\"10880.362382812498\" y=\"155.0\" width=\"78.1261328125\" height=\"40\" stroke=\"black\" fill=\"white\" stroke-width=\"1\" /><text x=\"10919.425449218748\" y=\"175.0\" dominant-baseline=\"middle\" text-anchor=\"middle\" font-size=\"14px\">Y^qconv10</text><rect x=\"10978.488515624998\" y=\"155.0\" width=\"74.168125\" height=\"40\" stroke=\"black\" fill=\"white\" stroke-width=\"1\" /><text x=\"11015.572578124998\" y=\"175.0\" dominant-baseline=\"middle\" text-anchor=\"middle\" font-size=\"14px\">Z^qconv11</text><rect x=\"11072.656640624999\" y=\"5.0\" width=\"78.03863281250001\" height=\"40\" stroke=\"black\" fill=\"white\" stroke-width=\"1\" /><text x=\"11111.675957031248\" y=\"25.0\" dominant-baseline=\"middle\" text-anchor=\"middle\" font-size=\"14px\">X^qconv12</text><rect x=\"11170.695273437499\" y=\"5.0\" width=\"78.16113281250001\" height=\"40\" stroke=\"black\" fill=\"white\" stroke-width=\"1\" /><text x=\"11209.775839843749\" y=\"25.0\" dominant-baseline=\"middle\" text-anchor=\"middle\" font-size=\"14px\">Y^qconv13</text><rect x=\"11268.856406249999\" y=\"5.0\" width=\"77.095\" height=\"40\" stroke=\"black\" fill=\"white\" stroke-width=\"1\" /><text x=\"11307.40390625\" y=\"25.0\" dominant-baseline=\"middle\" text-anchor=\"middle\" font-size=\"14px\">Z^qconv14</text></svg>"
      ],
      "text/plain": [
       "<cirq.contrib.svg.svg.SVGCircuit at 0x2d1562a9550>"
      ]
     },
     "execution_count": 33,
     "metadata": {},
     "output_type": "execute_result"
    }
   ],
   "source": [
    "SVGCircuit(multi_readout_model_circuit(cluster_state_bits))"
   ]
  },
  {
   "cell_type": "markdown",
   "metadata": {
    "colab_type": "text",
    "id": "qDqoLZJuWcgH"
   },
   "source": [
    "#### 2.1.2 Train the model"
   ]
  },
  {
   "cell_type": "code",
   "execution_count": 34,
   "metadata": {
    "colab": {},
    "colab_type": "code",
    "id": "EyYw9kYIRCE7"
   },
   "outputs": [
    {
     "name": "stdout",
     "output_type": "stream",
     "text": [
      "Train on 56 samples, validate on 24 samples\n",
      "Epoch 1/25\n",
      "56/56 [==============================] - 1s 25ms/sample - loss: 1.0358 - custom_accuracy: 0.6250 - val_loss: 0.7038 - val_custom_accuracy: 0.7188\n",
      "Epoch 2/25\n",
      "56/56 [==============================] - 1s 10ms/sample - loss: 0.6138 - custom_accuracy: 0.8750 - val_loss: 0.6709 - val_custom_accuracy: 0.7188\n",
      "Epoch 3/25\n",
      "56/56 [==============================] - 1s 12ms/sample - loss: 0.4567 - custom_accuracy: 0.9062 - val_loss: 0.3137 - val_custom_accuracy: 1.0000\n",
      "Epoch 4/25\n",
      "56/56 [==============================] - 1s 10ms/sample - loss: 0.2672 - custom_accuracy: 0.9531 - val_loss: 0.2601 - val_custom_accuracy: 1.0000\n",
      "Epoch 5/25\n",
      "56/56 [==============================] - 1s 10ms/sample - loss: 0.2339 - custom_accuracy: 0.9531 - val_loss: 0.3186 - val_custom_accuracy: 0.9688\n",
      "Epoch 6/25\n",
      "56/56 [==============================] - 1s 10ms/sample - loss: 0.2094 - custom_accuracy: 0.9375 - val_loss: 0.2221 - val_custom_accuracy: 1.0000\n",
      "Epoch 7/25\n",
      "56/56 [==============================] - 1s 10ms/sample - loss: 0.1810 - custom_accuracy: 1.0000 - val_loss: 0.1549 - val_custom_accuracy: 1.0000\n",
      "Epoch 8/25\n",
      "56/56 [==============================] - 1s 11ms/sample - loss: 0.1610 - custom_accuracy: 1.0000 - val_loss: 0.2330 - val_custom_accuracy: 1.0000\n",
      "Epoch 9/25\n",
      "56/56 [==============================] - 1s 11ms/sample - loss: 0.1742 - custom_accuracy: 0.9844 - val_loss: 0.1082 - val_custom_accuracy: 1.0000\n",
      "Epoch 10/25\n",
      "56/56 [==============================] - 1s 10ms/sample - loss: 0.1524 - custom_accuracy: 0.9688 - val_loss: 0.1470 - val_custom_accuracy: 1.0000\n",
      "Epoch 11/25\n",
      "56/56 [==============================] - 1s 10ms/sample - loss: 0.1539 - custom_accuracy: 1.0000 - val_loss: 0.1735 - val_custom_accuracy: 1.0000\n",
      "Epoch 12/25\n",
      "56/56 [==============================] - 1s 10ms/sample - loss: 0.1503 - custom_accuracy: 1.0000 - val_loss: 0.1729 - val_custom_accuracy: 1.0000\n",
      "Epoch 13/25\n",
      "56/56 [==============================] - 1s 10ms/sample - loss: 0.1497 - custom_accuracy: 0.9688 - val_loss: 0.1933 - val_custom_accuracy: 1.0000\n",
      "Epoch 14/25\n",
      "56/56 [==============================] - 1s 10ms/sample - loss: 0.1471 - custom_accuracy: 1.0000 - val_loss: 0.1030 - val_custom_accuracy: 1.0000\n",
      "Epoch 15/25\n",
      "56/56 [==============================] - 1s 11ms/sample - loss: 0.1532 - custom_accuracy: 1.0000 - val_loss: 0.1325 - val_custom_accuracy: 1.0000\n",
      "Epoch 16/25\n",
      "56/56 [==============================] - 1s 13ms/sample - loss: 0.1433 - custom_accuracy: 1.0000 - val_loss: 0.1578 - val_custom_accuracy: 1.0000\n",
      "Epoch 17/25\n",
      "56/56 [==============================] - 1s 12ms/sample - loss: 0.1453 - custom_accuracy: 1.0000 - val_loss: 0.1305 - val_custom_accuracy: 1.0000\n",
      "Epoch 18/25\n",
      "56/56 [==============================] - 1s 10ms/sample - loss: 0.1619 - custom_accuracy: 1.0000 - val_loss: 0.1274 - val_custom_accuracy: 1.0000\n",
      "Epoch 19/25\n",
      "56/56 [==============================] - 1s 10ms/sample - loss: 0.1787 - custom_accuracy: 0.9844 - val_loss: 0.1596 - val_custom_accuracy: 1.0000\n",
      "Epoch 20/25\n",
      "56/56 [==============================] - 1s 10ms/sample - loss: 0.1478 - custom_accuracy: 1.0000 - val_loss: 0.1442 - val_custom_accuracy: 1.0000\n",
      "Epoch 21/25\n",
      "56/56 [==============================] - 1s 10ms/sample - loss: 0.1548 - custom_accuracy: 1.0000 - val_loss: 0.1692 - val_custom_accuracy: 1.0000\n",
      "Epoch 22/25\n",
      "56/56 [==============================] - 1s 10ms/sample - loss: 0.1402 - custom_accuracy: 1.0000 - val_loss: 0.1345 - val_custom_accuracy: 1.0000\n",
      "Epoch 23/25\n",
      "56/56 [==============================] - 1s 10ms/sample - loss: 0.1578 - custom_accuracy: 1.0000 - val_loss: 0.1264 - val_custom_accuracy: 1.0000\n",
      "Epoch 24/25\n",
      "56/56 [==============================] - 1s 10ms/sample - loss: 0.1522 - custom_accuracy: 1.0000 - val_loss: 0.1655 - val_custom_accuracy: 1.0000\n",
      "Epoch 25/25\n",
      "56/56 [==============================] - 1s 10ms/sample - loss: 0.1428 - custom_accuracy: 1.0000 - val_loss: 0.1165 - val_custom_accuracy: 1.0000\n"
     ]
    }
   ],
   "source": [
    "# Generate some training data.\n",
    "#train_excitations, train_labels, test_excitations, test_labels = generate_data(\n",
    "#    cluster_state_bits)\n",
    "\n",
    "hybrid_model.compile(optimizer=tf.keras.optimizers.Adam(learning_rate=0.02),\n",
    "                     loss=tf.losses.mse,\n",
    "                     metrics=[custom_accuracy])\n",
    "\n",
    "hybrid_history = hybrid_model.fit(x=train_excitations,\n",
    "                                  y=train_labels,\n",
    "                                  batch_size=16,\n",
    "                                  epochs=25,\n",
    "                                  verbose=1,\n",
    "                                  validation_data=(test_excitations,\n",
    "                                                   test_labels))"
   ]
  },
  {
   "cell_type": "markdown",
   "metadata": {},
   "source": [
    "# 2.1.2 Hybrid convolution with leakage"
   ]
  },
  {
   "cell_type": "code",
   "execution_count": 55,
   "metadata": {},
   "outputs": [
    {
     "name": "stdout",
     "output_type": "stream",
     "text": [
      "Failed to import pydot. You must install pydot and graphviz for `pydotprint` to work.\n"
     ]
    }
   ],
   "source": [
    "# 1-local operators to read out\n",
    "all_bits = cirq.GridQubit.rect(1, 12)\n",
    "cluster_state_bits = all_bits[:4]\n",
    "readout_bits = all_bits[8:]\n",
    "\n",
    "readouts = [cirq.Z(bit) for bit in readout_bits]\n",
    "\n",
    "def multi_readout_model_leak_circuit(qubits):\n",
    "    \"\"\"Make a model circuit with less quantum pool and conv operations.\"\"\"\n",
    "    model_circuit = cirq.Circuit()\n",
    "    symbols = sympy.symbols('qconv0:20')\n",
    "#     model_circuit += quantum_conv_circuit(qubits, symbols[0:15])\n",
    "#     model_circuit += quantum_pool_circuit(qubits[:4], qubits[4:],\n",
    "#                                           symbols[15:21])\n",
    "\n",
    "    model_circuit += quantum_conv_circuit(qubits[:4], symbols[:15])\n",
    "    \n",
    "    model_circuit += quantum_leakage_circuit(qubits[:4], qubits[4:8], # independent leakage parameter for each qubit\n",
    "                                          symbols[15:])\n",
    "    \n",
    "    model_circuit += quantum_conv_circuit(qubits[:4], symbols[:15])\n",
    "    \n",
    "#     model_circuit += quantum_conv_circuit(qubits[:8], symbols[16:31])\n",
    "    \n",
    "    model_circuit += quantum_OR_circuit(qubits[:4], qubits[4:8], qubits[8:])\n",
    "    \n",
    "    return model_circuit\n",
    "\n",
    "\n",
    "# Build a model enacting the logic in 2.1 of this notebook.\n",
    "excitation_input_dual = tf.keras.Input(shape=(), dtype=tf.dtypes.string)\n",
    "\n",
    "cluster_state_dual = tfq.layers.AddCircuit()(\n",
    "    excitation_input_dual, prepend=cluster_state_circuit(cluster_state_bits))\n",
    "\n",
    "quantum_model_dual = tfq.layers.PQC(\n",
    "    multi_readout_model_leak_circuit(all_bits),\n",
    "    readouts)(cluster_state_dual)\n",
    "\n",
    "# d1_dual = tf.keras.layers.Dense(4)(quantum_model_dual)\n",
    "\n",
    "# d2_dual = tf.keras.layers.Dense(1)(d1_dual)\n",
    "\n",
    "d2_dual = tf.keras.layers.Dense(1, activation='linear')(quantum_model_dual)\n",
    "\n",
    "hybrid_leak_model = tf.keras.Model(inputs=[excitation_input_dual], outputs=[d2_dual])\n",
    "\n",
    "# Display the model architecture\n",
    "tf.keras.utils.plot_model(hybrid_leak_model,\n",
    "                          show_shapes=True,\n",
    "                          show_layer_names=False,\n",
    "                          dpi=70)"
   ]
  },
  {
   "cell_type": "code",
   "execution_count": 56,
   "metadata": {},
   "outputs": [
    {
     "name": "stdout",
     "output_type": "stream",
     "text": [
      "Train on 56 samples, validate on 24 samples\n",
      "Epoch 1/25\n",
      "56/56 [==============================] - 2s 44ms/sample - loss: 0.8868 - custom_accuracy: 0.7188 - val_loss: 0.8165 - val_custom_accuracy: 0.7500\n",
      "Epoch 2/25\n",
      "56/56 [==============================] - 2s 31ms/sample - loss: 0.6312 - custom_accuracy: 0.8594 - val_loss: 0.5587 - val_custom_accuracy: 1.0000\n",
      "Epoch 3/25\n",
      "56/56 [==============================] - 2s 31ms/sample - loss: 0.4473 - custom_accuracy: 0.9844 - val_loss: 0.4266 - val_custom_accuracy: 1.0000\n",
      "Epoch 4/25\n",
      "56/56 [==============================] - 2s 37ms/sample - loss: 0.3583 - custom_accuracy: 0.9688 - val_loss: 0.3032 - val_custom_accuracy: 1.0000\n",
      "Epoch 5/25\n",
      "56/56 [==============================] - 2s 31ms/sample - loss: 0.2623 - custom_accuracy: 1.0000 - val_loss: 0.2005 - val_custom_accuracy: 1.0000\n",
      "Epoch 6/25\n",
      "56/56 [==============================] - 2s 31ms/sample - loss: 0.2176 - custom_accuracy: 1.0000 - val_loss: 0.2545 - val_custom_accuracy: 1.0000\n",
      "Epoch 7/25\n",
      "56/56 [==============================] - 2s 31ms/sample - loss: 0.1827 - custom_accuracy: 0.9844 - val_loss: 0.1930 - val_custom_accuracy: 1.0000\n",
      "Epoch 8/25\n",
      "56/56 [==============================] - 2s 32ms/sample - loss: 0.1956 - custom_accuracy: 0.9531 - val_loss: 0.1486 - val_custom_accuracy: 1.0000\n",
      "Epoch 9/25\n",
      "56/56 [==============================] - 2s 34ms/sample - loss: 0.1633 - custom_accuracy: 0.9844 - val_loss: 0.2763 - val_custom_accuracy: 0.9375\n",
      "Epoch 10/25\n",
      "56/56 [==============================] - 2s 32ms/sample - loss: 0.1798 - custom_accuracy: 0.9844 - val_loss: 0.1222 - val_custom_accuracy: 1.0000\n",
      "Epoch 11/25\n",
      "56/56 [==============================] - 2s 33ms/sample - loss: 0.1737 - custom_accuracy: 0.9844 - val_loss: 0.1628 - val_custom_accuracy: 1.0000\n",
      "Epoch 12/25\n",
      "56/56 [==============================] - 2s 34ms/sample - loss: 0.1570 - custom_accuracy: 1.0000 - val_loss: 0.0996 - val_custom_accuracy: 1.0000\n",
      "Epoch 13/25\n",
      "56/56 [==============================] - 2s 37ms/sample - loss: 0.1633 - custom_accuracy: 0.9688 - val_loss: 0.1830 - val_custom_accuracy: 1.0000\n",
      "Epoch 14/25\n",
      "56/56 [==============================] - 2s 32ms/sample - loss: 0.1646 - custom_accuracy: 1.0000 - val_loss: 0.1432 - val_custom_accuracy: 1.0000\n",
      "Epoch 15/25\n",
      "56/56 [==============================] - 2s 37ms/sample - loss: 0.1398 - custom_accuracy: 1.0000 - val_loss: 0.2240 - val_custom_accuracy: 0.9375\n",
      "Epoch 16/25\n",
      "56/56 [==============================] - 2s 32ms/sample - loss: 0.1663 - custom_accuracy: 0.9531 - val_loss: 0.1455 - val_custom_accuracy: 1.0000\n",
      "Epoch 17/25\n",
      "56/56 [==============================] - 2s 33ms/sample - loss: 0.1869 - custom_accuracy: 0.9531 - val_loss: 0.0990 - val_custom_accuracy: 1.0000\n",
      "Epoch 18/25\n",
      "56/56 [==============================] - 2s 33ms/sample - loss: 0.1607 - custom_accuracy: 1.0000 - val_loss: 0.2810 - val_custom_accuracy: 0.9375\n",
      "Epoch 19/25\n",
      "56/56 [==============================] - 2s 33ms/sample - loss: 0.1728 - custom_accuracy: 0.9688 - val_loss: 0.1298 - val_custom_accuracy: 1.0000\n",
      "Epoch 20/25\n",
      "56/56 [==============================] - 2s 33ms/sample - loss: 0.1424 - custom_accuracy: 1.0000 - val_loss: 0.1186 - val_custom_accuracy: 1.0000\n",
      "Epoch 21/25\n",
      "56/56 [==============================] - 2s 40ms/sample - loss: 0.1472 - custom_accuracy: 1.0000 - val_loss: 0.1456 - val_custom_accuracy: 1.0000\n",
      "Epoch 22/25\n",
      "56/56 [==============================] - 2s 33ms/sample - loss: 0.1576 - custom_accuracy: 0.9844 - val_loss: 0.2089 - val_custom_accuracy: 1.0000\n",
      "Epoch 23/25\n",
      "56/56 [==============================] - 2s 31ms/sample - loss: 0.1527 - custom_accuracy: 1.0000 - val_loss: 0.1229 - val_custom_accuracy: 1.0000\n",
      "Epoch 24/25\n",
      "56/56 [==============================] - 2s 33ms/sample - loss: 0.1517 - custom_accuracy: 1.0000 - val_loss: 0.1456 - val_custom_accuracy: 1.0000\n",
      "Epoch 25/25\n",
      "56/56 [==============================] - 2s 32ms/sample - loss: 0.1547 - custom_accuracy: 0.9688 - val_loss: 0.2171 - val_custom_accuracy: 0.9375\n"
     ]
    }
   ],
   "source": [
    "# Generate some training data.\n",
    "#train_excitations, train_labels, test_excitations, test_labels = generate_data(\n",
    "#    cluster_state_bits)\n",
    "\n",
    "hybrid_leak_model.compile(optimizer=tf.keras.optimizers.Adam(learning_rate=0.02),\n",
    "                     loss=tf.losses.mse,\n",
    "                     metrics=[custom_accuracy])\n",
    "\n",
    "hybrid_leak_history = hybrid_leak_model.fit(x=train_excitations,\n",
    "                                  y=train_labels,\n",
    "                                  batch_size=16,\n",
    "                                  epochs=25,\n",
    "                                  verbose=1,\n",
    "                                  validation_data=(test_excitations,\n",
    "                                                   test_labels))"
   ]
  },
  {
   "cell_type": "code",
   "execution_count": 57,
   "metadata": {},
   "outputs": [
    {
     "data": {
      "image/png": "[encoded data removed]",
      "text/plain": [
       "<Figure size 432x288 with 1 Axes>"
      ]
     },
     "metadata": {
      "needs_background": "light"
     },
     "output_type": "display_data"
    }
   ],
   "source": [
    "plt.plot(history.history['val_custom_accuracy'], label='QCNN')\n",
    "plt.plot(hybrid_history.history['val_custom_accuracy'], label='Hybrid CNN')\n",
    "plt.plot(hybrid_leak_history.history['val_custom_accuracy'], label='Hybrid leaking CNN')\n",
    "plt.title('Quantum vs Hybrid vs Hybrid with leakage CNN performance')\n",
    "plt.xlabel('Epochs')\n",
    "plt.legend()\n",
    "plt.ylabel('Validation Accuracy')\n",
    "plt.show()"
   ]
  },
  {
   "cell_type": "code",
   "execution_count": 58,
   "metadata": {},
   "outputs": [
    {
     "data": {
      "image/png": "[encoded data removed]",
      "text/plain": [
       "<Figure size 432x288 with 1 Axes>"
      ]
     },
     "metadata": {
      "needs_background": "light"
     },
     "output_type": "display_data"
    }
   ],
   "source": [
    "plt.plot(hybrid_history.history['loss'][1:], label='Training')\n",
    "plt.plot(hybrid_history.history['val_loss'][1:], label='Validation')\n",
    "plt.title('Training a Quantum CNN to Detect Excited Cluster States')\n",
    "plt.xlabel('Epochs')\n",
    "plt.ylabel('Loss')\n",
    "plt.legend()\n",
    "plt.show()"
   ]
  },
  {
   "cell_type": "code",
   "execution_count": 59,
   "metadata": {},
   "outputs": [
    {
     "data": {
      "image/png": "[encoded data removed]",
      "text/plain": [
       "<Figure size 432x288 with 1 Axes>"
      ]
     },
     "metadata": {
      "needs_background": "light"
     },
     "output_type": "display_data"
    }
   ],
   "source": [
    "plt.plot(hybrid_leak_history.history['loss'][1:], label='Training')\n",
    "plt.plot(hybrid_leak_history.history['val_loss'][1:], label='Validation')\n",
    "plt.title('Training a Quantum CNN to Detect Excited Cluster States')\n",
    "plt.xlabel('Epochs')\n",
    "plt.ylabel('Loss')\n",
    "plt.legend()\n",
    "plt.show()"
   ]
  },
  {
   "cell_type": "code",
   "execution_count": 60,
   "metadata": {},
   "outputs": [
    {
     "data": {
      "text/plain": [
       "[<tf.Variable 'parameters:0' shape=(18,) dtype=float32, numpy=\n",
       " array([3.873778  , 3.9501002 , 1.4452899 , 2.8388426 , 0.5243659 ,\n",
       "        5.0294104 , 0.26997712, 1.9665773 , 0.02655507, 4.741662  ,\n",
       "        4.991565  , 5.4817276 , 6.0189695 , 0.5200222 , 4.0242515 ,\n",
       "        4.231884  , 1.0039533 , 0.52620935], dtype=float32)>,\n",
       " <tf.Variable 'dense_2/kernel:0' shape=(4, 1) dtype=float32, numpy=\n",
       " array([[ 0.3244402 ],\n",
       "        [ 0.14986253],\n",
       "        [-1.4409395 ],\n",
       "        [-1.1090655 ]], dtype=float32)>,\n",
       " <tf.Variable 'dense_2/bias:0' shape=(1,) dtype=float32, numpy=array([-0.23941311], dtype=float32)>]"
      ]
     },
     "execution_count": 60,
     "metadata": {},
     "output_type": "execute_result"
    }
   ],
   "source": [
    "hybrid_leak_model.trainable_variables"
   ]
  },
  {
   "cell_type": "markdown",
   "metadata": {
    "colab_type": "text",
    "id": "nVUtWLZnRRDE"
   },
   "source": [
    "### 2.2 Hybrid convolution with multiple quantum filters\n",
    "\n",
    "Now let's try an architecture that uses multiple quantum convolutions and a classical neural network to combine them.\n",
    "\n",
    "<img src=\"./images/qcnn_6.png\" width=\"1000\">"
   ]
  },
  {
   "cell_type": "markdown",
   "metadata": {
    "colab_type": "text",
    "id": "Ldo_m5P3YBV7"
   },
   "source": [
    "#### 2.2.1 Model definition"
   ]
  },
  {
   "cell_type": "code",
   "execution_count": 26,
   "metadata": {
    "colab": {},
    "colab_type": "code",
    "id": "W3TkNVm9RTBj"
   },
   "outputs": [
    {
     "name": "stdout",
     "output_type": "stream",
     "text": [
      "Failed to import pydot. You must install pydot and graphviz for `pydotprint` to work.\n"
     ]
    }
   ],
   "source": [
    "excitation_input_multi = tf.keras.Input(shape=(), dtype=tf.dtypes.string)\n",
    "\n",
    "cluster_state_multi = tfq.layers.AddCircuit()(\n",
    "    excitation_input_multi, prepend=cluster_state_circuit(cluster_state_bits))\n",
    "\n",
    "# apply 3 different filters and measure expectation values\n",
    "\n",
    "quantum_model_multi1 = tfq.layers.PQC(\n",
    "    multi_readout_model_circuit(cluster_state_bits),\n",
    "    readouts)(cluster_state_multi)\n",
    "\n",
    "quantum_model_multi2 = tfq.layers.PQC(\n",
    "    multi_readout_model_circuit(cluster_state_bits),\n",
    "    readouts)(cluster_state_multi)\n",
    "\n",
    "quantum_model_multi3 = tfq.layers.PQC(\n",
    "    multi_readout_model_circuit(cluster_state_bits),\n",
    "    readouts)(cluster_state_multi)\n",
    "\n",
    "# concatenate outputs and feed into a small classical NN\n",
    "concat_out = tf.keras.layers.concatenate(\n",
    "    [quantum_model_multi1, quantum_model_multi2, quantum_model_multi3])\n",
    "\n",
    "dense_1 = tf.keras.layers.Dense(8)(concat_out)\n",
    "\n",
    "dense_2 = tf.keras.layers.Dense(1)(dense_1)\n",
    "\n",
    "multi_qconv_model = tf.keras.Model(inputs=[excitation_input_multi],\n",
    "                                   outputs=[dense_2])\n",
    "\n",
    "# Display the model architecture\n",
    "tf.keras.utils.plot_model(multi_qconv_model,\n",
    "                          show_shapes=True,\n",
    "                          show_layer_names=True,\n",
    "                          dpi=70)"
   ]
  },
  {
   "cell_type": "markdown",
   "metadata": {
    "colab_type": "text",
    "id": "2eNhDWwKY9N4"
   },
   "source": [
    "#### 2.2.2 Train the model"
   ]
  },
  {
   "cell_type": "code",
   "execution_count": 27,
   "metadata": {
    "colab": {},
    "colab_type": "code",
    "id": "suRvxcAKRZK6"
   },
   "outputs": [
    {
     "name": "stdout",
     "output_type": "stream",
     "text": [
      "Train on 112 samples, validate on 48 samples\n",
      "Epoch 1/25\n",
      "112/112 [==============================] - 3s 31ms/sample - loss: 0.9056 - custom_accuracy: 0.5982 - val_loss: 0.7414 - val_custom_accuracy: 0.7708\n",
      "Epoch 2/25\n",
      "112/112 [==============================] - 2s 14ms/sample - loss: 0.6125 - custom_accuracy: 0.7768 - val_loss: 0.3953 - val_custom_accuracy: 0.8958\n",
      "Epoch 3/25\n",
      "112/112 [==============================] - 2s 14ms/sample - loss: 0.2967 - custom_accuracy: 0.9196 - val_loss: 0.2199 - val_custom_accuracy: 0.9583\n",
      "Epoch 4/25\n",
      "112/112 [==============================] - 2s 14ms/sample - loss: 0.2299 - custom_accuracy: 0.9643 - val_loss: 0.3186 - val_custom_accuracy: 0.9375\n",
      "Epoch 5/25\n",
      "112/112 [==============================] - 2s 14ms/sample - loss: 0.2521 - custom_accuracy: 0.9643 - val_loss: 0.2378 - val_custom_accuracy: 0.9792\n",
      "Epoch 6/25\n",
      "112/112 [==============================] - 2s 14ms/sample - loss: 0.2026 - custom_accuracy: 0.9911 - val_loss: 0.2087 - val_custom_accuracy: 0.9792\n",
      "Epoch 7/25\n",
      "112/112 [==============================] - 2s 14ms/sample - loss: 0.2090 - custom_accuracy: 0.9643 - val_loss: 0.3530 - val_custom_accuracy: 0.8958\n",
      "Epoch 8/25\n",
      "112/112 [==============================] - 2s 14ms/sample - loss: 0.2213 - custom_accuracy: 0.9821 - val_loss: 0.2496 - val_custom_accuracy: 0.9583\n",
      "Epoch 9/25\n",
      "112/112 [==============================] - 2s 14ms/sample - loss: 0.2120 - custom_accuracy: 0.9821 - val_loss: 0.2079 - val_custom_accuracy: 0.9583\n",
      "Epoch 10/25\n",
      "112/112 [==============================] - 2s 14ms/sample - loss: 0.2031 - custom_accuracy: 0.9643 - val_loss: 0.2319 - val_custom_accuracy: 0.9792\n",
      "Epoch 11/25\n",
      "112/112 [==============================] - 2s 14ms/sample - loss: 0.2244 - custom_accuracy: 0.9732 - val_loss: 0.2170 - val_custom_accuracy: 0.9583\n",
      "Epoch 12/25\n",
      "112/112 [==============================] - 2s 14ms/sample - loss: 0.2070 - custom_accuracy: 0.9911 - val_loss: 0.2239 - val_custom_accuracy: 1.0000\n",
      "Epoch 13/25\n",
      "112/112 [==============================] - 2s 14ms/sample - loss: 0.2096 - custom_accuracy: 0.9911 - val_loss: 0.2161 - val_custom_accuracy: 0.9583\n",
      "Epoch 14/25\n",
      "112/112 [==============================] - 2s 14ms/sample - loss: 0.2055 - custom_accuracy: 0.9911 - val_loss: 0.2395 - val_custom_accuracy: 0.9375\n",
      "Epoch 15/25\n",
      "112/112 [==============================] - 2s 14ms/sample - loss: 0.2158 - custom_accuracy: 1.0000 - val_loss: 0.2054 - val_custom_accuracy: 0.9583\n",
      "Epoch 16/25\n",
      "112/112 [==============================] - 2s 14ms/sample - loss: 0.2225 - custom_accuracy: 0.9554 - val_loss: 0.2311 - val_custom_accuracy: 0.9583\n",
      "Epoch 17/25\n",
      "112/112 [==============================] - 2s 14ms/sample - loss: 0.1916 - custom_accuracy: 0.9821 - val_loss: 0.2121 - val_custom_accuracy: 0.9792\n",
      "Epoch 18/25\n",
      "112/112 [==============================] - 2s 14ms/sample - loss: 0.1959 - custom_accuracy: 0.9732 - val_loss: 0.2517 - val_custom_accuracy: 0.9792\n",
      "Epoch 19/25\n",
      "112/112 [==============================] - 2s 14ms/sample - loss: 0.2069 - custom_accuracy: 0.9643 - val_loss: 0.2497 - val_custom_accuracy: 0.9375\n",
      "Epoch 20/25\n",
      "112/112 [==============================] - 2s 14ms/sample - loss: 0.2071 - custom_accuracy: 0.9911 - val_loss: 0.2162 - val_custom_accuracy: 1.0000\n",
      "Epoch 21/25\n",
      "112/112 [==============================] - 2s 14ms/sample - loss: 0.1911 - custom_accuracy: 0.9911 - val_loss: 0.2114 - val_custom_accuracy: 0.9583\n",
      "Epoch 22/25\n",
      "112/112 [==============================] - 2s 14ms/sample - loss: 0.1994 - custom_accuracy: 0.9911 - val_loss: 0.2173 - val_custom_accuracy: 0.9583\n",
      "Epoch 23/25\n",
      "112/112 [==============================] - 2s 14ms/sample - loss: 0.1924 - custom_accuracy: 0.9643 - val_loss: 0.2548 - val_custom_accuracy: 0.9583\n",
      "Epoch 24/25\n",
      "112/112 [==============================] - 2s 14ms/sample - loss: 0.2113 - custom_accuracy: 0.9911 - val_loss: 0.2084 - val_custom_accuracy: 0.9583\n",
      "Epoch 25/25\n",
      "112/112 [==============================] - 2s 14ms/sample - loss: 0.1952 - custom_accuracy: 0.9821 - val_loss: 0.2699 - val_custom_accuracy: 0.9583\n"
     ]
    }
   ],
   "source": [
    "multi_qconv_model.compile(\n",
    "    optimizer=tf.keras.optimizers.Adam(learning_rate=0.02),\n",
    "    loss=tf.losses.mse,\n",
    "    metrics=[custom_accuracy])\n",
    "\n",
    "multi_qconv_history = multi_qconv_model.fit(x=train_excitations,\n",
    "                                            y=train_labels,\n",
    "                                            batch_size=16,\n",
    "                                            epochs=25,\n",
    "                                            verbose=1,\n",
    "                                            validation_data=(test_excitations,\n",
    "                                                             test_labels))"
   ]
  },
  {
   "cell_type": "code",
   "execution_count": 28,
   "metadata": {
    "colab": {},
    "colab_type": "code",
    "id": "-6NR7yAQRmOU"
   },
   "outputs": [
    {
     "data": {
      "image/png": "[encoded data removed]",
      "text/plain": [
       "<Figure size 432x288 with 1 Axes>"
      ]
     },
     "metadata": {
      "needs_background": "light"
     },
     "output_type": "display_data"
    }
   ],
   "source": [
    "plt.plot(history.history['val_custom_accuracy'][:25], label='QCNN')\n",
    "plt.plot(hybrid_history.history['val_custom_accuracy'][:25], label='Hybrid CNN')\n",
    "plt.plot(multi_qconv_history.history['val_custom_accuracy'][:25],\n",
    "         label='Hybrid CNN \\n Multiple Quantum Filters')\n",
    "plt.title('Quantum vs Hybrid CNN performance')\n",
    "plt.xlabel('Epochs')\n",
    "plt.legend()\n",
    "plt.ylabel('Validation Accuracy')\n",
    "plt.show()"
   ]
  }
 ],
 "metadata": {
  "colab": {
   "collapsed_sections": [],
   "name": "qcnn.ipynb",
   "private_outputs": true,
   "provenance": [],
   "toc_visible": true
  },
  "kernelspec": {
   "display_name": "Python 3",
   "language": "python",
   "name": "python3"
  },
  "language_info": {
   "codemirror_mode": {
    "name": "ipython",
    "version": 3
   },
   "file_extension": ".py",
   "mimetype": "text/x-python",
   "name": "python",
   "nbconvert_exporter": "python",
   "pygments_lexer": "ipython3",
   "version": "3.6.10"
  }
 },
 "nbformat": 4,
 "nbformat_minor": 1
}
