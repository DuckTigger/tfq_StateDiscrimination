{
 "cells": [
  {
   "cell_type": "code",
   "execution_count": 3,
   "metadata": {
    "collapsed": true
   },
   "outputs": [],
   "source": [
    "import cirq\n",
    "import tensorflow_quantum as tfq\n",
    "import tensorflow as tf\n",
    "import numpy as np\n",
    "\n",
    "from encode_state import EncodeState\n",
    "from input_circuits import InputCircuits\n",
    "from loss import DiscriminationLoss"
   ]
  },
  {
   "cell_type": "markdown",
   "source": [
    "Here we will simply print the circuits and loss function used for state discrimination."
   ],
   "metadata": {
    "collapsed": false,
    "pycharm": {
     "name": "#%% md\n"
    }
   }
  },
  {
   "cell_type": "code",
   "execution_count": 4,
   "outputs": [
    {
     "name": "stdout",
     "output_type": "stream",
     "text": [
      "(0, 0): ───X^layer0_0───Y^layer0_1────Z^layer0_2────@─────────────────────────────────────────X───────────────────────X^layer1_0───Y^layer1_1───Z^layer1_2───@──────────────────────────X───────────────────────\n",
      "                                                    │                                         │                                                              │                          │\n",
      "(0, 1): ───X^layer0_3───Y^layer0_4────Z^layer0_5────X^layer0_12───@───────────────────────────┼───────────────────────X^layer1_3───Y^layer1_4───Z^layer1_5───X^layer1_9───@─────────────┼───────────────────────\n",
      "                                                                  │                           │                                                                           │             │\n",
      "(1, 0): ───X^layer0_6───Y^layer0_7────Z^layer0_8──────────────────X^layer0_13───@─────────────┼───────────────────────X^layer1_6───Y^layer1_7───Z^layer1_8────────────────X^layer1_10───@^layer1_11───M('m1')───\n",
      "                                                                                │             │\n",
      "(1, 1): ───X^layer0_9───Y^layer0_10───Z^layer0_11───────────────────────────────X^layer0_14───@^layer0_15───M('m0')─────────────────────────────────────────────────────────────────────────────────────────────\n"
     ]
    }
   ],
   "source": [
    "n = 4\n",
    "state_creator = InputCircuits(n)\n",
    "circuit_creator = EncodeState(n)\n",
    "\n",
    "discrimination_circuit = circuit_creator.discrimination_circuit()\n",
    "\n",
    "print(discrimination_circuit)"
   ],
   "metadata": {
    "collapsed": false,
    "pycharm": {
     "name": "#%%\n"
    }
   }
  },
  {
   "cell_type": "markdown",
   "source": [
    "The states to be discriminated can also be written as two circuits:"
   ],
   "metadata": {
    "collapsed": false,
    "pycharm": {
     "name": "#%% md\n"
    }
   }
  },
  {
   "cell_type": "code",
   "execution_count": 12,
   "outputs": [
    {
     "name": "stdout",
     "output_type": "stream",
     "text": [
      "(0, 0): ───X───iSwap──────────\n",
      "               │\n",
      "(0, 1): ───────iSwap^-0.329───\n",
      "\n",
      "(1, 0): ───Z──────────────────\n",
      "\n",
      "(1, 1): ───Z────────────────── \n",
      "\n",
      "\n",
      "(0, 0): ───Ry(0.709π)───\n",
      "\n",
      "(0, 1): ───Z────────────\n",
      "\n",
      "(1, 0): ───Z────────────\n",
      "\n",
      "(1, 1): ───Z────────────\n"
     ]
    }
   ],
   "source": [
    "circuits, labels = state_creator.discrimination_circuits_labels(total_states=10, mu_a = 0.9)\n",
    "a_circuit = circuits[labels.index(0)]\n",
    "b_circuit = circuits[labels.index(1)]\n",
    "print(a_circuit, '\\n\\n')\n",
    "print(b_circuit)"
   ],
   "metadata": {
    "collapsed": false,
    "pycharm": {
     "name": "#%%\n"
    }
   }
  },
  {
   "cell_type": "markdown",
   "source": [
    "In this scheme we arbitrarily label the measurement outcomes: $|00\\rangle: a, |01\\rangle: b, |10\\rangle: a, |11\\rangle: \\textrm{inconclusive}$.\n",
    "We can separatley penalise inconclusive and erroneous outcomes in the loss function, but for simplicity, we will weight them equally.\n",
    "\n",
    "So for each circuit, the probability, $P(|00\\rangle + |10\\rangle)$ is the probability the circuit records the input as an $a$ state,\n",
    "$P(|01 \\rangle)$ is the same for $b$, and $P(|11\\rangle)$ is the inconclusive probability.\n",
    "So dependent on the input state, the loss is a weighted sum of these probabilities.\n",
    "When the input state is $a$ the loss is: $\\alpha_{err} P(|01\\rangle) + \\alpha_{inc} P(|11\\rangle)$\n",
    "When the input state is $b$ the loss is: $\\alpha_{err}P(|00\\rangle + |10\\rangle) + \\alpha_{inc} P(|11\\rangle)$.\n",
    "\n",
    "The loss function for this implementation is given in: loss.py"
   ],
   "metadata": {
    "collapsed": false,
    "pycharm": {
     "name": "#%% md\n"
    }
   }
  },
  {
   "cell_type": "code",
   "execution_count": 16,
   "outputs": [
    {
     "name": "stdout",
     "output_type": "stream",
     "text": [
      "import tensorflow as tf\n",
      "from typing import List\n",
      "\n",
      "\n",
      "class DiscriminationLoss:\n",
      "\n",
      "    def __init__(self, w_error: float, w_inconclusive: float):\n",
      "        self.w_inconclusive = w_inconclusive\n",
      "        self.w_error = w_error\n",
      "\n",
      "    @tf.function\n",
      "    def discrimination_loss(self, y_label, y_measurement):\n",
      "        y_label = tf.cast(y_label, tf.float32)\n",
      "        error, inconclusive = tf.map_fn(lambda x: self.measurement_to_loss(x[0], x[1]), (y_measurement, y_label))\n",
      "        loss_vec = tf.add(error, inconclusive)\n",
      "        return tf.reduce_mean(loss_vec)\n",
      "\n",
      "    def measurement_to_loss(self, measurement: tf.Tensor, label: tf.Tensor):\n",
      "        measurement = tf.squeeze(measurement)\n",
      "        probs = self.m_outcome_to_probs(measurement)\n",
      "        return self.probs_to_err_inc(label, probs)\n",
      "\n",
      "    def probs_to_err_inc(self, label: tf.Tensor, probs: tf.Tensor):\n",
      "        # 1 == a, 0 == b\n",
      "        fn_a = lambda: tf.gather(probs, 1)\n",
      "        fn_b = lambda: tf.add(tf.gather(probs, 0), tf.gather(probs, 2))\n",
      "        error = tf.case([(tf.equal(label, 1), fn_a)], default=fn_b)\n",
      "        error *= self.w_error\n",
      "        inconclusive = tf.gather(probs, 3)\n",
      "        inconclusive *= self.w_inconclusive\n",
      "        return error, inconclusive\n",
      "\n",
      "    @staticmethod\n",
      "    def m_outcome_to_probs(measurement: tf.Tensor):\n",
      "        measurement = tf.divide(tf.add(measurement, 1), 2)\n",
      "        prob_0 = lambda x: 1 - x\n",
      "        qubit_0 = tf.gather(measurement, 0)\n",
      "        qubit_1 = tf.gather(measurement, 1)\n",
      "        prob_00 = tf.add(prob_0(qubit_0), prob_0(qubit_1)) / 4\n",
      "        prob_01 = tf.add(prob_0(qubit_0), qubit_1) / 4\n",
      "        prob_10 = tf.add(qubit_0, prob_0(qubit_1)) / 4\n",
      "        prob_11 = tf.reduce_sum(measurement) / 4\n",
      "        return tf.stack([prob_00, prob_01, prob_10, prob_11])\n"
     ]
    }
   ],
   "source": [
    "with open('../loss.py', 'r') as f:\n",
    "    contents = f.read()\n",
    "print(contents)"
   ],
   "metadata": {
    "collapsed": false,
    "pycharm": {
     "name": "#%%\n"
    }
   }
  }
 ],
 "metadata": {
  "kernelspec": {
   "display_name": "Python 3",
   "language": "python",
   "name": "python3"
  },
  "language_info": {
   "codemirror_mode": {
    "name": "ipython",
    "version": 2
   },
   "file_extension": ".py",
   "mimetype": "text/x-python",
   "name": "python",
   "nbconvert_exporter": "python",
   "pygments_lexer": "ipython2",
   "version": "2.7.6"
  }
 },
 "nbformat": 4,
 "nbformat_minor": 0
}